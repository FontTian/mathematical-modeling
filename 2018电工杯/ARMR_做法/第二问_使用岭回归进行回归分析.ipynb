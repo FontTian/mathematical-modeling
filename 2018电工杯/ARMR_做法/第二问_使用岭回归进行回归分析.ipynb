{
 "cells": [
  {
   "cell_type": "code",
   "execution_count": 3,
   "metadata": {},
   "outputs": [
    {
     "name": "stdout",
     "output_type": "stream",
     "text": [
      "Index(['年末人口(万)', '人均可支配收入(城镇)', '人均可支配收入(农村)', '商品房销售面积(平方米)',\n",
      "       '房地产开发投资总额(万元)', '居民消费价格指数', '生产总值(亿元)', '储蓄存款余额(亿元)', '商品房价格(万元)'],\n",
      "      dtype='object')\n"
     ]
    }
   ],
   "source": [
    "import pandas as pd\n",
    "import numpy as np\n",
    "\n",
    "path = \"//home/font/Data/MM/neepu/\"\n",
    "filename_sanya = '三亚.csv'\n",
    "filename_haikou = '海口.csv'\n",
    "data_sanya = pd.read_csv((path+filename_sanya),index_col='Time')\n",
    "data_haikou = pd.read_csv((path+filename_haikou),index_col='Time')\n",
    "# mmercial housing sold = CHS,Consumer price index = CPI,Gross production = GP,housing price =HP\n",
    "columns = ['Total_pop','PCDI(city)','PCDI(countryside)','CHS','Total_inv','CPI','GP','Balance','HP']\n",
    "\n",
    "print(data_sanya.columns)\n",
    "data_sanya.columns =columns\n",
    "data_sanya.index = pd.to_datetime(data_sanya.index)\n",
    "\n",
    "data_haikou.columns =columns\n",
    "data_haikou.index = pd.to_datetime(data_haikou.index)"
   ]
  },
  {
   "cell_type": "code",
   "execution_count": 10,
   "metadata": {},
   "outputs": [],
   "source": [
    "from sklearn.preprocessing import StandardScaler\n",
    "def StandardScalerData(DataFrame):\n",
    "    scaler = StandardScaler()\n",
    "    scaler.fit(DataFrame)\n",
    "    returnData = pd.DataFrame(scaler.transform(DataFrame))\n",
    "    returnData.columns = columns\n",
    "    return returnData"
   ]
  },
  {
   "cell_type": "code",
   "execution_count": 11,
   "metadata": {},
   "outputs": [],
   "source": [
    "data_sanya = StandardScalerData(data_sanya)\n",
    "data_haikou = StandardScalerData(data_haikou)"
   ]
  },
  {
   "cell_type": "code",
   "execution_count": 36,
   "metadata": {},
   "outputs": [],
   "source": [
    "def Ridge(*data):\n",
    "    from sklearn import linear_model\n",
    "    X_train,X_test,y_train,y_test,alpha=data\n",
    "    regr = linear_model.Ridge(alpha=alpha)\n",
    "    regr.fit(X_train, y_train)\n",
    "    print('Coefficients:%s, intercept %.2f'%(regr.coef_,regr.intercept_))\n",
    "    print(\"Residual sum of squares: %.2f\"% np.mean((regr.predict(X_test) - y_test) ** 2))\n",
    "    print('Score-R2: %.2f' % regr.score(X_test, y_test))"
   ]
  },
  {
   "cell_type": "code",
   "execution_count": 40,
   "metadata": {},
   "outputs": [
    {
     "name": "stdout",
     "output_type": "stream",
     "text": [
      "三亚:\n",
      "Coefficients:[-0.52400181  0.76968733 -0.05981221  0.01048423 -1.19477095  0.17384207\n",
      "  0.61117863  0.9957571 ], intercept 0.00\n",
      "Residual sum of squares: 0.00\n",
      "Score-R2: 1.00\n",
      "Coefficients:[-0.48421866  0.74212262 -0.04204411  0.04197202 -1.13460215  0.18443998\n",
      "  0.59559013  0.95214712], intercept 0.00\n",
      "Residual sum of squares: 0.00\n",
      "Score-R2: 1.00\n",
      "海口:\n",
      "Coefficients:[-0.70964891 -0.07376412  0.39039395 -0.08159799  1.15141139  0.65455003\n",
      "  0.37873129 -0.04255269], intercept -0.00\n",
      "Residual sum of squares: 0.00\n",
      "Score-R2: 1.00\n"
     ]
    }
   ],
   "source": [
    "print(\"三亚:\")\n",
    "Ridge(data_sanya.drop(['HP'],axis=1),data_sanya.drop(['HP'],axis=1),data_sanya['HP'],data_sanya['HP'],0.01)\n",
    "Ridge(data_sanya.drop(['HP'],axis=1),data_sanya.drop(['HP'],axis=1),data_sanya['HP'],data_sanya['HP'],0.02)\n",
    "print(\"海口:\")\n",
    "Ridge(data_haikou.drop(['HP'],axis=1),data_haikou.drop(['HP'],axis=1),data_haikou['HP'],data_haikou['HP'],0.01)"
   ]
  },
  {
   "cell_type": "markdown",
   "metadata": {},
   "source": [
    "Coefficients 权重,intercept B值(偏置)\n",
    "Score-R2:R2检验----->检验拟合的成功程度"
   ]
  },
  {
   "cell_type": "code",
   "execution_count": 30,
   "metadata": {},
   "outputs": [],
   "source": [
    "def Ridge_alpha(*data):\n",
    "    from sklearn import linear_model\n",
    "    import matplotlib.pyplot as plt\n",
    "    %matplotlib inline\n",
    "    X_train,X_test,y_train,y_test=data\n",
    "    alphas=[0.01,0.02,0.05,0.1,0.2,0.5,1,2,5,10,20,50,100,200,500,1000]\n",
    "    scores=[]\n",
    "    for i,alpha in enumerate(alphas):\n",
    "        regr = linear_model.Ridge(alpha=alpha)\n",
    "        regr.fit(X_train, y_train)\n",
    "        scores.append(regr.score(X_test, y_test))\n",
    "    ## 绘图\n",
    "    fig=plt.figure()\n",
    "    ax=fig.add_subplot(1,1,1)\n",
    "    ax.plot(alphas,scores)\n",
    "    ax.set_xlabel(r\"$\\alpha$\")\n",
    "    ax.set_ylabel(r\"score\")\n",
    "    ax.set_xscale('log')\n",
    "    ax.set_title(\"Ridge\")\n",
    "    plt.show()\n",
    "    print(\"最佳 alpha :\",alphas[scores.index(max(scores))])"
   ]
  },
  {
   "cell_type": "markdown",
   "metadata": {},
   "source": [
    "对于岭回归中的alpha值建立0.01 到 1000的指数分布,然后分别根据R2对拟合模型进行最佳选择(best-chose)\n",
    "\n",
    "最佳结果为0.01 0.02"
   ]
  },
  {
   "cell_type": "code",
   "execution_count": 31,
   "metadata": {},
   "outputs": [
    {
     "name": "stdout",
     "output_type": "stream",
     "text": [
      "三亚:\n"
     ]
    },
    {
     "data": {
      "image/png": "[encoded data removed]",
      "text/plain": [
       "<Figure size 432x288 with 1 Axes>"
      ]
     },
     "metadata": {},
     "output_type": "display_data"
    },
    {
     "name": "stdout",
     "output_type": "stream",
     "text": [
      "最佳 alpha : 0.01\n",
      "海口:\n"
     ]
    },
    {
     "data": {
      "image/png": "[encoded data removed]",
      "text/plain": [
       "<Figure size 432x288 with 1 Axes>"
      ]
     },
     "metadata": {},
     "output_type": "display_data"
    },
    {
     "name": "stdout",
     "output_type": "stream",
     "text": [
      "最佳 alpha : 0.01\n"
     ]
    }
   ],
   "source": [
    "print(\"三亚:\")\n",
    "Ridge_alpha(data_sanya.drop(['HP'],axis=1),data_sanya.drop(['HP'],axis=1),data_sanya['HP'],data_sanya['HP'])\n",
    "print(\"海口:\")\n",
    "Ridge_alpha(data_haikou.drop(['HP'],axis=1),data_haikou.drop(['HP'],axis=1),data_haikou['HP'],data_haikou['HP'])"
   ]
  },
  {
   "cell_type": "code",
   "execution_count": null,
   "metadata": {},
   "outputs": [],
   "source": []
  }
 ],
 "metadata": {
  "kernelspec": {
   "display_name": "Python 3",
   "language": "python",
   "name": "python3"
  },
  "language_info": {
   "codemirror_mode": {
    "name": "ipython",
    "version": 3
   },
   "file_extension": ".py",
   "mimetype": "text/x-python",
   "name": "python",
   "nbconvert_exporter": "python",
   "pygments_lexer": "ipython3",
   "version": "3.6.4"
  }
 },
 "nbformat": 4,
 "nbformat_minor": 2
}
