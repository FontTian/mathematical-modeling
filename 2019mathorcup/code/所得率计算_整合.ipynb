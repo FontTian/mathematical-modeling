{
 "cells": [
  {
   "cell_type": "code",
   "execution_count": 6,
   "metadata": {
    "ExecuteTime": {
     "end_time": "2019-04-13T12:58:18.602702Z",
     "start_time": "2019-04-13T12:58:18.585747Z"
    }
   },
   "outputs": [
    {
     "data": {
      "text/plain": [
       "Index(['炉号', '钢号', '转炉终点温度', '转炉终点C', '转炉终点Mn', '转炉终点S', '转炉终点P', '转炉终点Si',\n",
       "       '钢水净重', '连铸正样C', '连铸正样Mn', '连铸正样S', '连铸正样P', '连铸正样Si', '连铸正样Ceq_val',\n",
       "       '连铸正样Cr', '连铸正样Ni_val', '连铸正样Cu_val', '连铸正样V_val', '连铸正样Alt_val',\n",
       "       '连铸正样Als_val', '连铸正样Mo_val', '氮化钒铁FeV55N11-A', '低铝硅铁', '钒氮合金(进口)',\n",
       "       '钒铁(FeV50-A)', '钒铁(FeV50-B)', '硅铝钙', '硅铝合金FeAl30Si25', '硅铝锰合金球',\n",
       "       '硅锰面（硅锰渣）', '硅铁(合格块)', '硅铁FeSi75-B', '石油焦增碳剂', '锰硅合金FeMn64Si27(合格块)',\n",
       "       '锰硅合金FeMn68Si18(合格块)', '碳化硅(55%)', '硅钙碳脱氧剂'],\n",
       "      dtype='object')"
      ]
     },
     "execution_count": 6,
     "metadata": {},
     "output_type": "execute_result"
    }
   ],
   "source": [
    "import pandas as pd\n",
    "\n",
    "read_path = \"data/data_0_c.csv\"\n",
    "df_data_1 = pd.read_csv(open(read_path,encoding = \"utf8\"))\n",
    "\n",
    "df_data_1 = df_data_1.fillna(0)\n",
    "df_data_1 = df_data_1[df_data_1['转炉终点温度'] != 0]\n",
    "df_data_1 = df_data_1[df_data_1['转炉终点Mn'] != 0]\n",
    "\n",
    "read_path = \"data/money_0.csv\"\n",
    "df_money_0 = pd.read_csv(read_path)\n",
    "df_money_0 = df_money_0.fillna(0)\n",
    "\n",
    "df_data_1.columns"
   ]
  },
  {
   "cell_type": "code",
   "execution_count": 7,
   "metadata": {
    "ExecuteTime": {
     "end_time": "2019-04-13T12:58:18.901813Z",
     "start_time": "2019-04-13T12:58:18.896869Z"
    }
   },
   "outputs": [],
   "source": [
    "def GetResult(element=\"C\"):\n",
    "\n",
    "    All_element = 0\n",
    "\n",
    "    for i in set(df_money_0[df_money_0[element] != 0]['合金配料']):\n",
    "        All_element = All_element + df_data_1[i] * \\\n",
    "            df_money_0[df_money_0['合金配料'] == i][element].values[0]\n",
    "\n",
    "    df_result = pd.DataFrame()\n",
    "    df_result[element + '_Yield'] = (df_data_1['钢水净重'] * df_data_1['连铸正样' + element] -\n",
    "                                     df_data_1['钢水净重'] * df_data_1['转炉终点' + element])/All_element\n",
    "\n",
    "    return df_result"
   ]
  },
  {
   "cell_type": "code",
   "execution_count": 8,
   "metadata": {
    "ExecuteTime": {
     "end_time": "2019-04-13T12:58:19.486390Z",
     "start_time": "2019-04-13T12:58:19.482402Z"
    }
   },
   "outputs": [],
   "source": [
    "def Get_Element_Yield(element = \"C\"):\n",
    "    df_result = GetResult(element = element)\n",
    "    df_data_1[element + '_Yield'] = df_result[element + '_Yield']\n",
    "\n",
    "    return df_data_1"
   ]
  },
  {
   "cell_type": "code",
   "execution_count": 14,
   "metadata": {
    "ExecuteTime": {
     "end_time": "2019-04-13T12:58:42.458561Z",
     "start_time": "2019-04-13T12:58:42.320930Z"
    }
   },
   "outputs": [
    {
     "name": "stdout",
     "output_type": "stream",
     "text": [
      "before clean : 226\n",
      "after clean : 211\n",
      "mean  C_Yield  : 0.9026621151895743\n"
     ]
    },
    {
     "data": {
      "image/png": "[encoded data removed]",
      "text/plain": [
       "<Figure size 432x288 with 1 Axes>"
      ]
     },
     "metadata": {
      "needs_background": "light"
     },
     "output_type": "display_data"
    }
   ],
   "source": [
    "element = \"C\"\n",
    "\n",
    "import matplotlib.pyplot as plt\n",
    "%matplotlib inline\n",
    "print(\"before clean :\",len(df_data_1))\n",
    "df_data_1_element_plot= Get_Element_Yield(element = element)\n",
    "\n",
    "df_data_1_element_plot= df_data_1_element_plot[df_data_1_element_plot[element +'_Yield'] <= 1.05]\n",
    "df_data_1_element_plot= df_data_1_element_plot[df_data_1_element_plot[element +'_Yield'] >=0]\n",
    "\n",
    "print(\"after clean :\",len(df_data_1_element_plot))\n",
    "df_data_1_element_plot[[element +'_Yield']].hist()\n",
    "print(\"mean \",element +'_Yield',\" :\",sum(df_data_1_element_plot[element +'_Yield'])/len(df_data_1_element_plot[element +'_Yield']))\n",
    "\n",
    "df_data_1_element_plot.to_csv(\"data/df_data_1_\"+ element + \"_plot.csv\",index=None)\n",
    "\n",
    "plt.show()"
   ]
  },
  {
   "cell_type": "code",
   "execution_count": 10,
   "metadata": {
    "ExecuteTime": {
     "end_time": "2019-04-13T12:58:21.533971Z",
     "start_time": "2019-04-13T12:58:21.399332Z"
    }
   },
   "outputs": [
    {
     "name": "stdout",
     "output_type": "stream",
     "text": [
      "before clean : 226\n",
      "after clean : 222\n",
      "mean  Mn_Yield  : 0.8927604019550919\n"
     ]
    },
    {
     "data": {
      "image/png": "[encoded data removed]",
      "text/plain": [
       "<Figure size 432x288 with 1 Axes>"
      ]
     },
     "metadata": {
      "needs_background": "light"
     },
     "output_type": "display_data"
    }
   ],
   "source": [
    "element = \"Mn\"\n",
    "\n",
    "import matplotlib.pyplot as plt\n",
    "%matplotlib inline\n",
    "print(\"before clean :\",len(df_data_1))\n",
    "df_data_1_element_plot= Get_Element_Yield(element = element)\n",
    "\n",
    "df_data_1_element_plot= df_data_1_element_plot[df_data_1_element_plot[element +'_Yield'] <= 1.0]\n",
    "df_data_1_element_plot= df_data_1_element_plot[df_data_1_element_plot[element +'_Yield'] >=0.5]\n",
    "\n",
    "print(\"after clean :\",len(df_data_1_element_plot))\n",
    "df_data_1_element_plot[[element +'_Yield']].hist()\n",
    "print(\"mean \",element +'_Yield',\" :\",sum(df_data_1_element_plot[element +'_Yield'])/len(df_data_1_element_plot[element +'_Yield']))\n",
    "\n",
    "df_data_1_element_plot.to_csv(\"data/df_data_1_\"+ element + \"_plot.csv\",index=None)\n",
    "\n",
    "plt.show()"
   ]
  },
  {
   "cell_type": "code",
   "execution_count": 11,
   "metadata": {
    "ExecuteTime": {
     "end_time": "2019-04-13T12:58:21.866288Z",
     "start_time": "2019-04-13T12:58:21.735598Z"
    }
   },
   "outputs": [
    {
     "name": "stdout",
     "output_type": "stream",
     "text": [
      "before clean : 226\n",
      "after clean : 207\n",
      "mean  S_Yield  : 5.1517452889804085\n"
     ]
    },
    {
     "data": {
      "image/png": "[encoded data removed]",
      "text/plain": [
       "<Figure size 432x288 with 1 Axes>"
      ]
     },
     "metadata": {
      "needs_background": "light"
     },
     "output_type": "display_data"
    }
   ],
   "source": [
    "element = \"S\"\n",
    "\n",
    "import matplotlib.pyplot as plt\n",
    "%matplotlib inline\n",
    "print(\"before clean :\",len(df_data_1))\n",
    "df_data_1_element_plot= Get_Element_Yield(element = element)\n",
    "\n",
    "df_data_1_element_plot= df_data_1_element_plot[df_data_1_element_plot[element +'_Yield'] <= 50]\n",
    "df_data_1_element_plot= df_data_1_element_plot[df_data_1_element_plot[element +'_Yield'] >=-10]\n",
    "\n",
    "print(\"after clean :\",len(df_data_1_element_plot))\n",
    "df_data_1_element_plot[[element +'_Yield']].hist()\n",
    "print(\"mean \",element +'_Yield',\" :\",sum(df_data_1_element_plot[element +'_Yield'])/len(df_data_1_element_plot[element +'_Yield']))\n",
    "\n",
    "df_data_1_element_plot.to_csv(\"data/df_data_1_\"+ element + \"_plot.csv\",index=None)\n",
    "\n",
    "plt.show()"
   ]
  },
  {
   "cell_type": "code",
   "execution_count": 12,
   "metadata": {
    "ExecuteTime": {
     "end_time": "2019-04-13T12:58:22.907908Z",
     "start_time": "2019-04-13T12:58:22.781212Z"
    }
   },
   "outputs": [
    {
     "name": "stdout",
     "output_type": "stream",
     "text": [
      "before clean : 226\n",
      "after clean : 225\n",
      "mean  P_Yield  : 0.8143628134015763\n"
     ]
    },
    {
     "data": {
      "image/png": "[encoded data removed]",
      "text/plain": [
       "<Figure size 432x288 with 1 Axes>"
      ]
     },
     "metadata": {
      "needs_background": "light"
     },
     "output_type": "display_data"
    }
   ],
   "source": [
    "element = \"P\"\n",
    "\n",
    "import matplotlib.pyplot as plt\n",
    "%matplotlib inline\n",
    "print(\"before clean :\",len(df_data_1))\n",
    "df_data_1_element_plot= Get_Element_Yield(element = element)\n",
    "\n",
    "df_data_1_element_plot= df_data_1_element_plot[df_data_1_element_plot[element +'_Yield'] <= 50]\n",
    "df_data_1_element_plot= df_data_1_element_plot[df_data_1_element_plot[element +'_Yield'] >=-10]\n",
    "\n",
    "print(\"after clean :\",len(df_data_1_element_plot))\n",
    "df_data_1_element_plot[[element +'_Yield']].hist()\n",
    "print(\"mean \",element +'_Yield',\" :\",sum(df_data_1_element_plot[element +'_Yield'])/len(df_data_1_element_plot[element +'_Yield']))\n",
    "\n",
    "df_data_1_element_plot.to_csv(\"data/df_data_1_\"+ element + \"_plot.csv\",index=None)\n",
    "\n",
    "plt.show()"
   ]
  },
  {
   "cell_type": "code",
   "execution_count": 16,
   "metadata": {
    "ExecuteTime": {
     "end_time": "2019-04-13T12:59:37.166065Z",
     "start_time": "2019-04-13T12:59:37.029410Z"
    }
   },
   "outputs": [
    {
     "name": "stdout",
     "output_type": "stream",
     "text": [
      "before clean : 226\n",
      "after clean : 204\n",
      "mean  Si_Yield  : 0.29369802498975495\n"
     ]
    },
    {
     "data": {
      "image/png": "[encoded data removed]",
      "text/plain": [
       "<Figure size 432x288 with 1 Axes>"
      ]
     },
     "metadata": {
      "needs_background": "light"
     },
     "output_type": "display_data"
    }
   ],
   "source": [
    "element = \"Si\"\n",
    "\n",
    "import matplotlib.pyplot as plt\n",
    "%matplotlib inline\n",
    "print(\"before clean :\",len(df_data_1))\n",
    "df_data_1_element_plot= Get_Element_Yield(element = element)\n",
    "\n",
    "df_data_1_element_plot= df_data_1_element_plot[df_data_1_element_plot[element +'_Yield'] <= 1]\n",
    "df_data_1_element_plot= df_data_1_element_plot[df_data_1_element_plot[element +'_Yield'] >=0]\n",
    "\n",
    "print(\"after clean :\",len(df_data_1_element_plot))\n",
    "df_data_1_element_plot[[element +'_Yield']].hist()\n",
    "print(\"mean \",element +'_Yield',\" :\",sum(df_data_1_element_plot[element +'_Yield'])/len(df_data_1_element_plot[element +'_Yield']))\n",
    "\n",
    "df_data_1_element_plot.to_csv(\"data/df_data_1_\"+ element + \"_plot.csv\",index=None)\n",
    "\n",
    "plt.show()"
   ]
  },
  {
   "cell_type": "code",
   "execution_count": null,
   "metadata": {},
   "outputs": [],
   "source": []
  }
 ],
 "metadata": {
  "kernelspec": {
   "display_name": "Python 3",
   "language": "python",
   "name": "python3"
  },
  "language_info": {
   "codemirror_mode": {
    "name": "ipython",
    "version": 3
   },
   "file_extension": ".py",
   "mimetype": "text/x-python",
   "name": "python",
   "nbconvert_exporter": "python",
   "pygments_lexer": "ipython3",
   "version": "3.5.6"
  },
  "latex_envs": {
   "LaTeX_envs_menu_present": true,
   "autoclose": false,
   "autocomplete": true,
   "bibliofile": "biblio.bib",
   "cite_by": "apalike",
   "current_citInitial": 1,
   "eqLabelWithNumbers": true,
   "eqNumInitial": 1,
   "hotkeys": {
    "equation": "Ctrl-E",
    "itemize": "Ctrl-I"
   },
   "labels_anchors": false,
   "latex_user_defs": false,
   "report_style_numbering": false,
   "user_envs_cfg": false
  },
  "varInspector": {
   "cols": {
    "lenName": 16,
    "lenType": 16,
    "lenVar": 40
   },
   "kernels_config": {
    "python": {
     "delete_cmd_postfix": "",
     "delete_cmd_prefix": "del ",
     "library": "var_list.py",
     "varRefreshCmd": "print(var_dic_list())"
    },
    "r": {
     "delete_cmd_postfix": ") ",
     "delete_cmd_prefix": "rm(",
     "library": "var_list.r",
     "varRefreshCmd": "cat(var_dic_list()) "
    }
   },
   "types_to_exclude": [
    "module",
    "function",
    "builtin_function_or_method",
    "instance",
    "_Feature"
   ],
   "window_display": false
  }
 },
 "nbformat": 4,
 "nbformat_minor": 2
}
