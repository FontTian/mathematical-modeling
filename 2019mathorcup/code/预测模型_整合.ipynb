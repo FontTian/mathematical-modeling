{
 "cells": [
  {
   "cell_type": "code",
   "execution_count": 3,
   "metadata": {
    "ExecuteTime": {
     "end_time": "2019-04-14T01:28:54.202951Z",
     "start_time": "2019-04-14T01:28:54.173031Z"
    }
   },
   "outputs": [],
   "source": [
    "from sklearn.preprocessing import LabelEncoder, StandardScaler\n",
    "import pandas as pd\n",
    "import warnings\n",
    "warnings.filterwarnings(\"ignore\")\n",
    "\n",
    "\n",
    "# element = \"P\"\n",
    "# element = \"S\"\n",
    "element = \"Si\"\n",
    "\n",
    "df_data_1_element_plot = pd.read_csv(\"data/df_data_1_\" + element + \"_plot.csv\")\n",
    "df_data_1_element_plot = df_data_1_element_plot[df_data_1_element_plot['转炉终点Mn'] != 0]\n",
    "\n",
    "\n",
    "df_data_1_element_plot_future = df_data_1_element_plot[['转炉终点温度', '转炉终点C', '转炉终点Mn', '转炉终点S', '转炉终点P', '转炉终点Si',\n",
    "                                                        '钢水净重', '氮化钒铁FeV55N11-A', '低铝硅铁', '钒氮合金(进口)', '钒铁(FeV50-B)', '硅铝钙',\n",
    "                                                        '硅铝合金FeAl30Si25', '硅锰面（硅锰渣）', '硅铁(合格块)', '硅铁FeSi75-B', '石油焦增碳剂',\n",
    "                                                        '锰硅合金FeMn64Si27(合格块)', '锰硅合金FeMn68Si18(合格块)', '碳化硅(55%)', '硅钙碳脱氧剂']]\n",
    "\n",
    "standardScaler = StandardScaler()\n",
    "standardScaler.fit(df_data_1_element_plot_future)\n",
    "df_data_1_element_plot_future = pd.DataFrame(\n",
    "    standardScaler.transform(df_data_1_element_plot_future))\n",
    "df_data_1_element_plot_future.columns = df_data_1_element_plot_future.columns\n",
    "\n",
    "df_data_1_element_plot_label = df_data_1_element_plot[element + '_Yield']"
   ]
  },
  {
   "cell_type": "code",
   "execution_count": 4,
   "metadata": {
    "ExecuteTime": {
     "end_time": "2019-04-14T01:31:44.037006Z",
     "start_time": "2019-04-14T01:28:54.491181Z"
    }
   },
   "outputs": [
    {
     "name": "stdout",
     "output_type": "stream",
     "text": [
      "100%|██████████████████████████████████████████████| 300/300 [02:48<00:00,  1.85it/s, best loss: 0.0036243706330518267]\n",
      "\n",
      "展示hyperopt获取的最佳结果，但是要注意的是我们对hyperopt最初的取值范围做过一次转换\n",
      "{'n_estimators': 240, 'max_depth': 0, 'learning_rate': 0.42163481144317283}\n"
     ]
    }
   ],
   "source": [
    "import hyperopt\n",
    "from numpy.random import RandomState\n",
    "import xgboost as xgb\n",
    "\n",
    "params_space = {\n",
    "    'max_depth': hyperopt.hp.randint('max_depth', 12),\n",
    "    'learning_rate': hyperopt.hp.uniform('learning_rate', 1e-3, 5e-1),\n",
    "    'n_estimators':hyperopt.hp.randint('n_estimators', 300)\n",
    "}\n",
    "\n",
    "def XGBRegressor_CV(params):\n",
    "    from sklearn.model_selection import cross_val_score\n",
    "    \n",
    "    model = xgb.XGBRegressor(\n",
    "        max_depth=int(params['max_depth']) + 1,\n",
    "        learning_rate=params['learning_rate'],\n",
    "        n_estimators=params['n_estimators'],\n",
    "        silent=1,\n",
    "        objective='reg:linear',\n",
    "        eval_metric='rmse',\n",
    "        seed=42,\n",
    "        nthread=-1,\n",
    "        early_stopping_rounds=15\n",
    "    )\n",
    "\n",
    "    metric = cross_val_score(model, df_data_1_element_plot_future,df_data_1_element_plot_label, cv=5, scoring=\"neg_mean_squared_error\")\n",
    "\n",
    "    return np.mean(-metric)\n",
    "\n",
    "trials = hyperopt.Trials()\n",
    "\n",
    "best_element = hyperopt.fmin(\n",
    "    XGBRegressor_CV,\n",
    "    space=params_space,\n",
    "    algo=hyperopt.tpe.suggest,\n",
    "    max_evals=300,\n",
    "    trials=trials,\n",
    "    rstate=RandomState(42)\n",
    ")\n",
    "\n",
    "print(\"\\n展示hyperopt获取的最佳结果，但是要注意的是我们对hyperopt最初的取值范围做过一次转换\")\n",
    "print(best_element)\n",
    "\n",
    "Element_CV_Model = xgb.XGBRegressor(\n",
    "    max_depth= best_element[\"max_depth\"] + 1,\n",
    "    learning_rate=best_element[\"learning_rate\"],\n",
    "    n_estimators= best_element['n_estimators'],\n",
    "    silent=1,\n",
    "    objective='reg:linear',\n",
    "    eval_metric='rmse',\n",
    "    seed=42,\n",
    "    nthread=-1,\n",
    "    early_stopping_rounds=15\n",
    ")\n",
    "\n",
    "Element_CV_Model.fit( df_data_1_element_plot_future,df_data_1_element_plot_label)\n",
    "\n",
    "Element_CV_Model.save_model('model/'+ element +'_CV_Model.model')"
   ]
  },
  {
   "cell_type": "code",
   "execution_count": 5,
   "metadata": {
    "ExecuteTime": {
     "end_time": "2019-04-14T01:31:44.837866Z",
     "start_time": "2019-04-14T01:31:44.266395Z"
    }
   },
   "outputs": [
    {
     "name": "stdout",
     "output_type": "stream",
     "text": [
      "MSE of predict on the Si model： 0.0005404285531317273\n",
      "绝对误差 of predict on the Si model： 0.0177529132049767\n"
     ]
    },
    {
     "data": {
      "image/png": "[encoded data removed]",
      "text/plain": [
       "<Figure size 432x288 with 1 Axes>"
      ]
     },
     "metadata": {
      "needs_background": "light"
     },
     "output_type": "display_data"
    },
    {
     "data": {
      "text/plain": [
       "('Si', count    204.000000\n",
       " mean       0.293698\n",
       " std        0.147269\n",
       " min        0.072091\n",
       " 25%        0.155606\n",
       " 50%        0.319648\n",
       " 75%        0.385631\n",
       " max        0.811592\n",
       " Name: Si_Yield, dtype: float64)"
      ]
     },
     "execution_count": 5,
     "metadata": {},
     "output_type": "execute_result"
    }
   ],
   "source": [
    "Element_CV_Model_new = xgb.Booster({'nthread': -1})  # init model\n",
    "Element_CV_Model_new.load_model('model/'+ element +'_CV_Model.model')  # load data\n",
    "\n",
    "dpredict = xgb.DMatrix(df_data_1_element_plot_future)\n",
    "predict = Element_CV_Model_new.predict(dpredict)\n",
    "\n",
    "from sklearn.metrics import mean_squared_error,mean_absolute_error\n",
    "print(\"MSE of predict on the \" +element + \" model：\", (mean_squared_error(y_true=df_data_1_element_plot_label,y_pred=predict)))\n",
    "print(\"绝对误差 of predict on the \" +element + \" model：\", (mean_absolute_error(y_true=df_data_1_element_plot_label,y_pred=predict)))\n",
    "import matplotlib.pyplot as plt\n",
    "%matplotlib inline\n",
    "df_data_1_element_plot_label.hist()\n",
    "\n",
    "plt.title(element +\" _Yield \")\n",
    "plt.show()\n",
    "element,df_data_1_element_plot_label.describe()"
   ]
  },
  {
   "cell_type": "markdown",
   "metadata": {},
   "source": [
    "## Si元素的预测结果较为理想\n",
    "\n",
    "可能是由数据之外的一些关系造成的."
   ]
  },
  {
   "cell_type": "code",
   "execution_count": 6,
   "metadata": {
    "ExecuteTime": {
     "end_time": "2019-04-14T01:31:45.330550Z",
     "start_time": "2019-04-14T01:31:45.066256Z"
    }
   },
   "outputs": [
    {
     "name": "stdout",
     "output_type": "stream",
     "text": [
      "MSE of predict on the Si model： 0.0005404285531317273\n",
      "绝对误差 of predict on the Si model： 0.0177529132049767\n"
     ]
    },
    {
     "data": {
      "image/png": "[encoded data removed]",
      "text/plain": [
       "<Figure size 432x288 with 1 Axes>"
      ]
     },
     "metadata": {
      "needs_background": "light"
     },
     "output_type": "display_data"
    },
    {
     "data": {
      "text/plain": [
       "('Si', count    204.000000\n",
       " mean       0.293698\n",
       " std        0.147269\n",
       " min        0.072091\n",
       " 25%        0.155606\n",
       " 50%        0.319648\n",
       " 75%        0.385631\n",
       " max        0.811592\n",
       " Name: Si_Yield, dtype: float64)"
      ]
     },
     "execution_count": 6,
     "metadata": {},
     "output_type": "execute_result"
    }
   ],
   "source": [
    "element = \"Si\"\n",
    "\n",
    "Element_CV_Model_new = xgb.Booster({'nthread': -1})  # init model\n",
    "Element_CV_Model_new.load_model('model/'+ element +'_CV_Model.model')  # load data\n",
    "\n",
    "dpredict = xgb.DMatrix(df_data_1_element_plot_future)\n",
    "predict = Element_CV_Model_new.predict(dpredict)\n",
    "\n",
    "from sklearn.metrics import mean_squared_error,mean_absolute_error\n",
    "print(\"MSE of predict on the \" +element + \" model：\", (mean_squared_error(y_true=df_data_1_element_plot_label,y_pred=predict)))\n",
    "print(\"绝对误差 of predict on the \" +element + \" model：\", (mean_absolute_error(y_true=df_data_1_element_plot_label,y_pred=predict)))\n",
    "import matplotlib.pyplot as plt\n",
    "%matplotlib inline\n",
    "df_data_1_element_plot_label.hist()\n",
    "\n",
    "plt.title(element +\" _Yield \")\n",
    "plt.show()\n",
    "element,df_data_1_element_plot_label.describe()"
   ]
  },
  {
   "cell_type": "markdown",
   "metadata": {},
   "source": [
    "## P和S两种元素的预测结果并不理想\n",
    "\n",
    "可能是由数据之外的一些关系造成的."
   ]
  },
  {
   "cell_type": "code",
   "execution_count": 7,
   "metadata": {
    "ExecuteTime": {
     "end_time": "2019-04-14T01:31:45.812261Z",
     "start_time": "2019-04-14T01:31:45.548966Z"
    }
   },
   "outputs": [
    {
     "name": "stdout",
     "output_type": "stream",
     "text": [
      "MSE of predict on the P model： 1.3700285209604723\n",
      "绝对误差 of predict on the P model： 0.9554501695529706\n"
     ]
    },
    {
     "data": {
      "image/png": "[encoded data removed]",
      "text/plain": [
       "<Figure size 432x288 with 1 Axes>"
      ]
     },
     "metadata": {
      "needs_background": "light"
     },
     "output_type": "display_data"
    },
    {
     "data": {
      "text/plain": [
       "('P', count    204.000000\n",
       " mean       0.293698\n",
       " std        0.147269\n",
       " min        0.072091\n",
       " 25%        0.155606\n",
       " 50%        0.319648\n",
       " 75%        0.385631\n",
       " max        0.811592\n",
       " Name: Si_Yield, dtype: float64)"
      ]
     },
     "execution_count": 7,
     "metadata": {},
     "output_type": "execute_result"
    }
   ],
   "source": [
    "element = \"P\"\n",
    "\n",
    "Element_CV_Model_new = xgb.Booster({'nthread': -1})  # init model\n",
    "Element_CV_Model_new.load_model('model/'+ element +'_CV_Model.model')  # load data\n",
    "\n",
    "dpredict = xgb.DMatrix(df_data_1_element_plot_future)\n",
    "predict = Element_CV_Model_new.predict(dpredict)\n",
    "\n",
    "from sklearn.metrics import mean_squared_error,mean_absolute_error\n",
    "print(\"MSE of predict on the \" +element + \" model：\", (mean_squared_error(y_true=df_data_1_element_plot_label,y_pred=predict)))\n",
    "print(\"绝对误差 of predict on the \" +element + \" model：\", (mean_absolute_error(y_true=df_data_1_element_plot_label,y_pred=predict)))\n",
    "import matplotlib.pyplot as plt\n",
    "%matplotlib inline\n",
    "df_data_1_element_plot_label.hist()\n",
    "\n",
    "plt.title(element +\" _Yield \")\n",
    "plt.show()\n",
    "element,df_data_1_element_plot_label.describe()"
   ]
  },
  {
   "cell_type": "code",
   "execution_count": 8,
   "metadata": {
    "ExecuteTime": {
     "end_time": "2019-04-14T01:31:46.295969Z",
     "start_time": "2019-04-14T01:31:46.035665Z"
    }
   },
   "outputs": [
    {
     "name": "stdout",
     "output_type": "stream",
     "text": [
      "MSE of predict on the S model： 41.263943806358796\n",
      "绝对误差 of predict on the S model： 5.185296118171743\n"
     ]
    },
    {
     "data": {
      "image/png": "[encoded data removed]",
      "text/plain": [
       "<Figure size 432x288 with 1 Axes>"
      ]
     },
     "metadata": {
      "needs_background": "light"
     },
     "output_type": "display_data"
    },
    {
     "data": {
      "text/plain": [
       "('S', count    204.000000\n",
       " mean       0.293698\n",
       " std        0.147269\n",
       " min        0.072091\n",
       " 25%        0.155606\n",
       " 50%        0.319648\n",
       " 75%        0.385631\n",
       " max        0.811592\n",
       " Name: Si_Yield, dtype: float64)"
      ]
     },
     "execution_count": 8,
     "metadata": {},
     "output_type": "execute_result"
    }
   ],
   "source": [
    "element = \"S\"\n",
    "\n",
    "Element_CV_Model_new = xgb.Booster({'nthread': -1})  # init model\n",
    "Element_CV_Model_new.load_model('model/'+ element +'_CV_Model.model')  # load data\n",
    "\n",
    "dpredict = xgb.DMatrix(df_data_1_element_plot_future)\n",
    "predict = Element_CV_Model_new.predict(dpredict)\n",
    "\n",
    "from sklearn.metrics import mean_squared_error,mean_absolute_error\n",
    "print(\"MSE of predict on the \" +element + \" model：\", (mean_squared_error(y_true=df_data_1_element_plot_label,y_pred=predict)))\n",
    "print(\"绝对误差 of predict on the \" +element + \" model：\", (mean_absolute_error(y_true=df_data_1_element_plot_label,y_pred=predict)))\n",
    "import matplotlib.pyplot as plt\n",
    "%matplotlib inline\n",
    "df_data_1_element_plot_label.hist()\n",
    "\n",
    "plt.title(element +\" _Yield \")\n",
    "plt.show()\n",
    "element,df_data_1_element_plot_label.describe()"
   ]
  },
  {
   "cell_type": "code",
   "execution_count": 9,
   "metadata": {
    "ExecuteTime": {
     "end_time": "2019-04-14T01:31:46.522364Z",
     "start_time": "2019-04-14T01:31:46.515383Z"
    }
   },
   "outputs": [],
   "source": [
    "def Train_model(model,df_future, df_label,  y=\"Mn_Yield\", scoring=\"r2\"):\n",
    "\n",
    "    # 训练模型，估计模型参数\n",
    "    model.fit(df_future, df_label)\n",
    "\n",
    "    from sklearn.model_selection import cross_val_score\n",
    "    scores_clf_svc_cv = cross_val_score(model, df_future, df_label, cv=5, scoring=scoring)\n",
    "\n",
    "    print(np.mean(scores_clf_svc_cv), scores_clf_svc_cv)\n",
    "\n",
    "    return model"
   ]
  },
  {
   "cell_type": "code",
   "execution_count": 11,
   "metadata": {
    "ExecuteTime": {
     "end_time": "2019-04-14T01:40:28.065349Z",
     "start_time": "2019-04-14T01:40:28.044405Z"
    }
   },
   "outputs": [],
   "source": [
    "element = \"P\"\n",
    "\n",
    "df_data_1_element_plot = pd.read_csv(\"data/df_data_1_\" + element + \"_plot.csv\")\n",
    "df_data_1_element_plot = df_data_1_element_plot[df_data_1_element_plot['转炉终点Mn'] != 0]\n",
    "\n",
    "\n",
    "df_data_1_element_plot_future = df_data_1_element_plot[['转炉终点温度', '转炉终点C', '转炉终点Mn', '转炉终点S', '转炉终点P', '转炉终点Si',\n",
    "                                                        '钢水净重', '氮化钒铁FeV55N11-A', '低铝硅铁', '钒氮合金(进口)', '钒铁(FeV50-B)', '硅铝钙',\n",
    "                                                        '硅铝合金FeAl30Si25', '硅锰面（硅锰渣）', '硅铁(合格块)', '硅铁FeSi75-B', '石油焦增碳剂',\n",
    "                                                        '锰硅合金FeMn64Si27(合格块)', '锰硅合金FeMn68Si18(合格块)', '碳化硅(55%)', '硅钙碳脱氧剂']]\n",
    "\n",
    "standardScaler = StandardScaler()\n",
    "standardScaler.fit(df_data_1_element_plot_future)\n",
    "df_data_1_element_plot_future_standardization = pd.DataFrame(\n",
    "    standardScaler.transform(df_data_1_element_plot_future))\n",
    "df_data_1_element_plot_future_standardization.columns = df_data_1_element_plot_future.columns\n",
    "\n",
    "df_data_1_element_plot_label = df_data_1_element_plot[element + '_Yield']"
   ]
  },
  {
   "cell_type": "code",
   "execution_count": 12,
   "metadata": {
    "ExecuteTime": {
     "end_time": "2019-04-14T01:40:28.438352Z",
     "start_time": "2019-04-14T01:40:28.403446Z"
    }
   },
   "outputs": [
    {
     "name": "stdout",
     "output_type": "stream",
     "text": [
      "-2.4042597145160114 [-1.82620695 -0.52302143 -1.89594331 -1.26259064 -6.51353625]\n"
     ]
    },
    {
     "data": {
      "text/plain": [
       "(array([ 9.30427062e-02, -1.99626780e-01,  6.86805157e-02, -1.81501438e-01,\n",
       "        -9.08799538e-01, -1.41501232e-01,  8.02447355e-01,  3.24478884e-02,\n",
       "        -7.79859485e-01,  6.83333877e-01,  3.00862781e-01, -1.55789774e-01,\n",
       "        -1.17272678e-01, -1.27502054e-01,  7.77156117e-16, -5.02863744e-01,\n",
       "        -1.72485978e-01, -2.25874249e-02,  6.74100774e-02,  2.92953805e-03,\n",
       "        -5.67438363e-02]), 0.8143628134015767)"
      ]
     },
     "execution_count": 12,
     "metadata": {},
     "output_type": "execute_result"
    }
   ],
   "source": [
    "from sklearn import linear_model\n",
    "linearRegression = linear_model.LinearRegression()\n",
    "\n",
    "linearRegression = Train_model(\n",
    "    model=linearRegression,df_future=df_data_1_element_plot_future_standardization,df_label=df_data_1_element_plot_label, scoring='neg_mean_squared_error')\n",
    "linearRegression.coef_, linearRegression.intercept_"
   ]
  },
  {
   "cell_type": "code",
   "execution_count": 13,
   "metadata": {
    "ExecuteTime": {
     "end_time": "2019-04-14T01:40:45.821888Z",
     "start_time": "2019-04-14T01:40:45.792966Z"
    }
   },
   "outputs": [
    {
     "name": "stdout",
     "output_type": "stream",
     "text": [
      "-0.7283028174118462 [ 0.39088152  0.55537691  0.12040542 -0.02475147 -4.68342648]\n"
     ]
    },
    {
     "data": {
      "text/plain": [
       "(array([ 9.30427062e-02, -1.99626780e-01,  6.86805157e-02, -1.81501438e-01,\n",
       "        -9.08799538e-01, -1.41501232e-01,  8.02447355e-01,  3.24478884e-02,\n",
       "        -7.79859485e-01,  6.83333877e-01,  3.00862781e-01, -1.55789774e-01,\n",
       "        -1.17272678e-01, -1.27502054e-01,  7.77156117e-16, -5.02863744e-01,\n",
       "        -1.72485978e-01, -2.25874249e-02,  6.74100774e-02,  2.92953805e-03,\n",
       "        -5.67438363e-02]), 0.8143628134015767)"
      ]
     },
     "execution_count": 13,
     "metadata": {},
     "output_type": "execute_result"
    }
   ],
   "source": [
    "linearRegression = Train_model(\n",
    "    model=linearRegression,df_future=df_data_1_element_plot_future_standardization,df_label=df_data_1_element_plot_label, scoring='r2')\n",
    "linearRegression.coef_, linearRegression.intercept_"
   ]
  },
  {
   "cell_type": "code",
   "execution_count": null,
   "metadata": {},
   "outputs": [],
   "source": []
  }
 ],
 "metadata": {
  "kernelspec": {
   "display_name": "Python 3",
   "language": "python",
   "name": "python3"
  },
  "language_info": {
   "codemirror_mode": {
    "name": "ipython",
    "version": 3
   },
   "file_extension": ".py",
   "mimetype": "text/x-python",
   "name": "python",
   "nbconvert_exporter": "python",
   "pygments_lexer": "ipython3",
   "version": "3.5.6"
  },
  "latex_envs": {
   "LaTeX_envs_menu_present": true,
   "autoclose": false,
   "autocomplete": true,
   "bibliofile": "biblio.bib",
   "cite_by": "apalike",
   "current_citInitial": 1,
   "eqLabelWithNumbers": true,
   "eqNumInitial": 1,
   "hotkeys": {
    "equation": "Ctrl-E",
    "itemize": "Ctrl-I"
   },
   "labels_anchors": false,
   "latex_user_defs": false,
   "report_style_numbering": false,
   "user_envs_cfg": false
  },
  "varInspector": {
   "cols": {
    "lenName": 16,
    "lenType": 16,
    "lenVar": 40
   },
   "kernels_config": {
    "python": {
     "delete_cmd_postfix": "",
     "delete_cmd_prefix": "del ",
     "library": "var_list.py",
     "varRefreshCmd": "print(var_dic_list())"
    },
    "r": {
     "delete_cmd_postfix": ") ",
     "delete_cmd_prefix": "rm(",
     "library": "var_list.r",
     "varRefreshCmd": "cat(var_dic_list()) "
    }
   },
   "types_to_exclude": [
    "module",
    "function",
    "builtin_function_or_method",
    "instance",
    "_Feature"
   ],
   "window_display": false
  }
 },
 "nbformat": 4,
 "nbformat_minor": 2
}
