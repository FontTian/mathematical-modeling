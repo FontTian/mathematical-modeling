{
 "cells": [
  {
   "cell_type": "markdown",
   "metadata": {
    "ExecuteTime": {
     "end_time": "2019-04-12T12:16:20.840795Z",
     "start_time": "2019-04-12T12:16:20.535539Z"
    }
   },
   "source": [
    "## 导入数据,并转换"
   ]
  },
  {
   "cell_type": "code",
   "execution_count": 2,
   "metadata": {
    "ExecuteTime": {
     "end_time": "2019-04-13T10:29:13.920212Z",
     "start_time": "2019-04-13T10:29:13.685851Z"
    }
   },
   "outputs": [
    {
     "name": "stdout",
     "output_type": "stream",
     "text": [
      "when use 转炉终点Mn != 0 : 218\n"
     ]
    }
   ],
   "source": [
    "import pandas as pd\n",
    "import warnings\n",
    "warnings.filterwarnings(\"ignore\")\n",
    "\n",
    "df_data_1_C_plot = pd.read_csv(\"data/df_data_1_C_plot.csv\")\n",
    "df_data_1_C_plot.columns\n",
    "\n",
    "df_data_1_C_plot = df_data_1_C_plot[df_data_1_C_plot['转炉终点Mn'] != 0]\n",
    "print(\"when use 转炉终点Mn != 0 :\", len(df_data_1_C_plot))\n",
    "# df_data_1_C_plot.columns\n",
    "\n",
    "\n",
    "df_data_1_C_plot_future = df_data_1_C_plot[['转炉终点温度', '转炉终点C', '转炉终点Mn', '转炉终点S', '转炉终点P', '转炉终点Si',\n",
    "                                            '钢水净重', '氮化钒铁FeV55N11-A', '低铝硅铁', '钒氮合金(进口)',\n",
    "                                            '钒铁(FeV50-B)', '硅铝钙', '硅铝合金FeAl30Si25',\n",
    "                                            '硅锰面（硅锰渣）', '硅铁(合格块)', '硅铁FeSi75-B', '石油焦增碳剂',\n",
    "                                            '锰硅合金FeMn64Si27(合格块)', '锰硅合金FeMn68Si18(合格块)', '碳化硅(55%)', '硅钙碳脱氧剂']]\n",
    "\n",
    "df_data_1_C_plot_label = df_data_1_C_plot['C_Yield']"
   ]
  },
  {
   "cell_type": "code",
   "execution_count": 3,
   "metadata": {
    "ExecuteTime": {
     "end_time": "2019-04-13T10:29:13.979071Z",
     "start_time": "2019-04-13T10:29:13.971101Z"
    }
   },
   "outputs": [],
   "source": [
    "df_data_1_Mn_plot = pd.read_csv(\"data/df_data_1_Mn_plot.csv\")\n",
    "# df_data_1_Mn_plot.columns\n",
    "\n",
    "df_data_1_Mn_plot_future = df_data_1_Mn_plot[['转炉终点温度', '转炉终点C', '转炉终点Mn', '转炉终点S', '转炉终点P', '转炉终点Si',\n",
    "                                              '钢水净重', '氮化钒铁FeV55N11-A', '低铝硅铁', '钒氮合金(进口)',\n",
    "                                              '钒铁(FeV50-B)', '硅铝钙', '硅铝合金FeAl30Si25',\n",
    "                                              '硅锰面（硅锰渣）', '硅铁(合格块)', '硅铁FeSi75-B', '石油焦增碳剂',\n",
    "                                              '锰硅合金FeMn64Si27(合格块)', '锰硅合金FeMn68Si18(合格块)', '碳化硅(55%)', '硅钙碳脱氧剂']]\n",
    "\n",
    "df_data_1_Mn_plot_label = df_data_1_Mn_plot['Mn_Yield']"
   ]
  },
  {
   "cell_type": "markdown",
   "metadata": {
    "ExecuteTime": {
     "end_time": "2019-04-12T11:29:23.932312Z",
     "start_time": "2019-04-12T11:29:23.922339Z"
    }
   },
   "source": [
    "## 样本中不同钢号的数量统计"
   ]
  },
  {
   "cell_type": "code",
   "execution_count": 4,
   "metadata": {
    "ExecuteTime": {
     "end_time": "2019-04-13T10:29:14.285731Z",
     "start_time": "2019-04-13T10:29:14.277752Z"
    }
   },
   "outputs": [
    {
     "name": "stdout",
     "output_type": "stream",
     "text": [
      "HRB500D      :  18\n",
      "HRB400D      :  32\n",
      "HRB400B      :  161\n",
      "Q345B        :  7\n"
     ]
    }
   ],
   "source": [
    "for i in set(df_data_1_C_plot['钢号']):\n",
    "    print(i,\" : \",len(df_data_1_C_plot[df_data_1_C_plot['钢号'] == i]))"
   ]
  },
  {
   "cell_type": "code",
   "execution_count": 5,
   "metadata": {
    "ExecuteTime": {
     "end_time": "2019-04-13T10:29:14.484595Z",
     "start_time": "2019-04-13T10:29:14.476616Z"
    }
   },
   "outputs": [
    {
     "name": "stdout",
     "output_type": "stream",
     "text": [
      "HRB500D      :  18\n",
      "HRB400D      :  34\n",
      "HRB400B      :  164\n",
      "Q345B        :  6\n"
     ]
    }
   ],
   "source": [
    "for i in set(df_data_1_Mn_plot['钢号']):\n",
    "    print(i,\" : \",len(df_data_1_Mn_plot[df_data_1_Mn_plot['钢号'] == i]))"
   ]
  },
  {
   "cell_type": "code",
   "execution_count": 6,
   "metadata": {
    "ExecuteTime": {
     "end_time": "2019-04-13T10:29:14.664205Z",
     "start_time": "2019-04-13T10:29:14.655229Z"
    }
   },
   "outputs": [
    {
     "data": {
      "text/plain": [
       "{'HRB400B    ', 'HRB400D    ', 'HRB500D    ', 'Q345B      '}"
      ]
     },
     "execution_count": 6,
     "metadata": {},
     "output_type": "execute_result"
    }
   ],
   "source": [
    "set(df_data_1_Mn_plot['钢号'])"
   ]
  },
  {
   "cell_type": "markdown",
   "metadata": {
    "ExecuteTime": {
     "end_time": "2019-04-12T12:05:09.466466Z",
     "start_time": "2019-04-12T12:05:09.462476Z"
    }
   },
   "source": [
    "### 不同钢号的化学成分国家标准"
   ]
  },
  {
   "cell_type": "code",
   "execution_count": 68,
   "metadata": {
    "ExecuteTime": {
     "end_time": "2019-04-13T11:47:26.154625Z",
     "start_time": "2019-04-13T11:47:26.149637Z"
    }
   },
   "outputs": [
    {
     "data": {
      "text/plain": [
       "0.25"
      ]
     },
     "execution_count": 68,
     "metadata": {},
     "output_type": "execute_result"
    }
   ],
   "source": [
    "HRB = {\"C\":0.25,\"Si\":0.80,\"Mn\":1.60,\"P\":0.045,\"S\":0.045}\n",
    "Q35B = {\"C\":0.20,\"Si\":0.50,\"Mn\":1.70,\"P\":0.035,\"S\":0.035}\n",
    "\n",
    "HRB[\"C\"]"
   ]
  },
  {
   "cell_type": "markdown",
   "metadata": {},
   "source": [
    "## 加载已经训练好的模型\n",
    "### C"
   ]
  },
  {
   "cell_type": "code",
   "execution_count": 8,
   "metadata": {
    "ExecuteTime": {
     "end_time": "2019-04-13T10:29:17.519098Z",
     "start_time": "2019-04-13T10:29:15.396757Z"
    }
   },
   "outputs": [
    {
     "name": "stdout",
     "output_type": "stream",
     "text": [
      "MSE of predict ： 0.0014731971837747403\n"
     ]
    }
   ],
   "source": [
    "from sklearn.metrics import mean_squared_error\n",
    "import xgboost as xgb\n",
    "\n",
    "C_CV_Model_new = xgb.Booster({'nthread': -1})  # init model\n",
    "C_CV_Model_new.load_model('model/C_CV_Model.model')  # load data\n",
    "\n",
    "dpredict = xgb.DMatrix(df_data_1_C_plot_future)\n",
    "predict = C_CV_Model_new.predict(dpredict)\n",
    "\n",
    "from sklearn.metrics import mean_squared_error\n",
    "print(\"MSE of predict ：\", (mean_squared_error(y_true=df_data_1_C_plot_label,y_pred=predict)))"
   ]
  },
  {
   "cell_type": "markdown",
   "metadata": {},
   "source": [
    "### 加载Mn的模型"
   ]
  },
  {
   "cell_type": "code",
   "execution_count": 9,
   "metadata": {
    "ExecuteTime": {
     "end_time": "2019-04-13T10:29:17.608857Z",
     "start_time": "2019-04-13T10:29:17.599913Z"
    }
   },
   "outputs": [
    {
     "name": "stdout",
     "output_type": "stream",
     "text": [
      "MSE of predict ： 0.00019115669935288612\n"
     ]
    }
   ],
   "source": [
    "Mn_CV_Model_new = xgb.Booster({'nthread': -1})  # init model\n",
    "Mn_CV_Model_new.load_model('model/Mn_CV_Model.model')  # load data\n",
    "\n",
    "dpredict = xgb.DMatrix(df_data_1_Mn_plot_future)\n",
    "predict = Mn_CV_Model_new.predict(dpredict)\n",
    "\n",
    "from sklearn.metrics import mean_squared_error\n",
    "print(\"MSE of predict ：\", (mean_squared_error(y_true=df_data_1_Mn_plot_label,y_pred=predict)))"
   ]
  },
  {
   "cell_type": "markdown",
   "metadata": {
    "ExecuteTime": {
     "end_time": "2019-04-13T08:21:39.019624Z",
     "start_time": "2019-04-13T08:21:39.015635Z"
    }
   },
   "source": [
    "## 通过所得率计算最终成分"
   ]
  },
  {
   "cell_type": "code",
   "execution_count": 65,
   "metadata": {
    "ExecuteTime": {
     "end_time": "2019-04-13T11:44:39.305693Z",
     "start_time": "2019-04-13T11:44:39.296684Z"
    }
   },
   "outputs": [],
   "source": [
    "def Get_Yield(df_sample,element = \"C\"):\n",
    "    import xgboost as xgb\n",
    "\n",
    "    element_CV_Model_new = xgb.Booster({'nthread': -1})  # init model\n",
    "    element_CV_Model_new.load_model('model/'+ element +'_CV_Model.model')  # load data\n",
    "    dmatrix_one = xgb.DMatrix(df_sample)\n",
    "    return element_CV_Model_new.predict(dmatrix_one)\n",
    "\n",
    "def Get_Content(df_sample,element=\"C\",set_future = set_future):\n",
    "\n",
    "    Yield = Get_Yield(df_sample=df_sample,element='C')\n",
    "    \n",
    "    All_element = 0\n",
    "    for i in set(set_future):\n",
    "        All_element += df_sample[i].iloc[0].values[0] * \\\n",
    "            df_money_0[df_money_0['合金配料'] == i][element].values[0]\n",
    "\n",
    "    final_element = (All_element * Yield +\n",
    "                     df_sample['钢水净重'].iloc[0].values[0] * df_sample['转炉终点' + element].iloc[0].values[0])\n",
    "    / df_sample['钢水净重'].iloc[0]\n",
    "    \n",
    "#     print(\"钢水净重 :\",df_sample['钢水净重'].iloc[0].values[0])\n",
    "#     print(\"投入元素总重 :\",All_element)\n",
    "#     print(\"收得率 :\",Yield[0])\n",
    "#     print(\"转炉终点 %s :\"%element,df_sample['转炉终点' + element].iloc[0].values[0])\n",
    "#     print(\"连铸正样 %s :\"%element,final_element[0])\n",
    "    \n",
    "    return final_element[0]"
   ]
  },
  {
   "cell_type": "code",
   "execution_count": 67,
   "metadata": {
    "ExecuteTime": {
     "end_time": "2019-04-13T11:44:53.792370Z",
     "start_time": "2019-04-13T11:44:52.789816Z"
    }
   },
   "outputs": [
    {
     "name": "stdout",
     "output_type": "stream",
     "text": [
      "2.1683698\n"
     ]
    }
   ],
   "source": [
    "set_future = {'氮化钒铁FeV55N11-A', '低铝硅铁', '钒氮合金(进口)',\n",
    "          '钒铁(FeV50-B)', '硅铝钙', '硅铝合金FeAl30Si25',\n",
    "          '硅锰面（硅锰渣）', '硅铁(合格块)', '硅铁FeSi75-B', '石油焦增碳剂',\n",
    "          '锰硅合金FeMn64Si27(合格块)', '锰硅合金FeMn68Si18(合格块)', '碳化硅(55%)', '硅钙碳脱氧剂'}\n",
    "\n",
    "read_path = \"data/money_0.csv\"\n",
    "df_money_0 = pd.read_csv(read_path)\n",
    "df_money_0 = df_money_0.fillna(0)\n",
    "\n",
    "list_one = np.ones(len(columns))\n",
    "\n",
    "def list2df(list_sample):\n",
    "    columns = ['转炉终点温度', '转炉终点C', '转炉终点Mn', '转炉终点S', '转炉终点P', '转炉终点Si',\n",
    "                                              '钢水净重', '氮化钒铁FeV55N11-A', '低铝硅铁', '钒氮合金(进口)',\n",
    "                                              '钒铁(FeV50-B)', '硅铝钙', '硅铝合金FeAl30Si25',\n",
    "                                              '硅锰面（硅锰渣）', '硅铁(合格块)', '硅铁FeSi75-B', '石油焦增碳剂',\n",
    "                                              '锰硅合金FeMn64Si27(合格块)', '锰硅合金FeMn68Si18(合格块)', '碳化硅(55%)', '硅钙碳脱氧剂']\n",
    "    \n",
    "    df_sample = pd.DataFrame([list_sample])\n",
    "    df_sample.columns = [columns]\n",
    "    \n",
    "    return df_sample\n",
    "\n",
    "df_sample = list2df(list_one)\n",
    "\n",
    "print(Get_Content(df_sample,set_future=set_future))"
   ]
  },
  {
   "cell_type": "markdown",
   "metadata": {
    "ExecuteTime": {
     "end_time": "2019-04-12T12:19:30.037672Z",
     "start_time": "2019-04-12T12:19:30.029721Z"
    }
   },
   "source": [
    "## 通过投入金属计算成本"
   ]
  },
  {
   "cell_type": "code",
   "execution_count": 49,
   "metadata": {
    "ExecuteTime": {
     "end_time": "2019-04-13T11:28:58.524195Z",
     "start_time": "2019-04-13T11:28:58.518227Z"
    }
   },
   "outputs": [
    {
     "data": {
      "text/plain": [
       "Index(['合金配料', 'C', 'Mn', 'S', 'P', 'Si', 'Al', 'Ca', 'V', 'N', '价格(元/吨)'], dtype='object')"
      ]
     },
     "execution_count": 49,
     "metadata": {},
     "output_type": "execute_result"
    }
   ],
   "source": [
    "df_sample = pd.DataFrame([list_one])\n",
    "df_sample.columns = [columns]\n",
    "df_money_0.columns"
   ]
  },
  {
   "cell_type": "code",
   "execution_count": 55,
   "metadata": {
    "ExecuteTime": {
     "end_time": "2019-04-13T11:31:09.996883Z",
     "start_time": "2019-04-13T11:31:09.977901Z"
    }
   },
   "outputs": [
    {
     "name": "stdout",
     "output_type": "stream",
     "text": [
      "974900.0\n"
     ]
    }
   ],
   "source": [
    "def Get_Cost(df_sample = list_one,set_future = set_future):\n",
    "\n",
    "    All_Cost = 0\n",
    "    for i in set(set_future):\n",
    "        All_Cost += df_sample[i].iloc[0].values[0] * \\\n",
    "            df_money_0[df_money_0['合金配料'] == i][\"价格(元/吨)\"].values[0] / 1000\n",
    "\n",
    "    return All_Cost/(df_sample['钢水净重']/1000).iloc[0].values[0]\n",
    "print(Get_Cost(df_sample,set_future=set_future))"
   ]
  },
  {
   "cell_type": "markdown",
   "metadata": {
    "ExecuteTime": {
     "end_time": "2019-04-13T09:47:06.661414Z",
     "start_time": "2019-04-13T09:47:06.639486Z"
    }
   },
   "source": [
    "## 计算历史数据中每吨钢水所需投入合金元素之平均成本"
   ]
  },
  {
   "cell_type": "code",
   "execution_count": 56,
   "metadata": {
    "ExecuteTime": {
     "end_time": "2019-04-13T11:31:13.265566Z",
     "start_time": "2019-04-13T11:31:13.246617Z"
    }
   },
   "outputs": [
    {
     "name": "stdout",
     "output_type": "stream",
     "text": [
      "343.06933462317204\n"
     ]
    }
   ],
   "source": [
    "def Get_Avg_Cost(df_data_1_C_plot = df_data_1_C_plot,set_future = set_future):\n",
    "    All_Cost = 0\n",
    "    for i in set(set_future):\n",
    "        All_Cost += df_data_1_C_plot[i] * \\\n",
    "            df_money_0[df_money_0['合金配料'] == i][\"价格(元/吨)\"].values[0] / 1000\n",
    "\n",
    "    return np.mean(All_Cost/(df_data_1_C_plot['钢水净重']/1000))\n",
    "\n",
    "print(Get_Avg_Cost(df_data_1_C_plot,set_future=set_future)) "
   ]
  },
  {
   "cell_type": "markdown",
   "metadata": {
    "ExecuteTime": {
     "end_time": "2019-04-13T09:47:06.661414Z",
     "start_time": "2019-04-13T09:47:06.639486Z"
    }
   },
   "source": [
    "## 设定评价函数\n",
    "\n",
    "individual 为自动生成的族群\n",
    "\n",
    "```\n",
    "creator.create(\"FitnessMax\", base.Fitness, weights=(1.0,))  # 定义最大化适应度\n",
    "creator.create(\"Individual\", list, fitness=creator.FitnessMax)  # 这里的list种群的数据类型\n",
    "\n",
    "toolbox = base.Toolbox()\n",
    "\n",
    "# Attribute generator: define 'attr_bool' to be an attribute ('gene')\n",
    "#                      which corresponds to integers sampled uniformly\n",
    "#                      from the range [0,1] (i.e. 0 or 1 with equal\n",
    "#                      probability)\n",
    "\n",
    "\n",
    "toolbox.register(\"attr_bool\", random.random)  # 包含了0,1的随机整数,初始化种群\n",
    "\n",
    "# Structure initializers: define 'individual' to be an individual\n",
    "#                         consisting of 100 'attr_bool' elements ('genes')\n",
    "toolbox.register(\"individual\", tools.initRepeat, creator.Individual,\n",
    "                 toolbox.attr_bool, 5)\n",
    "\n",
    "# define the population to be a list of 'individual's\n",
    "toolbox.register(\"population\", tools.initRepeat, list, toolbox.individual)\n",
    "\n",
    "\n",
    "# create an initial population of 300 individuals (where\n",
    "# each individual is a list of integers)\n",
    "pop = toolbox.population(n=300)  # 定义300个个体的种群\n",
    "```"
   ]
  },
  {
   "cell_type": "code",
   "execution_count": 81,
   "metadata": {
    "ExecuteTime": {
     "end_time": "2019-04-13T12:00:05.636829Z",
     "start_time": "2019-04-13T12:00:05.629837Z"
    }
   },
   "outputs": [],
   "source": [
    "# list_one -> individual\n",
    "# Get_Content(individual,element = \"C\",set_future=set_future)\n",
    "Avg_Cost = 343.06933462317204\n",
    "# Get_Cost(individual,,set_future=set_future)\n",
    "\n",
    "\n",
    "def evalOneMin(individual):\n",
    "\n",
    "    set_future = {'氮化钒铁FeV55N11-A', '低铝硅铁', '钒氮合金(进口)',\n",
    "                  '钒铁(FeV50-B)', '硅铝钙', '硅铝合金FeAl30Si25',\n",
    "                  '硅锰面（硅锰渣）', '硅铁(合格块)', '硅铁FeSi75-B', '石油焦增碳剂',\n",
    "                  '锰硅合金FeMn64Si27(合格块)', '锰硅合金FeMn68Si18(合格块)', '碳化硅(55%)', '硅钙碳脱氧剂'}\n",
    "\n",
    "    df_individual = list2df(individual)\n",
    "\n",
    "    HRB = {\"C\": 0.25, \"Si\": 0.80, \"Mn\": 1.60, \"P\": 0.045, \"S\": 0.045}\n",
    "\n",
    "    C_sub_percentage = np.abs(\n",
    "        (Get_Content(df_individual, element=\"C\", set_future=set_future) - HRB[\"C\"])/HRB[\"C\"])\n",
    "    Mn_sub_percentage = np.abs((Get_Content(\n",
    "        df_individual, element=\"Mn\", set_future=set_future) - HRB[\"Mn\"])/HRB[\"C\"])\n",
    "    Si_sub_percentage = np.abs((Get_Content(\n",
    "        df_individual, element=\"Si\", set_future=set_future) - HRB[\"Si\"])/HRB[\"C\"])\n",
    "\n",
    "    All_Cost_sub_percentage = (\n",
    "        Get_Cost(df_individual, set_future=set_future) - Avg_Cost)/Avg_Cost\n",
    "\n",
    "    sums = All_Cost_sub_percentage + C_sub_percentage + \\\n",
    "        Mn_sub_percentage + Si_sub_percentage\n",
    "\n",
    "    return sums,"
   ]
  },
  {
   "cell_type": "code",
   "execution_count": 82,
   "metadata": {
    "ExecuteTime": {
     "end_time": "2019-04-13T12:00:05.974209Z",
     "start_time": "2019-04-13T12:00:05.869489Z"
    }
   },
   "outputs": [
    {
     "data": {
      "text/plain": [
       "(2865.748599783453,)"
      ]
     },
     "execution_count": 82,
     "metadata": {},
     "output_type": "execute_result"
    }
   ],
   "source": [
    "evalOneMin(list_one)"
   ]
  },
  {
   "cell_type": "markdown",
   "metadata": {},
   "source": [
    "## 定义目标函数"
   ]
  },
  {
   "cell_type": "markdown",
   "metadata": {},
   "source": [
    "问题三: 实现钢水脱氧合金化成本优化计算,并给出合金配料方案\n",
    "\n",
    "\n",
    "此问,我们通过遗传算法来实现,我们需要根据需求来设定目标函数.首先由于钢材本身的化学成分标准与题目中钢厂产钢目标值.我们需要将脱氧合金化后的钢水重量与目标结果尽量小.在此同时尽量降低成本.\n",
    "\n",
    "因此首先我们需要不同元素收得率的预测模型,经过计算我们发现其中P,S无法进行稳定预测.因此我们将目标函数的中元素化学成分部分,元素种类限制为,C,Mn,Si三种元素.\n",
    "\n",
    "同时我们还需要一个总成本计算函数.\n",
    "\n",
    "不完美之处:\n",
    "    身为非专业者,目标函数中三种元素含量与成本之间的权重不好设立."
   ]
  },
  {
   "cell_type": "code",
   "execution_count": null,
   "metadata": {},
   "outputs": [],
   "source": []
  }
 ],
 "metadata": {
  "kernelspec": {
   "display_name": "Python 3",
   "language": "python",
   "name": "python3"
  },
  "language_info": {
   "codemirror_mode": {
    "name": "ipython",
    "version": 3
   },
   "file_extension": ".py",
   "mimetype": "text/x-python",
   "name": "python",
   "nbconvert_exporter": "python",
   "pygments_lexer": "ipython3",
   "version": "3.5.6"
  },
  "latex_envs": {
   "LaTeX_envs_menu_present": true,
   "autoclose": false,
   "autocomplete": true,
   "bibliofile": "biblio.bib",
   "cite_by": "apalike",
   "current_citInitial": 1,
   "eqLabelWithNumbers": true,
   "eqNumInitial": 1,
   "hotkeys": {
    "equation": "Ctrl-E",
    "itemize": "Ctrl-I"
   },
   "labels_anchors": false,
   "latex_user_defs": false,
   "report_style_numbering": false,
   "user_envs_cfg": false
  },
  "varInspector": {
   "cols": {
    "lenName": 16,
    "lenType": 16,
    "lenVar": 40
   },
   "kernels_config": {
    "python": {
     "delete_cmd_postfix": "",
     "delete_cmd_prefix": "del ",
     "library": "var_list.py",
     "varRefreshCmd": "print(var_dic_list())"
    },
    "r": {
     "delete_cmd_postfix": ") ",
     "delete_cmd_prefix": "rm(",
     "library": "var_list.r",
     "varRefreshCmd": "cat(var_dic_list()) "
    }
   },
   "types_to_exclude": [
    "module",
    "function",
    "builtin_function_or_method",
    "instance",
    "_Feature"
   ],
   "window_display": false
  }
 },
 "nbformat": 4,
 "nbformat_minor": 2
}
