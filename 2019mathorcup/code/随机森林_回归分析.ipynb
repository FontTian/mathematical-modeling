{
 "cells": [
  {
   "cell_type": "code",
   "execution_count": 1,
   "metadata": {
    "ExecuteTime": {
     "end_time": "2019-04-12T03:35:44.979337Z",
     "start_time": "2019-04-12T03:35:44.602724Z"
    }
   },
   "outputs": [],
   "source": [
    "import pandas as pd\n",
    "\n",
    "read_path = \"NEW.csv\"\n",
    "df_data_final_2 = pd.read_csv(open(read_path,encoding = \"utf8\"))\n",
    "df_label_2 = df_data_final_2[['收得率']]"
   ]
  },
  {
   "cell_type": "code",
   "execution_count": 2,
   "metadata": {
    "ExecuteTime": {
     "end_time": "2019-04-12T03:35:45.542918Z",
     "start_time": "2019-04-12T03:35:45.533942Z"
    }
   },
   "outputs": [
    {
     "data": {
      "text/plain": [
       "Index(['收得率', '炉号', '钢号', '转炉终点温度', '转炉终点C', '转炉终点Mn', '转炉终点S', '转炉终点P',\n",
       "       '转炉终点Si', '钢水净重', '连铸正样C', '连铸正样Mn', '连铸正样S', '连铸正样P', '连铸正样Si',\n",
       "       '连铸正样Ceq_val', '连铸正样Cr', '连铸正样Ni_val', '连铸正样Cu_val', '连铸正样V_val',\n",
       "       '连铸正样Alt_val', '连铸正样Als_val', '连铸正样Mo_val', '连铸正样Ti_val',\n",
       "       '氮化钒铁FeV55N11-A', '低铝硅铁', '钒氮合金(进口)', '钒铁(FeV50-A)', '钒铁(FeV50-B)',\n",
       "       '钒铁(FeV50-B).1', '硅铝钙', '硅铝合金FeAl30Si25', '硅铝锰合金球', '硅锰面（硅锰渣）',\n",
       "       '硅铁(合格块)', '硅铁FeSi75-B', '石油焦增碳剂', '锰硅合金FeMn64Si27(合格块)',\n",
       "       '锰硅合金FeMn68Si18(合格块)', '碳化硅(55%)', '硅钙碳脱氧剂', '氧化后钢水净重'],\n",
       "      dtype='object')"
      ]
     },
     "execution_count": 2,
     "metadata": {},
     "output_type": "execute_result"
    }
   ],
   "source": [
    "df_data_final_2.columns"
   ]
  },
  {
   "cell_type": "code",
   "execution_count": 11,
   "metadata": {
    "ExecuteTime": {
     "end_time": "2019-04-12T03:36:51.565970Z",
     "start_time": "2019-04-12T03:36:51.560955Z"
    }
   },
   "outputs": [
    {
     "data": {
      "text/plain": [
       "(225, 225)"
      ]
     },
     "execution_count": 11,
     "metadata": {},
     "output_type": "execute_result"
    }
   ],
   "source": [
    "df_data_2 = df_data_final_2[[ '转炉终点温度', '转炉终点C', '转炉终点Mn', '转炉终点S', '转炉终点P', '转炉终点Si',\n",
    "       '钢水净重', '氮化钒铁FeV55N11-A', '低铝硅铁', '钒氮合金(进口)',\n",
    "       '钒铁(FeV50-A)', '钒铁(FeV50-B)', '钒铁(FeV50-B).1', '硅铝钙', '硅铝合金FeAl30Si25',\n",
    "       '硅铝锰合金球', '硅锰面（硅锰渣）', '硅铁(合格块)', '硅铁FeSi75-B', '石油焦增碳剂',\n",
    "       '锰硅合金FeMn64Si27(合格块)', '锰硅合金FeMn68Si18(合格块)', '碳化硅(55%)', '硅钙碳脱氧剂']]\n",
    "\n",
    "len(df_data_2),len(df_label_2)"
   ]
  },
  {
   "cell_type": "code",
   "execution_count": 12,
   "metadata": {
    "ExecuteTime": {
     "end_time": "2019-04-12T03:36:56.947038Z",
     "start_time": "2019-04-12T03:36:56.942052Z"
    }
   },
   "outputs": [
    {
     "data": {
      "text/plain": [
       "Index(['转炉终点温度', '转炉终点C', '转炉终点Mn', '转炉终点S', '转炉终点P', '转炉终点Si', '钢水净重',\n",
       "       '氮化钒铁FeV55N11-A', '低铝硅铁', '钒氮合金(进口)', '钒铁(FeV50-A)', '钒铁(FeV50-B)',\n",
       "       '钒铁(FeV50-B).1', '硅铝钙', '硅铝合金FeAl30Si25', '硅铝锰合金球', '硅锰面（硅锰渣）',\n",
       "       '硅铁(合格块)', '硅铁FeSi75-B', '石油焦增碳剂', '锰硅合金FeMn64Si27(合格块)',\n",
       "       '锰硅合金FeMn68Si18(合格块)', '碳化硅(55%)', '硅钙碳脱氧剂'],\n",
       "      dtype='object')"
      ]
     },
     "execution_count": 12,
     "metadata": {},
     "output_type": "execute_result"
    }
   ],
   "source": [
    "df_result = pd.read_csv(\"df_result.csv\")\n",
    "df_data_2.columns"
   ]
  },
  {
   "cell_type": "code",
   "execution_count": 13,
   "metadata": {
    "ExecuteTime": {
     "end_time": "2019-04-12T03:36:57.324031Z",
     "start_time": "2019-04-12T03:36:57.318047Z"
    }
   },
   "outputs": [],
   "source": [
    "from sklearn.preprocessing import LabelEncoder, StandardScaler\n",
    "import pandas as pd\n",
    "import warnings\n",
    "warnings.filterwarnings(\"ignore\")\n",
    "\n",
    "standardScaler = StandardScaler()\n",
    "standardScaler.fit(df_data_2)\n",
    "df_future = pd.DataFrame(standardScaler.transform(df_data_2))\n",
    "df_future.columns = df_data_2.columns"
   ]
  },
  {
   "cell_type": "code",
   "execution_count": 14,
   "metadata": {
    "ExecuteTime": {
     "end_time": "2019-04-12T03:36:57.723960Z",
     "start_time": "2019-04-12T03:36:57.719970Z"
    }
   },
   "outputs": [
    {
     "data": {
      "text/plain": [
       "dict_keys(['explained_variance', 'neg_mean_absolute_error', 'f1_samples', 'recall_macro', 'fowlkes_mallows_score', 'recall_samples', 'brier_score_loss', 'neg_mean_squared_log_error', 'precision', 'neg_log_loss', 'recall_weighted', 'neg_mean_squared_error', 'neg_median_absolute_error', 'recall', 'precision_macro', 'average_precision', 'f1', 'adjusted_rand_score', 'f1_micro', 'precision_micro', 'normalized_mutual_info_score', 'homogeneity_score', 'r2', 'adjusted_mutual_info_score', 'v_measure_score', 'completeness_score', 'recall_micro', 'balanced_accuracy', 'roc_auc', 'accuracy', 'mutual_info_score', 'precision_weighted', 'precision_samples', 'f1_weighted', 'f1_macro'])"
      ]
     },
     "execution_count": 14,
     "metadata": {},
     "output_type": "execute_result"
    }
   ],
   "source": [
    "from sklearn import metrics\n",
    "metrics.SCORERS.keys()"
   ]
  },
  {
   "cell_type": "code",
   "execution_count": 15,
   "metadata": {
    "ExecuteTime": {
     "end_time": "2019-04-12T03:36:58.349163Z",
     "start_time": "2019-04-12T03:36:58.345175Z"
    }
   },
   "outputs": [],
   "source": [
    "def Train_model(model, y=\"收得率\",scoring=\"neg_mean_squared_error\"):\n",
    "\n",
    "    # 训练模型，估计模型参数\n",
    "    model.fit(df_future, df_label_2[y])\n",
    "\n",
    "    from sklearn.model_selection import cross_val_score\n",
    "    scores_clf_svc_cv = cross_val_score(\n",
    "        model, df_future, df_label_2[y], cv=10, scoring=scoring)\n",
    "\n",
    "    print(np.mean(scores_clf_svc_cv), scores_clf_svc_cv)\n",
    "    \n",
    "    return model\n",
    "\n",
    "# model.coef_, model.intercept_"
   ]
  },
  {
   "cell_type": "code",
   "execution_count": 16,
   "metadata": {
    "ExecuteTime": {
     "end_time": "2019-04-12T03:36:59.303280Z",
     "start_time": "2019-04-12T03:36:59.093840Z"
    }
   },
   "outputs": [
    {
     "name": "stdout",
     "output_type": "stream",
     "text": [
      "-0.02386953793769494 [-0.00962188 -0.00087591 -0.00116301 -0.22093746 -0.00085136 -0.00090688\n",
      " -0.00137533 -0.00090963 -0.00098158 -0.00107235]\n"
     ]
    },
    {
     "data": {
      "text/plain": [
       "RandomForestRegressor(bootstrap=True, criterion='mse', max_depth=None,\n",
       "           max_features='auto', max_leaf_nodes=None,\n",
       "           min_impurity_decrease=0.0, min_impurity_split=None,\n",
       "           min_samples_leaf=1, min_samples_split=2,\n",
       "           min_weight_fraction_leaf=0.0, n_estimators=15, n_jobs=None,\n",
       "           oob_score=False, random_state=42, verbose=0, warm_start=False)"
      ]
     },
     "execution_count": 16,
     "metadata": {},
     "output_type": "execute_result"
    }
   ],
   "source": [
    "from sklearn import ensemble\n",
    "randomForestRegressor = ensemble.RandomForestRegressor(n_estimators=15,random_state=42)\n",
    "\n",
    "randomForestRegressor = Train_model(model=randomForestRegressor)\n",
    "\n",
    "randomForestRegressor"
   ]
  },
  {
   "cell_type": "code",
   "execution_count": 17,
   "metadata": {
    "ExecuteTime": {
     "end_time": "2019-04-12T03:37:00.919566Z",
     "start_time": "2019-04-12T03:37:00.777945Z"
    }
   },
   "outputs": [
    {
     "data": {
      "image/png": "[encoded data removed]",
      "text/plain": [
       "<Figure size 432x288 with 1 Axes>"
      ]
     },
     "metadata": {
      "needs_background": "light"
     },
     "output_type": "display_data"
    },
    {
     "data": {
      "text/plain": [
       "array([1.26234137e-02, 6.74450505e-03, 2.55434149e-02, 1.22424433e-02,\n",
       "       1.57081855e-02, 8.86302936e-03, 3.91262438e-01, 0.00000000e+00,\n",
       "       3.01967752e-01, 8.17120065e-03, 0.00000000e+00, 0.00000000e+00,\n",
       "       2.40066669e-02, 8.50070679e-04, 1.30330947e-02, 0.00000000e+00,\n",
       "       9.91239806e-03, 0.00000000e+00, 1.55923916e-04, 3.04669552e-03,\n",
       "       8.13016165e-04, 1.62857233e-01, 1.87739474e-03, 3.21124311e-04])"
      ]
     },
     "execution_count": 17,
     "metadata": {},
     "output_type": "execute_result"
    }
   ],
   "source": [
    "import matplotlib.pyplot as plt\n",
    "%matplotlib inline\n",
    "\n",
    "importances = randomForestRegressor.feature_importances_\n",
    "std = np.std([randomForestRegressor.feature_importances_ for tree in randomForestRegressor.estimators_],\n",
    "             axis=0)\n",
    "indices = np.argsort(importances)[::-1]\n",
    "\n",
    "plt.title(\" Feature importances\")\n",
    "plt.bar(range(df_future.shape[1]), importances[indices],\n",
    "        color=\"r\", yerr=std[indices], align=\"center\")\n",
    "# plt.xticks(range(X.shape[1]), indices)\n",
    "# plt.xlim([-1, X.shape[1]])\n",
    "plt.show()\n",
    "\n",
    "randomForestRegressor.feature_importances_"
   ]
  },
  {
   "cell_type": "code",
   "execution_count": 18,
   "metadata": {
    "ExecuteTime": {
     "end_time": "2019-04-12T03:37:02.596873Z",
     "start_time": "2019-04-12T03:37:02.567950Z"
    }
   },
   "outputs": [
    {
     "name": "stdout",
     "output_type": "stream",
     "text": [
      "0.5757238507718964 [0.79915834 0.74583165 0.45522063 0.93266123 0.50196486 0.60631713\n",
      " 0.00557995 0.24809231 0.82796197 0.63445045]\n"
     ]
    },
    {
     "data": {
      "text/plain": [
       "(array([-8.65560256e-04,  5.96957004e-04, -1.65280545e-02, -4.08128274e-03,\n",
       "         4.41619207e-03, -7.83206552e-06,  1.20646986e-01,  3.09907228e-04,\n",
       "         3.85291708e-02, -1.54008211e-02,  9.36750677e-17, -1.17961196e-16,\n",
       "        -1.59789583e-02, -2.93126731e-03, -2.73792310e-03,  1.73472348e-18,\n",
       "        -3.74535863e-02,  5.09575021e-18,  1.92890199e-02, -1.62260923e-03,\n",
       "        -1.33746822e-01, -1.38696447e-01, -3.18485426e-03, -3.17195732e-03]),\n",
       " 0.9016808188888891)"
      ]
     },
     "execution_count": 18,
     "metadata": {},
     "output_type": "execute_result"
    }
   ],
   "source": [
    "from sklearn import linear_model\n",
    "linearRegression = linear_model.LinearRegression()\n",
    "\n",
    "linearRegression  = Train_model(model=linearRegression,scoring='r2')\n",
    "linearRegression.coef_, linearRegression.intercept_"
   ]
  },
  {
   "cell_type": "code",
   "execution_count": 25,
   "metadata": {
    "ExecuteTime": {
     "end_time": "2019-04-12T03:38:53.375827Z",
     "start_time": "2019-04-12T03:38:53.246175Z"
    }
   },
   "outputs": [
    {
     "data": {
      "text/plain": [
       "array([[<matplotlib.axes._subplots.AxesSubplot object at 0x000002A1AAECA2E8>]],\n",
       "      dtype=object)"
      ]
     },
     "execution_count": 25,
     "metadata": {},
     "output_type": "execute_result"
    },
    {
     "data": {
      "image/png": "[encoded data removed]",
      "text/plain": [
       "<Figure size 432x288 with 1 Axes>"
      ]
     },
     "metadata": {
      "needs_background": "light"
     },
     "output_type": "display_data"
    }
   ],
   "source": [
    "df_label_2[df_label_2 <= 1.1].hist()"
   ]
  },
  {
   "cell_type": "code",
   "execution_count": 20,
   "metadata": {
    "ExecuteTime": {
     "end_time": "2019-04-12T03:37:48.179779Z",
     "start_time": "2019-04-12T03:37:48.169831Z"
    }
   },
   "outputs": [
    {
     "data": {
      "text/html": [
       "<div>\n",
       "<style scoped>\n",
       "    .dataframe tbody tr th:only-of-type {\n",
       "        vertical-align: middle;\n",
       "    }\n",
       "\n",
       "    .dataframe tbody tr th {\n",
       "        vertical-align: top;\n",
       "    }\n",
       "\n",
       "    .dataframe thead th {\n",
       "        text-align: right;\n",
       "    }\n",
       "</style>\n",
       "<table border=\"1\" class=\"dataframe\">\n",
       "  <thead>\n",
       "    <tr style=\"text-align: right;\">\n",
       "      <th></th>\n",
       "      <th>收得率</th>\n",
       "    </tr>\n",
       "  </thead>\n",
       "  <tbody>\n",
       "    <tr>\n",
       "      <th>0</th>\n",
       "      <td>0.920269</td>\n",
       "    </tr>\n",
       "    <tr>\n",
       "      <th>1</th>\n",
       "      <td>0.857033</td>\n",
       "    </tr>\n",
       "    <tr>\n",
       "      <th>2</th>\n",
       "      <td>0.732074</td>\n",
       "    </tr>\n",
       "    <tr>\n",
       "      <th>3</th>\n",
       "      <td>0.897417</td>\n",
       "    </tr>\n",
       "    <tr>\n",
       "      <th>4</th>\n",
       "      <td>0.887767</td>\n",
       "    </tr>\n",
       "    <tr>\n",
       "      <th>5</th>\n",
       "      <td>0.447355</td>\n",
       "    </tr>\n",
       "    <tr>\n",
       "      <th>6</th>\n",
       "      <td>0.923588</td>\n",
       "    </tr>\n",
       "    <tr>\n",
       "      <th>7</th>\n",
       "      <td>0.942004</td>\n",
       "    </tr>\n",
       "    <tr>\n",
       "      <th>8</th>\n",
       "      <td>0.876863</td>\n",
       "    </tr>\n",
       "    <tr>\n",
       "      <th>9</th>\n",
       "      <td>0.895663</td>\n",
       "    </tr>\n",
       "    <tr>\n",
       "      <th>10</th>\n",
       "      <td>0.891855</td>\n",
       "    </tr>\n",
       "    <tr>\n",
       "      <th>11</th>\n",
       "      <td>0.914244</td>\n",
       "    </tr>\n",
       "    <tr>\n",
       "      <th>12</th>\n",
       "      <td>0.884672</td>\n",
       "    </tr>\n",
       "    <tr>\n",
       "      <th>13</th>\n",
       "      <td>0.952485</td>\n",
       "    </tr>\n",
       "    <tr>\n",
       "      <th>14</th>\n",
       "      <td>0.907977</td>\n",
       "    </tr>\n",
       "    <tr>\n",
       "      <th>15</th>\n",
       "      <td>0.875422</td>\n",
       "    </tr>\n",
       "    <tr>\n",
       "      <th>16</th>\n",
       "      <td>0.811097</td>\n",
       "    </tr>\n",
       "    <tr>\n",
       "      <th>17</th>\n",
       "      <td>0.897869</td>\n",
       "    </tr>\n",
       "    <tr>\n",
       "      <th>18</th>\n",
       "      <td>0.884829</td>\n",
       "    </tr>\n",
       "    <tr>\n",
       "      <th>19</th>\n",
       "      <td>0.843373</td>\n",
       "    </tr>\n",
       "    <tr>\n",
       "      <th>20</th>\n",
       "      <td>0.782169</td>\n",
       "    </tr>\n",
       "    <tr>\n",
       "      <th>21</th>\n",
       "      <td>0.883638</td>\n",
       "    </tr>\n",
       "    <tr>\n",
       "      <th>22</th>\n",
       "      <td>0.777374</td>\n",
       "    </tr>\n",
       "    <tr>\n",
       "      <th>23</th>\n",
       "      <td>0.924797</td>\n",
       "    </tr>\n",
       "    <tr>\n",
       "      <th>24</th>\n",
       "      <td>0.862631</td>\n",
       "    </tr>\n",
       "    <tr>\n",
       "      <th>25</th>\n",
       "      <td>0.921064</td>\n",
       "    </tr>\n",
       "    <tr>\n",
       "      <th>26</th>\n",
       "      <td>0.934043</td>\n",
       "    </tr>\n",
       "    <tr>\n",
       "      <th>27</th>\n",
       "      <td>0.922580</td>\n",
       "    </tr>\n",
       "    <tr>\n",
       "      <th>28</th>\n",
       "      <td>0.808931</td>\n",
       "    </tr>\n",
       "    <tr>\n",
       "      <th>29</th>\n",
       "      <td>0.922264</td>\n",
       "    </tr>\n",
       "    <tr>\n",
       "      <th>...</th>\n",
       "      <td>...</td>\n",
       "    </tr>\n",
       "    <tr>\n",
       "      <th>195</th>\n",
       "      <td>0.912631</td>\n",
       "    </tr>\n",
       "    <tr>\n",
       "      <th>196</th>\n",
       "      <td>0.928688</td>\n",
       "    </tr>\n",
       "    <tr>\n",
       "      <th>197</th>\n",
       "      <td>0.943898</td>\n",
       "    </tr>\n",
       "    <tr>\n",
       "      <th>198</th>\n",
       "      <td>0.894812</td>\n",
       "    </tr>\n",
       "    <tr>\n",
       "      <th>199</th>\n",
       "      <td>0.886197</td>\n",
       "    </tr>\n",
       "    <tr>\n",
       "      <th>200</th>\n",
       "      <td>0.890780</td>\n",
       "    </tr>\n",
       "    <tr>\n",
       "      <th>201</th>\n",
       "      <td>0.906620</td>\n",
       "    </tr>\n",
       "    <tr>\n",
       "      <th>202</th>\n",
       "      <td>0.965569</td>\n",
       "    </tr>\n",
       "    <tr>\n",
       "      <th>203</th>\n",
       "      <td>0.918065</td>\n",
       "    </tr>\n",
       "    <tr>\n",
       "      <th>204</th>\n",
       "      <td>0.906200</td>\n",
       "    </tr>\n",
       "    <tr>\n",
       "      <th>205</th>\n",
       "      <td>0.907287</td>\n",
       "    </tr>\n",
       "    <tr>\n",
       "      <th>206</th>\n",
       "      <td>0.836931</td>\n",
       "    </tr>\n",
       "    <tr>\n",
       "      <th>207</th>\n",
       "      <td>0.914721</td>\n",
       "    </tr>\n",
       "    <tr>\n",
       "      <th>208</th>\n",
       "      <td>0.859518</td>\n",
       "    </tr>\n",
       "    <tr>\n",
       "      <th>209</th>\n",
       "      <td>0.850113</td>\n",
       "    </tr>\n",
       "    <tr>\n",
       "      <th>210</th>\n",
       "      <td>0.767451</td>\n",
       "    </tr>\n",
       "    <tr>\n",
       "      <th>211</th>\n",
       "      <td>0.861295</td>\n",
       "    </tr>\n",
       "    <tr>\n",
       "      <th>212</th>\n",
       "      <td>1.029549</td>\n",
       "    </tr>\n",
       "    <tr>\n",
       "      <th>213</th>\n",
       "      <td>0.893174</td>\n",
       "    </tr>\n",
       "    <tr>\n",
       "      <th>214</th>\n",
       "      <td>0.885355</td>\n",
       "    </tr>\n",
       "    <tr>\n",
       "      <th>215</th>\n",
       "      <td>0.941478</td>\n",
       "    </tr>\n",
       "    <tr>\n",
       "      <th>216</th>\n",
       "      <td>0.909890</td>\n",
       "    </tr>\n",
       "    <tr>\n",
       "      <th>217</th>\n",
       "      <td>0.887241</td>\n",
       "    </tr>\n",
       "    <tr>\n",
       "      <th>218</th>\n",
       "      <td>0.932447</td>\n",
       "    </tr>\n",
       "    <tr>\n",
       "      <th>219</th>\n",
       "      <td>0.916347</td>\n",
       "    </tr>\n",
       "    <tr>\n",
       "      <th>220</th>\n",
       "      <td>0.873484</td>\n",
       "    </tr>\n",
       "    <tr>\n",
       "      <th>221</th>\n",
       "      <td>0.908053</td>\n",
       "    </tr>\n",
       "    <tr>\n",
       "      <th>222</th>\n",
       "      <td>0.937871</td>\n",
       "    </tr>\n",
       "    <tr>\n",
       "      <th>223</th>\n",
       "      <td>0.926330</td>\n",
       "    </tr>\n",
       "    <tr>\n",
       "      <th>224</th>\n",
       "      <td>0.904225</td>\n",
       "    </tr>\n",
       "  </tbody>\n",
       "</table>\n",
       "<p>225 rows × 1 columns</p>\n",
       "</div>"
      ],
      "text/plain": [
       "          收得率\n",
       "0    0.920269\n",
       "1    0.857033\n",
       "2    0.732074\n",
       "3    0.897417\n",
       "4    0.887767\n",
       "5    0.447355\n",
       "6    0.923588\n",
       "7    0.942004\n",
       "8    0.876863\n",
       "9    0.895663\n",
       "10   0.891855\n",
       "11   0.914244\n",
       "12   0.884672\n",
       "13   0.952485\n",
       "14   0.907977\n",
       "15   0.875422\n",
       "16   0.811097\n",
       "17   0.897869\n",
       "18   0.884829\n",
       "19   0.843373\n",
       "20   0.782169\n",
       "21   0.883638\n",
       "22   0.777374\n",
       "23   0.924797\n",
       "24   0.862631\n",
       "25   0.921064\n",
       "26   0.934043\n",
       "27   0.922580\n",
       "28   0.808931\n",
       "29   0.922264\n",
       "..        ...\n",
       "195  0.912631\n",
       "196  0.928688\n",
       "197  0.943898\n",
       "198  0.894812\n",
       "199  0.886197\n",
       "200  0.890780\n",
       "201  0.906620\n",
       "202  0.965569\n",
       "203  0.918065\n",
       "204  0.906200\n",
       "205  0.907287\n",
       "206  0.836931\n",
       "207  0.914721\n",
       "208  0.859518\n",
       "209  0.850113\n",
       "210  0.767451\n",
       "211  0.861295\n",
       "212  1.029549\n",
       "213  0.893174\n",
       "214  0.885355\n",
       "215  0.941478\n",
       "216  0.909890\n",
       "217  0.887241\n",
       "218  0.932447\n",
       "219  0.916347\n",
       "220  0.873484\n",
       "221  0.908053\n",
       "222  0.937871\n",
       "223  0.926330\n",
       "224  0.904225\n",
       "\n",
       "[225 rows x 1 columns]"
      ]
     },
     "execution_count": 20,
     "metadata": {},
     "output_type": "execute_result"
    }
   ],
   "source": [
    "df_label_2"
   ]
  },
  {
   "cell_type": "code",
   "execution_count": null,
   "metadata": {},
   "outputs": [],
   "source": []
  }
 ],
 "metadata": {
  "kernelspec": {
   "display_name": "Python 3",
   "language": "python",
   "name": "python3"
  },
  "language_info": {
   "codemirror_mode": {
    "name": "ipython",
    "version": 3
   },
   "file_extension": ".py",
   "mimetype": "text/x-python",
   "name": "python",
   "nbconvert_exporter": "python",
   "pygments_lexer": "ipython3",
   "version": "3.5.6"
  },
  "latex_envs": {
   "LaTeX_envs_menu_present": true,
   "autoclose": false,
   "autocomplete": true,
   "bibliofile": "biblio.bib",
   "cite_by": "apalike",
   "current_citInitial": 1,
   "eqLabelWithNumbers": true,
   "eqNumInitial": 1,
   "hotkeys": {
    "equation": "Ctrl-E",
    "itemize": "Ctrl-I"
   },
   "labels_anchors": false,
   "latex_user_defs": false,
   "report_style_numbering": false,
   "user_envs_cfg": false
  },
  "varInspector": {
   "cols": {
    "lenName": 16,
    "lenType": 16,
    "lenVar": 40
   },
   "kernels_config": {
    "python": {
     "delete_cmd_postfix": "",
     "delete_cmd_prefix": "del ",
     "library": "var_list.py",
     "varRefreshCmd": "print(var_dic_list())"
    },
    "r": {
     "delete_cmd_postfix": ") ",
     "delete_cmd_prefix": "rm(",
     "library": "var_list.r",
     "varRefreshCmd": "cat(var_dic_list()) "
    }
   },
   "types_to_exclude": [
    "module",
    "function",
    "builtin_function_or_method",
    "instance",
    "_Feature"
   ],
   "window_display": false
  }
 },
 "nbformat": 4,
 "nbformat_minor": 2
}
