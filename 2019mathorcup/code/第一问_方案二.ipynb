{
 "cells": [
  {
   "cell_type": "code",
   "execution_count": 1,
   "metadata": {
    "ExecuteTime": {
     "end_time": "2019-04-14T01:24:06.529863Z",
     "start_time": "2019-04-14T01:24:06.066102Z"
    }
   },
   "outputs": [
    {
     "data": {
      "text/html": [
       "<div>\n",
       "<style scoped>\n",
       "    .dataframe tbody tr th:only-of-type {\n",
       "        vertical-align: middle;\n",
       "    }\n",
       "\n",
       "    .dataframe tbody tr th {\n",
       "        vertical-align: top;\n",
       "    }\n",
       "\n",
       "    .dataframe thead th {\n",
       "        text-align: right;\n",
       "    }\n",
       "</style>\n",
       "<table border=\"1\" class=\"dataframe\">\n",
       "  <thead>\n",
       "    <tr style=\"text-align: right;\">\n",
       "      <th></th>\n",
       "      <th>炉号</th>\n",
       "      <th>钢号</th>\n",
       "      <th>转炉终点温度</th>\n",
       "      <th>转炉终点C</th>\n",
       "      <th>转炉终点Mn</th>\n",
       "      <th>转炉终点S</th>\n",
       "      <th>转炉终点P</th>\n",
       "      <th>转炉终点Si</th>\n",
       "      <th>钢水净重</th>\n",
       "      <th>连铸正样C</th>\n",
       "      <th>...</th>\n",
       "      <th>硅铝合金FeAl30Si25</th>\n",
       "      <th>硅铝锰合金球</th>\n",
       "      <th>硅锰面（硅锰渣）</th>\n",
       "      <th>硅铁(合格块)</th>\n",
       "      <th>硅铁FeSi75-B</th>\n",
       "      <th>石油焦增碳剂</th>\n",
       "      <th>锰硅合金FeMn64Si27(合格块)</th>\n",
       "      <th>锰硅合金FeMn68Si18(合格块)</th>\n",
       "      <th>碳化硅(55%)</th>\n",
       "      <th>硅钙碳脱氧剂</th>\n",
       "    </tr>\n",
       "  </thead>\n",
       "  <tbody>\n",
       "    <tr>\n",
       "      <th>0</th>\n",
       "      <td>7A06878</td>\n",
       "      <td>HRB400B</td>\n",
       "      <td>1644</td>\n",
       "      <td>0.00065</td>\n",
       "      <td>0.0011</td>\n",
       "      <td>0.00030</td>\n",
       "      <td>0.00014</td>\n",
       "      <td>0.004</td>\n",
       "      <td>74400</td>\n",
       "      <td>0.0023</td>\n",
       "      <td>...</td>\n",
       "      <td>0</td>\n",
       "      <td>0</td>\n",
       "      <td>0</td>\n",
       "      <td>0</td>\n",
       "      <td>0</td>\n",
       "      <td>85</td>\n",
       "      <td>1547</td>\n",
       "      <td>0</td>\n",
       "      <td>88</td>\n",
       "      <td>0</td>\n",
       "    </tr>\n",
       "    <tr>\n",
       "      <th>1</th>\n",
       "      <td>7A06877</td>\n",
       "      <td>HRB400B</td>\n",
       "      <td>1543</td>\n",
       "      <td>0.00077</td>\n",
       "      <td>0.0011</td>\n",
       "      <td>0.00039</td>\n",
       "      <td>0.00021</td>\n",
       "      <td>0.004</td>\n",
       "      <td>74200</td>\n",
       "      <td>0.0023</td>\n",
       "      <td>...</td>\n",
       "      <td>0</td>\n",
       "      <td>0</td>\n",
       "      <td>0</td>\n",
       "      <td>0</td>\n",
       "      <td>0</td>\n",
       "      <td>68</td>\n",
       "      <td>1530</td>\n",
       "      <td>0</td>\n",
       "      <td>132</td>\n",
       "      <td>0</td>\n",
       "    </tr>\n",
       "    <tr>\n",
       "      <th>2</th>\n",
       "      <td>7A06876</td>\n",
       "      <td>HRB400B</td>\n",
       "      <td>1684</td>\n",
       "      <td>0.00035</td>\n",
       "      <td>0.0011</td>\n",
       "      <td>0.00024</td>\n",
       "      <td>0.00020</td>\n",
       "      <td>0.004</td>\n",
       "      <td>78250</td>\n",
       "      <td>0.0023</td>\n",
       "      <td>...</td>\n",
       "      <td>0</td>\n",
       "      <td>0</td>\n",
       "      <td>0</td>\n",
       "      <td>0</td>\n",
       "      <td>0</td>\n",
       "      <td>90</td>\n",
       "      <td>0</td>\n",
       "      <td>1450</td>\n",
       "      <td>132</td>\n",
       "      <td>0</td>\n",
       "    </tr>\n",
       "    <tr>\n",
       "      <th>3</th>\n",
       "      <td>7A06875</td>\n",
       "      <td>HRB400B</td>\n",
       "      <td>1674</td>\n",
       "      <td>0.00048</td>\n",
       "      <td>0.0012</td>\n",
       "      <td>0.00036</td>\n",
       "      <td>0.00030</td>\n",
       "      <td>0.004</td>\n",
       "      <td>73600</td>\n",
       "      <td>0.0022</td>\n",
       "      <td>...</td>\n",
       "      <td>0</td>\n",
       "      <td>0</td>\n",
       "      <td>0</td>\n",
       "      <td>0</td>\n",
       "      <td>0</td>\n",
       "      <td>85</td>\n",
       "      <td>0</td>\n",
       "      <td>1450</td>\n",
       "      <td>132</td>\n",
       "      <td>0</td>\n",
       "    </tr>\n",
       "    <tr>\n",
       "      <th>4</th>\n",
       "      <td>7A06874</td>\n",
       "      <td>HRB400B</td>\n",
       "      <td>1800</td>\n",
       "      <td>0.00036</td>\n",
       "      <td>0.0009</td>\n",
       "      <td>0.00028</td>\n",
       "      <td>0.00025</td>\n",
       "      <td>0.004</td>\n",
       "      <td>72400</td>\n",
       "      <td>0.0024</td>\n",
       "      <td>...</td>\n",
       "      <td>0</td>\n",
       "      <td>0</td>\n",
       "      <td>0</td>\n",
       "      <td>0</td>\n",
       "      <td>0</td>\n",
       "      <td>90</td>\n",
       "      <td>0</td>\n",
       "      <td>1450</td>\n",
       "      <td>132</td>\n",
       "      <td>0</td>\n",
       "    </tr>\n",
       "    <tr>\n",
       "      <th>5</th>\n",
       "      <td>7A06873</td>\n",
       "      <td>HRB400B</td>\n",
       "      <td>1660</td>\n",
       "      <td>0.00022</td>\n",
       "      <td>0.0007</td>\n",
       "      <td>0.00038</td>\n",
       "      <td>0.00014</td>\n",
       "      <td>0.004</td>\n",
       "      <td>70350</td>\n",
       "      <td>0.0023</td>\n",
       "      <td>...</td>\n",
       "      <td>0</td>\n",
       "      <td>0</td>\n",
       "      <td>0</td>\n",
       "      <td>0</td>\n",
       "      <td>0</td>\n",
       "      <td>90</td>\n",
       "      <td>0</td>\n",
       "      <td>1450</td>\n",
       "      <td>132</td>\n",
       "      <td>0</td>\n",
       "    </tr>\n",
       "    <tr>\n",
       "      <th>6</th>\n",
       "      <td>7A06872</td>\n",
       "      <td>HRB400B</td>\n",
       "      <td>1654</td>\n",
       "      <td>0.00070</td>\n",
       "      <td>0.0012</td>\n",
       "      <td>0.00020</td>\n",
       "      <td>0.00013</td>\n",
       "      <td>0.004</td>\n",
       "      <td>77800</td>\n",
       "      <td>0.0023</td>\n",
       "      <td>...</td>\n",
       "      <td>0</td>\n",
       "      <td>0</td>\n",
       "      <td>0</td>\n",
       "      <td>0</td>\n",
       "      <td>0</td>\n",
       "      <td>58</td>\n",
       "      <td>0</td>\n",
       "      <td>1500</td>\n",
       "      <td>132</td>\n",
       "      <td>0</td>\n",
       "    </tr>\n",
       "    <tr>\n",
       "      <th>7</th>\n",
       "      <td>7A06871</td>\n",
       "      <td>HRB400B</td>\n",
       "      <td>1666</td>\n",
       "      <td>0.00063</td>\n",
       "      <td>0.0014</td>\n",
       "      <td>0.00025</td>\n",
       "      <td>0.00031</td>\n",
       "      <td>0.004</td>\n",
       "      <td>73050</td>\n",
       "      <td>0.0024</td>\n",
       "      <td>...</td>\n",
       "      <td>0</td>\n",
       "      <td>0</td>\n",
       "      <td>0</td>\n",
       "      <td>0</td>\n",
       "      <td>0</td>\n",
       "      <td>80</td>\n",
       "      <td>0</td>\n",
       "      <td>1450</td>\n",
       "      <td>132</td>\n",
       "      <td>0</td>\n",
       "    </tr>\n",
       "    <tr>\n",
       "      <th>8</th>\n",
       "      <td>7A06870</td>\n",
       "      <td>HRB400B</td>\n",
       "      <td>1666</td>\n",
       "      <td>0.00106</td>\n",
       "      <td>0.0009</td>\n",
       "      <td>0.00022</td>\n",
       "      <td>0.00012</td>\n",
       "      <td>0.004</td>\n",
       "      <td>74300</td>\n",
       "      <td>0.0022</td>\n",
       "      <td>...</td>\n",
       "      <td>0</td>\n",
       "      <td>0</td>\n",
       "      <td>0</td>\n",
       "      <td>0</td>\n",
       "      <td>0</td>\n",
       "      <td>58</td>\n",
       "      <td>0</td>\n",
       "      <td>1580</td>\n",
       "      <td>132</td>\n",
       "      <td>0</td>\n",
       "    </tr>\n",
       "    <tr>\n",
       "      <th>9</th>\n",
       "      <td>7A06869</td>\n",
       "      <td>HRB400B</td>\n",
       "      <td>1658</td>\n",
       "      <td>0.00043</td>\n",
       "      <td>0.0011</td>\n",
       "      <td>0.00028</td>\n",
       "      <td>0.00021</td>\n",
       "      <td>0.004</td>\n",
       "      <td>74850</td>\n",
       "      <td>0.0024</td>\n",
       "      <td>...</td>\n",
       "      <td>0</td>\n",
       "      <td>0</td>\n",
       "      <td>220</td>\n",
       "      <td>0</td>\n",
       "      <td>0</td>\n",
       "      <td>85</td>\n",
       "      <td>0</td>\n",
       "      <td>1330</td>\n",
       "      <td>132</td>\n",
       "      <td>0</td>\n",
       "    </tr>\n",
       "  </tbody>\n",
       "</table>\n",
       "<p>10 rows × 39 columns</p>\n",
       "</div>"
      ],
      "text/plain": [
       "                     炉号           钢号  转炉终点温度    转炉终点C  转炉终点Mn    转炉终点S  \\\n",
       "0  7A06878               HRB400B        1644  0.00065  0.0011  0.00030   \n",
       "1  7A06877               HRB400B        1543  0.00077  0.0011  0.00039   \n",
       "2  7A06876               HRB400B        1684  0.00035  0.0011  0.00024   \n",
       "3  7A06875               HRB400B        1674  0.00048  0.0012  0.00036   \n",
       "4  7A06874               HRB400B        1800  0.00036  0.0009  0.00028   \n",
       "5  7A06873               HRB400B        1660  0.00022  0.0007  0.00038   \n",
       "6  7A06872               HRB400B        1654  0.00070  0.0012  0.00020   \n",
       "7  7A06871               HRB400B        1666  0.00063  0.0014  0.00025   \n",
       "8  7A06870               HRB400B        1666  0.00106  0.0009  0.00022   \n",
       "9  7A06869               HRB400B        1658  0.00043  0.0011  0.00028   \n",
       "\n",
       "     转炉终点P  转炉终点Si   钢水净重   连铸正样C   ...    硅铝合金FeAl30Si25  硅铝锰合金球  硅锰面（硅锰渣）  \\\n",
       "0  0.00014   0.004  74400  0.0023   ...                 0       0         0   \n",
       "1  0.00021   0.004  74200  0.0023   ...                 0       0         0   \n",
       "2  0.00020   0.004  78250  0.0023   ...                 0       0         0   \n",
       "3  0.00030   0.004  73600  0.0022   ...                 0       0         0   \n",
       "4  0.00025   0.004  72400  0.0024   ...                 0       0         0   \n",
       "5  0.00014   0.004  70350  0.0023   ...                 0       0         0   \n",
       "6  0.00013   0.004  77800  0.0023   ...                 0       0         0   \n",
       "7  0.00031   0.004  73050  0.0024   ...                 0       0         0   \n",
       "8  0.00012   0.004  74300  0.0022   ...                 0       0         0   \n",
       "9  0.00021   0.004  74850  0.0024   ...                 0       0       220   \n",
       "\n",
       "   硅铁(合格块)  硅铁FeSi75-B  石油焦增碳剂  锰硅合金FeMn64Si27(合格块)  锰硅合金FeMn68Si18(合格块)  \\\n",
       "0        0           0      85                 1547                    0   \n",
       "1        0           0      68                 1530                    0   \n",
       "2        0           0      90                    0                 1450   \n",
       "3        0           0      85                    0                 1450   \n",
       "4        0           0      90                    0                 1450   \n",
       "5        0           0      90                    0                 1450   \n",
       "6        0           0      58                    0                 1500   \n",
       "7        0           0      80                    0                 1450   \n",
       "8        0           0      58                    0                 1580   \n",
       "9        0           0      85                    0                 1330   \n",
       "\n",
       "   碳化硅(55%)  硅钙碳脱氧剂  \n",
       "0        88       0  \n",
       "1       132       0  \n",
       "2       132       0  \n",
       "3       132       0  \n",
       "4       132       0  \n",
       "5       132       0  \n",
       "6       132       0  \n",
       "7       132       0  \n",
       "8       132       0  \n",
       "9       132       0  \n",
       "\n",
       "[10 rows x 39 columns]"
      ]
     },
     "execution_count": 1,
     "metadata": {},
     "output_type": "execute_result"
    }
   ],
   "source": [
    "import pandas as pd\n",
    "\n",
    "read_path = \"data/data_0.csv\"\n",
    "df_data_1 = pd.read_csv(open(read_path,encoding = \"utf8\"))\n",
    "df_data_1.head(10)"
   ]
  },
  {
   "cell_type": "code",
   "execution_count": 2,
   "metadata": {
    "ExecuteTime": {
     "end_time": "2019-04-14T01:24:06.595687Z",
     "start_time": "2019-04-14T01:24:06.587708Z"
    }
   },
   "outputs": [
    {
     "data": {
      "text/plain": [
       "Index(['炉号', '钢号', '转炉终点温度', '转炉终点C', '转炉终点Mn', '转炉终点S', '转炉终点P', '转炉终点Si',\n",
       "       '钢水净重', '连铸正样C', '连铸正样Mn', '连铸正样S', '连铸正样P', '连铸正样Si', '连铸正样Ceq_val',\n",
       "       '连铸正样Cr', '连铸正样Ni_val', '连铸正样Cu_val', '连铸正样V_val', '连铸正样Alt_val',\n",
       "       '连铸正样Als_val', '连铸正样Mo_val', '氮化钒铁FeV55N11-A', '低铝硅铁', '钒氮合金(进口)',\n",
       "       '钒铁(FeV50-A)', '钒铁(FeV50-B)', '钒铁(FeV50-B).1', '硅铝钙', '硅铝合金FeAl30Si25',\n",
       "       '硅铝锰合金球', '硅锰面（硅锰渣）', '硅铁(合格块)', '硅铁FeSi75-B', '石油焦增碳剂',\n",
       "       '锰硅合金FeMn64Si27(合格块)', '锰硅合金FeMn68Si18(合格块)', '碳化硅(55%)', '硅钙碳脱氧剂'],\n",
       "      dtype='object')"
      ]
     },
     "execution_count": 2,
     "metadata": {},
     "output_type": "execute_result"
    }
   ],
   "source": [
    "df_data_1.columns"
   ]
  },
  {
   "cell_type": "code",
   "execution_count": 3,
   "metadata": {
    "ExecuteTime": {
     "end_time": "2019-04-14T01:24:07.133250Z",
     "start_time": "2019-04-14T01:24:07.127266Z"
    }
   },
   "outputs": [
    {
     "data": {
      "text/plain": [
       "Index(['炉号', '钢号', '转炉终点温度', '转炉终点C', '转炉终点Mn', '转炉终点S', '转炉终点P', '转炉终点Si',\n",
       "       '钢水净重', '连铸正样C', '连铸正样Mn', '连铸正样S', '连铸正样P', '连铸正样Si', '连铸正样Ceq_val',\n",
       "       '连铸正样Cr', '连铸正样Ni_val', '连铸正样Cu_val', '连铸正样V_val', '连铸正样Alt_val',\n",
       "       '连铸正样Als_val', '连铸正样Mo_val', '氮化钒铁FeV55N11-A', '低铝硅铁', '钒氮合金(进口)',\n",
       "       '钒铁(FeV50-A)', '钒铁(FeV50-B)', '钒铁(FeV50-B).1', '硅铝钙', '硅铝合金FeAl30Si25',\n",
       "       '硅铝锰合金球', '硅锰面（硅锰渣）', '硅铁(合格块)', '硅铁FeSi75-B', '石油焦增碳剂',\n",
       "       '锰硅合金FeMn64Si27(合格块)', '锰硅合金FeMn68Si18(合格块)', '碳化硅(55%)', '硅钙碳脱氧剂'],\n",
       "      dtype='object')"
      ]
     },
     "execution_count": 3,
     "metadata": {},
     "output_type": "execute_result"
    }
   ],
   "source": [
    "df_data_1.columns"
   ]
  },
  {
   "cell_type": "code",
   "execution_count": 7,
   "metadata": {
    "ExecuteTime": {
     "end_time": "2019-04-14T01:24:18.005191Z",
     "start_time": "2019-04-14T01:24:17.974273Z"
    }
   },
   "outputs": [
    {
     "data": {
      "text/html": [
       "<div>\n",
       "<style scoped>\n",
       "    .dataframe tbody tr th:only-of-type {\n",
       "        vertical-align: middle;\n",
       "    }\n",
       "\n",
       "    .dataframe tbody tr th {\n",
       "        vertical-align: top;\n",
       "    }\n",
       "\n",
       "    .dataframe thead th {\n",
       "        text-align: right;\n",
       "    }\n",
       "</style>\n",
       "<table border=\"1\" class=\"dataframe\">\n",
       "  <thead>\n",
       "    <tr style=\"text-align: right;\">\n",
       "      <th></th>\n",
       "      <th>合金配料</th>\n",
       "      <th>C</th>\n",
       "      <th>Mn</th>\n",
       "      <th>S</th>\n",
       "      <th>P</th>\n",
       "      <th>Si</th>\n",
       "      <th>Al</th>\n",
       "      <th>Ca</th>\n",
       "      <th>V</th>\n",
       "      <th>N</th>\n",
       "      <th>价格(元/吨)</th>\n",
       "    </tr>\n",
       "  </thead>\n",
       "  <tbody>\n",
       "    <tr>\n",
       "      <th>1</th>\n",
       "      <td>低铝硅铁</td>\n",
       "      <td>0.00000</td>\n",
       "      <td>0.000</td>\n",
       "      <td>0.0000</td>\n",
       "      <td>0.0000</td>\n",
       "      <td>0.740</td>\n",
       "      <td>0.0008</td>\n",
       "      <td>0.000</td>\n",
       "      <td>0.000</td>\n",
       "      <td>0.0</td>\n",
       "      <td>6500</td>\n",
       "    </tr>\n",
       "    <tr>\n",
       "      <th>3</th>\n",
       "      <td>钒铁(FeV50-A)</td>\n",
       "      <td>0.00310</td>\n",
       "      <td>0.000</td>\n",
       "      <td>0.0002</td>\n",
       "      <td>0.0006</td>\n",
       "      <td>0.012</td>\n",
       "      <td>0.0000</td>\n",
       "      <td>0.000</td>\n",
       "      <td>0.512</td>\n",
       "      <td>0.0</td>\n",
       "      <td>205000</td>\n",
       "    </tr>\n",
       "    <tr>\n",
       "      <th>4</th>\n",
       "      <td>钒铁(FeV50-B)</td>\n",
       "      <td>0.00310</td>\n",
       "      <td>0.000</td>\n",
       "      <td>0.0002</td>\n",
       "      <td>0.0006</td>\n",
       "      <td>0.012</td>\n",
       "      <td>0.0000</td>\n",
       "      <td>0.000</td>\n",
       "      <td>0.512</td>\n",
       "      <td>0.0</td>\n",
       "      <td>205000</td>\n",
       "    </tr>\n",
       "    <tr>\n",
       "      <th>5</th>\n",
       "      <td>硅铝钙</td>\n",
       "      <td>0.00000</td>\n",
       "      <td>0.000</td>\n",
       "      <td>0.0000</td>\n",
       "      <td>0.0000</td>\n",
       "      <td>0.341</td>\n",
       "      <td>0.0910</td>\n",
       "      <td>0.148</td>\n",
       "      <td>0.000</td>\n",
       "      <td>0.0</td>\n",
       "      <td>11800</td>\n",
       "    </tr>\n",
       "    <tr>\n",
       "      <th>6</th>\n",
       "      <td>硅铝合金FeAl30Si25</td>\n",
       "      <td>0.00374</td>\n",
       "      <td>0.000</td>\n",
       "      <td>0.0000</td>\n",
       "      <td>0.0000</td>\n",
       "      <td>0.285</td>\n",
       "      <td>0.3170</td>\n",
       "      <td>0.000</td>\n",
       "      <td>0.000</td>\n",
       "      <td>0.0</td>\n",
       "      <td>1000</td>\n",
       "    </tr>\n",
       "    <tr>\n",
       "      <th>7</th>\n",
       "      <td>硅铝锰合金球</td>\n",
       "      <td>0.00000</td>\n",
       "      <td>0.300</td>\n",
       "      <td>0.0000</td>\n",
       "      <td>0.0000</td>\n",
       "      <td>0.300</td>\n",
       "      <td>0.4000</td>\n",
       "      <td>0.000</td>\n",
       "      <td>0.000</td>\n",
       "      <td>0.0</td>\n",
       "      <td>8500</td>\n",
       "    </tr>\n",
       "    <tr>\n",
       "      <th>8</th>\n",
       "      <td>硅锰面（硅锰渣）</td>\n",
       "      <td>0.01700</td>\n",
       "      <td>0.664</td>\n",
       "      <td>0.0002</td>\n",
       "      <td>0.0018</td>\n",
       "      <td>0.072</td>\n",
       "      <td>0.0000</td>\n",
       "      <td>0.000</td>\n",
       "      <td>0.000</td>\n",
       "      <td>0.0</td>\n",
       "      <td>7600</td>\n",
       "    </tr>\n",
       "    <tr>\n",
       "      <th>9</th>\n",
       "      <td>硅铁(合格块)</td>\n",
       "      <td>0.00060</td>\n",
       "      <td>0.000</td>\n",
       "      <td>0.0002</td>\n",
       "      <td>0.0004</td>\n",
       "      <td>0.767</td>\n",
       "      <td>0.0000</td>\n",
       "      <td>0.000</td>\n",
       "      <td>0.000</td>\n",
       "      <td>0.0</td>\n",
       "      <td>6000</td>\n",
       "    </tr>\n",
       "    <tr>\n",
       "      <th>10</th>\n",
       "      <td>硅铁FeSi75-B</td>\n",
       "      <td>0.00060</td>\n",
       "      <td>0.000</td>\n",
       "      <td>0.0002</td>\n",
       "      <td>0.0004</td>\n",
       "      <td>0.767</td>\n",
       "      <td>0.0000</td>\n",
       "      <td>0.000</td>\n",
       "      <td>0.000</td>\n",
       "      <td>0.0</td>\n",
       "      <td>6000</td>\n",
       "    </tr>\n",
       "    <tr>\n",
       "      <th>12</th>\n",
       "      <td>锰硅合金FeMn64Si27(合格块)</td>\n",
       "      <td>0.01700</td>\n",
       "      <td>0.664</td>\n",
       "      <td>0.0002</td>\n",
       "      <td>0.0018</td>\n",
       "      <td>0.172</td>\n",
       "      <td>0.0000</td>\n",
       "      <td>0.000</td>\n",
       "      <td>0.000</td>\n",
       "      <td>0.0</td>\n",
       "      <td>8150</td>\n",
       "    </tr>\n",
       "  </tbody>\n",
       "</table>\n",
       "</div>"
      ],
      "text/plain": [
       "                   合金配料        C     Mn       S       P     Si      Al     Ca  \\\n",
       "1                  低铝硅铁  0.00000  0.000  0.0000  0.0000  0.740  0.0008  0.000   \n",
       "3           钒铁(FeV50-A)  0.00310  0.000  0.0002  0.0006  0.012  0.0000  0.000   \n",
       "4           钒铁(FeV50-B)  0.00310  0.000  0.0002  0.0006  0.012  0.0000  0.000   \n",
       "5                   硅铝钙  0.00000  0.000  0.0000  0.0000  0.341  0.0910  0.148   \n",
       "6        硅铝合金FeAl30Si25  0.00374  0.000  0.0000  0.0000  0.285  0.3170  0.000   \n",
       "7                硅铝锰合金球  0.00000  0.300  0.0000  0.0000  0.300  0.4000  0.000   \n",
       "8              硅锰面（硅锰渣）  0.01700  0.664  0.0002  0.0018  0.072  0.0000  0.000   \n",
       "9               硅铁(合格块)  0.00060  0.000  0.0002  0.0004  0.767  0.0000  0.000   \n",
       "10           硅铁FeSi75-B  0.00060  0.000  0.0002  0.0004  0.767  0.0000  0.000   \n",
       "12  锰硅合金FeMn64Si27(合格块)  0.01700  0.664  0.0002  0.0018  0.172  0.0000  0.000   \n",
       "\n",
       "        V    N  价格(元/吨)  \n",
       "1   0.000  0.0     6500  \n",
       "3   0.512  0.0   205000  \n",
       "4   0.512  0.0   205000  \n",
       "5   0.000  0.0    11800  \n",
       "6   0.000  0.0     1000  \n",
       "7   0.000  0.0     8500  \n",
       "8   0.000  0.0     7600  \n",
       "9   0.000  0.0     6000  \n",
       "10  0.000  0.0     6000  \n",
       "12  0.000  0.0     8150  "
      ]
     },
     "execution_count": 7,
     "metadata": {},
     "output_type": "execute_result"
    }
   ],
   "source": [
    "read_path = \"data/money_0.csv\"\n",
    "df_money_0 = pd.read_csv(read_path)\n",
    "df_money_0 = df_money_0.fillna(0)\n",
    "df_money_0[df_money_0['Si'] != 0].head(10)"
   ]
  },
  {
   "cell_type": "code",
   "execution_count": 8,
   "metadata": {
    "ExecuteTime": {
     "end_time": "2019-04-14T01:24:18.335309Z",
     "start_time": "2019-04-14T01:24:18.321350Z"
    }
   },
   "outputs": [],
   "source": [
    "def GetResult(element=\"P\", p=1, Mn_p=1):\n",
    "\n",
    "    All_Si_1 = df_data_1['钢水净重'] * df_data_1['转炉终点' + element]\n",
    "    All_Si_2 = 0\n",
    "\n",
    "    for i in set(df_money_0[df_money_0[element] != 0]['合金配料']):\n",
    "        All_Si_2 = All_Si_2 + df_data_1[i] * p\n",
    "\n",
    "    All_Si = (All_Si_2 + All_Si_1)/df_data_1[str('连铸正样' + element)]\n",
    "\n",
    "    All_C = 0\n",
    "\n",
    "    for i in set(df_money_0[df_money_0[\"C\"] != 0]['合金配料']):\n",
    "        All_C = All_C + df_data_1[i] * p\n",
    "\n",
    "    All_Mn = 0\n",
    "\n",
    "    for i in set(df_money_0[df_money_0[\"Mn\"] != 0]['合金配料']):\n",
    "        All_Mn = All_Mn + df_data_1[i]\n",
    "\n",
    "    df_data_1['最终钢水净重'] = All_Si\n",
    "    df_result = pd.DataFrame()\n",
    "    df_result[\"C_\"+element] = (All_Si * df_data_1['连铸正样C'] -\n",
    "                               df_data_1['钢水净重'] * df_data_1['转炉终点C'])/All_C\n",
    "    df_result[\"Mn_\"+element] = (All_Si * df_data_1['连铸正样Mn'] -\n",
    "                                df_data_1['钢水净重'] * df_data_1['转炉终点Mn'])/All_Mn\n",
    "    return df_result"
   ]
  },
  {
   "cell_type": "code",
   "execution_count": 9,
   "metadata": {
    "ExecuteTime": {
     "end_time": "2019-04-14T01:24:18.930717Z",
     "start_time": "2019-04-14T01:24:18.911768Z"
    }
   },
   "outputs": [],
   "source": [
    "element = \"P\"\n",
    "p = 1\n",
    "Mn_p = 1\n",
    "\n",
    "df_result = GetResult(element = element,p=p,Mn_p=Mn_p)\n",
    "# df_result.apply(sum)"
   ]
  },
  {
   "cell_type": "code",
   "execution_count": 10,
   "metadata": {
    "ExecuteTime": {
     "end_time": "2019-04-14T01:24:21.059028Z",
     "start_time": "2019-04-14T01:24:20.578313Z"
    }
   },
   "outputs": [
    {
     "data": {
      "image/png": "[encoded data removed]",
      "text/plain": [
       "<Figure size 432x288 with 1 Axes>"
      ]
     },
     "metadata": {
      "needs_background": "light"
     },
     "output_type": "display_data"
    }
   ],
   "source": [
    "import matplotlib.pyplot as plt\n",
    "%matplotlib inline\n",
    "df_result.plot()\n",
    "plt.show()"
   ]
  },
  {
   "cell_type": "code",
   "execution_count": 11,
   "metadata": {
    "ExecuteTime": {
     "end_time": "2019-04-14T01:24:52.993671Z",
     "start_time": "2019-04-14T01:24:52.985693Z"
    }
   },
   "outputs": [],
   "source": [
    "df_result.to_csv(\"data/P的变化率.csv\",index=None)"
   ]
  },
  {
   "cell_type": "code",
   "execution_count": 13,
   "metadata": {
    "ExecuteTime": {
     "end_time": "2019-04-11T12:52:26.773481Z",
     "start_time": "2019-04-11T12:52:26.761513Z"
    }
   },
   "outputs": [],
   "source": [
    "df_data_1.to_csv(\"data_1_2.csv\",index=None)"
   ]
  },
  {
   "cell_type": "code",
   "execution_count": 12,
   "metadata": {
    "ExecuteTime": {
     "end_time": "2019-04-11T12:52:09.819827Z",
     "start_time": "2019-04-11T12:52:09.811849Z"
    }
   },
   "outputs": [
    {
     "data": {
      "text/plain": [
       "(227,          C_Mn  Mn_Mn\n",
       " 0    0.135651    1.0\n",
       " 1    0.123370    1.0\n",
       " 2    0.146160    1.0\n",
       " 3    0.133783    1.0\n",
       " 4    0.147936    1.0\n",
       " 5    0.146983    1.0\n",
       " 6    0.137187    1.0\n",
       " 7    0.139589    1.0\n",
       " 8    0.107130    1.0\n",
       " 9    0.149747    1.0\n",
       " 10   0.140388    1.0\n",
       " 11   0.144645    1.0\n",
       " 12   0.141555    1.0\n",
       " 13   0.135189    1.0\n",
       " 14   0.145608    1.0\n",
       " 15   0.146776    1.0\n",
       " 16   0.141985    1.0\n",
       " 17   0.145128    1.0\n",
       " 18   0.138336    1.0\n",
       " 19   0.139368    1.0\n",
       " 20   0.131354    1.0\n",
       " 21   0.131166    1.0\n",
       " 22   0.154230    1.0\n",
       " 23   0.130323    1.0\n",
       " 24   0.138744    1.0\n",
       " 25   0.116045    1.0\n",
       " 26   0.141424    1.0\n",
       " 27   0.136213    1.0\n",
       " 28   0.124618    1.0\n",
       " 29   0.134087    1.0\n",
       " ..        ...    ...\n",
       " 197  0.136256    1.0\n",
       " 198  0.126550    1.0\n",
       " 199  0.121248    1.0\n",
       " 200  0.126599    1.0\n",
       " 201  0.143741    1.0\n",
       " 202  0.128872    1.0\n",
       " 203  0.124096    1.0\n",
       " 204  0.118323    1.0\n",
       " 205  0.119988    1.0\n",
       " 206  0.149934    1.0\n",
       " 207  0.145126    1.0\n",
       " 208  0.103338    1.0\n",
       " 209  0.105433    1.0\n",
       " 210  0.099405    1.0\n",
       " 211  0.111277    1.0\n",
       " 212 -0.013389    1.0\n",
       " 213  0.089682    1.0\n",
       " 214  0.100895    1.0\n",
       " 215  0.118007    1.0\n",
       " 216  0.085297    1.0\n",
       " 217  0.109164    1.0\n",
       " 218  0.115506    1.0\n",
       " 219  0.107503    1.0\n",
       " 220  0.112779    1.0\n",
       " 221  0.109988    1.0\n",
       " 222  0.103077    1.0\n",
       " 223  0.100079    1.0\n",
       " 224  0.107578    1.0\n",
       " 225  0.109566    1.0\n",
       " 226  0.105282    1.0\n",
       " \n",
       " [227 rows x 2 columns])"
      ]
     },
     "execution_count": 12,
     "metadata": {},
     "output_type": "execute_result"
    }
   ],
   "source": [
    "len(df_result[df_result['C_' + element] <= 1 ]),df_result[df_result['C_' +element] <= 1 ]"
   ]
  },
  {
   "cell_type": "code",
   "execution_count": 15,
   "metadata": {
    "ExecuteTime": {
     "end_time": "2019-04-11T13:01:36.473479Z",
     "start_time": "2019-04-11T13:01:36.469522Z"
    }
   },
   "outputs": [
    {
     "data": {
      "text/plain": [
       "77.0"
      ]
     },
     "execution_count": 15,
     "metadata": {},
     "output_type": "execute_result"
    }
   ],
   "source": [
    "70000 * 0.0011 "
   ]
  },
  {
   "cell_type": "code",
   "execution_count": 17,
   "metadata": {
    "ExecuteTime": {
     "end_time": "2019-04-11T13:02:27.205489Z",
     "start_time": "2019-04-11T13:02:27.202490Z"
    }
   },
   "outputs": [
    {
     "data": {
      "text/plain": [
       "5923.076923076924"
      ]
     },
     "execution_count": 17,
     "metadata": {},
     "output_type": "execute_result"
    }
   ],
   "source": [
    "# y * 0.013 = 70000 * 0.0011 \n",
    "y = (70000 * 0.0011 )/ 0.013\n",
    "y"
   ]
  },
  {
   "cell_type": "code",
   "execution_count": 12,
   "metadata": {
    "ExecuteTime": {
     "end_time": "2019-04-14T04:19:59.900670Z",
     "start_time": "2019-04-14T04:19:59.893689Z"
    }
   },
   "outputs": [],
   "source": [
    "list_init = [1644,0.00065,0.0011,0.0003,0.00014,0.004,74400]"
   ]
  },
  {
   "cell_type": "code",
   "execution_count": 13,
   "metadata": {
    "ExecuteTime": {
     "end_time": "2019-04-14T04:20:07.030612Z",
     "start_time": "2019-04-14T04:20:07.022634Z"
    }
   },
   "outputs": [
    {
     "data": {
      "text/plain": [
       "[0.0011, 0.0003, 0.00014, 0.004, 74400]"
      ]
     },
     "execution_count": 13,
     "metadata": {},
     "output_type": "execute_result"
    }
   ],
   "source": [
    "list_init[2:]"
   ]
  },
  {
   "cell_type": "code",
   "execution_count": null,
   "metadata": {},
   "outputs": [],
   "source": []
  }
 ],
 "metadata": {
  "kernelspec": {
   "display_name": "Python 3",
   "language": "python",
   "name": "python3"
  },
  "language_info": {
   "codemirror_mode": {
    "name": "ipython",
    "version": 3
   },
   "file_extension": ".py",
   "mimetype": "text/x-python",
   "name": "python",
   "nbconvert_exporter": "python",
   "pygments_lexer": "ipython3",
   "version": "3.5.6"
  },
  "latex_envs": {
   "LaTeX_envs_menu_present": true,
   "autoclose": false,
   "autocomplete": true,
   "bibliofile": "biblio.bib",
   "cite_by": "apalike",
   "current_citInitial": 1,
   "eqLabelWithNumbers": true,
   "eqNumInitial": 1,
   "hotkeys": {
    "equation": "Ctrl-E",
    "itemize": "Ctrl-I"
   },
   "labels_anchors": false,
   "latex_user_defs": false,
   "report_style_numbering": false,
   "user_envs_cfg": false
  },
  "varInspector": {
   "cols": {
    "lenName": 16,
    "lenType": 16,
    "lenVar": 40
   },
   "kernels_config": {
    "python": {
     "delete_cmd_postfix": "",
     "delete_cmd_prefix": "del ",
     "library": "var_list.py",
     "varRefreshCmd": "print(var_dic_list())"
    },
    "r": {
     "delete_cmd_postfix": ") ",
     "delete_cmd_prefix": "rm(",
     "library": "var_list.r",
     "varRefreshCmd": "cat(var_dic_list()) "
    }
   },
   "types_to_exclude": [
    "module",
    "function",
    "builtin_function_or_method",
    "instance",
    "_Feature"
   ],
   "window_display": false
  }
 },
 "nbformat": 4,
 "nbformat_minor": 2
}
