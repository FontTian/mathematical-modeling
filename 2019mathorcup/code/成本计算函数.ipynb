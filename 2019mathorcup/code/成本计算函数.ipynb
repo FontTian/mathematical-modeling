{
 "cells": [
  {
   "cell_type": "code",
   "execution_count": 2,
   "metadata": {
    "ExecuteTime": {
     "end_time": "2019-04-14T01:04:16.128288Z",
     "start_time": "2019-04-14T01:04:15.560807Z"
    }
   },
   "outputs": [],
   "source": [
    "from sklearn.preprocessing import LabelEncoder, StandardScaler\n",
    "import pandas as pd\n",
    "import warnings\n",
    "warnings.filterwarnings(\"ignore\")\n",
    "\n",
    "\n",
    "# element = \"P\"\n",
    "# element = \"S\"\n",
    "element = \"Si\"\n",
    "\n",
    "df_data_1_element_plot = pd.read_csv(\"data/df_data_1_\" + element + \"_plot.csv\")\n",
    "df_data_1_element_plot = df_data_1_element_plot[df_data_1_element_plot['转炉终点Mn'] != 0]\n",
    "\n",
    "\n",
    "df_data_1_element_plot_future = df_data_1_element_plot[['转炉终点温度', '转炉终点C', '转炉终点Mn', '转炉终点S', '转炉终点P', '转炉终点Si',\n",
    "                                                        '钢水净重', '氮化钒铁FeV55N11-A', '低铝硅铁', '钒氮合金(进口)', '钒铁(FeV50-B)', '硅铝钙',\n",
    "                                                        '硅铝合金FeAl30Si25', '硅锰面（硅锰渣）', '硅铁(合格块)', '硅铁FeSi75-B', '石油焦增碳剂',\n",
    "                                                        '锰硅合金FeMn64Si27(合格块)', '锰硅合金FeMn68Si18(合格块)', '碳化硅(55%)', '硅钙碳脱氧剂']]\n",
    "\n",
    "standardScaler = StandardScaler()\n",
    "standardScaler.fit(df_data_1_element_plot_future)\n",
    "df_data_1_element_plot_future = pd.DataFrame(\n",
    "    standardScaler.transform(df_data_1_element_plot_future))\n",
    "df_data_1_element_plot_future.columns = df_data_1_element_plot_future.columns\n",
    "\n",
    "df_data_1_element_plot_label = df_data_1_element_plot[element + '_Yield']"
   ]
  },
  {
   "cell_type": "code",
   "execution_count": 3,
   "metadata": {
    "ExecuteTime": {
     "end_time": "2019-04-14T01:04:16.201094Z",
     "start_time": "2019-04-14T01:04:16.178157Z"
    }
   },
   "outputs": [
    {
     "data": {
      "text/html": [
       "<div>\n",
       "<style scoped>\n",
       "    .dataframe tbody tr th:only-of-type {\n",
       "        vertical-align: middle;\n",
       "    }\n",
       "\n",
       "    .dataframe tbody tr th {\n",
       "        vertical-align: top;\n",
       "    }\n",
       "\n",
       "    .dataframe thead th {\n",
       "        text-align: right;\n",
       "    }\n",
       "</style>\n",
       "<table border=\"1\" class=\"dataframe\">\n",
       "  <thead>\n",
       "    <tr style=\"text-align: right;\">\n",
       "      <th></th>\n",
       "      <th>合金配料</th>\n",
       "      <th>C</th>\n",
       "      <th>Mn</th>\n",
       "      <th>S</th>\n",
       "      <th>P</th>\n",
       "      <th>Si</th>\n",
       "      <th>Al</th>\n",
       "      <th>Ca</th>\n",
       "      <th>V</th>\n",
       "      <th>N</th>\n",
       "      <th>价格(元/吨)</th>\n",
       "    </tr>\n",
       "  </thead>\n",
       "  <tbody>\n",
       "    <tr>\n",
       "      <th>1</th>\n",
       "      <td>低铝硅铁</td>\n",
       "      <td>0.000000</td>\n",
       "      <td>0.000</td>\n",
       "      <td>0.0000</td>\n",
       "      <td>0.0000</td>\n",
       "      <td>0.740</td>\n",
       "      <td>0.0008</td>\n",
       "      <td>0.000000</td>\n",
       "      <td>0.000</td>\n",
       "      <td>0.0</td>\n",
       "      <td>6500</td>\n",
       "    </tr>\n",
       "    <tr>\n",
       "      <th>3</th>\n",
       "      <td>钒铁(FeV50-A)</td>\n",
       "      <td>0.003100</td>\n",
       "      <td>0.000</td>\n",
       "      <td>0.0002</td>\n",
       "      <td>0.0006</td>\n",
       "      <td>0.012</td>\n",
       "      <td>0.0000</td>\n",
       "      <td>0.000000</td>\n",
       "      <td>0.512</td>\n",
       "      <td>0.0</td>\n",
       "      <td>205000</td>\n",
       "    </tr>\n",
       "    <tr>\n",
       "      <th>4</th>\n",
       "      <td>钒铁(FeV50-B)</td>\n",
       "      <td>0.003100</td>\n",
       "      <td>0.000</td>\n",
       "      <td>0.0002</td>\n",
       "      <td>0.0006</td>\n",
       "      <td>0.012</td>\n",
       "      <td>0.0000</td>\n",
       "      <td>0.000000</td>\n",
       "      <td>0.512</td>\n",
       "      <td>0.0</td>\n",
       "      <td>205000</td>\n",
       "    </tr>\n",
       "    <tr>\n",
       "      <th>5</th>\n",
       "      <td>硅铝钙</td>\n",
       "      <td>0.000000</td>\n",
       "      <td>0.000</td>\n",
       "      <td>0.0000</td>\n",
       "      <td>0.0000</td>\n",
       "      <td>0.341</td>\n",
       "      <td>0.0910</td>\n",
       "      <td>0.148000</td>\n",
       "      <td>0.000</td>\n",
       "      <td>0.0</td>\n",
       "      <td>11800</td>\n",
       "    </tr>\n",
       "    <tr>\n",
       "      <th>6</th>\n",
       "      <td>硅铝合金FeAl30Si25</td>\n",
       "      <td>0.003740</td>\n",
       "      <td>0.000</td>\n",
       "      <td>0.0000</td>\n",
       "      <td>0.0000</td>\n",
       "      <td>0.285</td>\n",
       "      <td>0.3170</td>\n",
       "      <td>0.000000</td>\n",
       "      <td>0.000</td>\n",
       "      <td>0.0</td>\n",
       "      <td>1000</td>\n",
       "    </tr>\n",
       "    <tr>\n",
       "      <th>7</th>\n",
       "      <td>硅铝锰合金球</td>\n",
       "      <td>0.000000</td>\n",
       "      <td>0.300</td>\n",
       "      <td>0.0000</td>\n",
       "      <td>0.0000</td>\n",
       "      <td>0.300</td>\n",
       "      <td>0.4000</td>\n",
       "      <td>0.000000</td>\n",
       "      <td>0.000</td>\n",
       "      <td>0.0</td>\n",
       "      <td>8500</td>\n",
       "    </tr>\n",
       "    <tr>\n",
       "      <th>8</th>\n",
       "      <td>硅锰面（硅锰渣）</td>\n",
       "      <td>0.017000</td>\n",
       "      <td>0.664</td>\n",
       "      <td>0.0002</td>\n",
       "      <td>0.0018</td>\n",
       "      <td>0.072</td>\n",
       "      <td>0.0000</td>\n",
       "      <td>0.000000</td>\n",
       "      <td>0.000</td>\n",
       "      <td>0.0</td>\n",
       "      <td>7600</td>\n",
       "    </tr>\n",
       "    <tr>\n",
       "      <th>9</th>\n",
       "      <td>硅铁(合格块)</td>\n",
       "      <td>0.000600</td>\n",
       "      <td>0.000</td>\n",
       "      <td>0.0002</td>\n",
       "      <td>0.0004</td>\n",
       "      <td>0.767</td>\n",
       "      <td>0.0000</td>\n",
       "      <td>0.000000</td>\n",
       "      <td>0.000</td>\n",
       "      <td>0.0</td>\n",
       "      <td>6000</td>\n",
       "    </tr>\n",
       "    <tr>\n",
       "      <th>10</th>\n",
       "      <td>硅铁FeSi75-B</td>\n",
       "      <td>0.000600</td>\n",
       "      <td>0.000</td>\n",
       "      <td>0.0002</td>\n",
       "      <td>0.0004</td>\n",
       "      <td>0.767</td>\n",
       "      <td>0.0000</td>\n",
       "      <td>0.000000</td>\n",
       "      <td>0.000</td>\n",
       "      <td>0.0</td>\n",
       "      <td>6000</td>\n",
       "    </tr>\n",
       "    <tr>\n",
       "      <th>12</th>\n",
       "      <td>锰硅合金FeMn64Si27(合格块)</td>\n",
       "      <td>0.017000</td>\n",
       "      <td>0.664</td>\n",
       "      <td>0.0002</td>\n",
       "      <td>0.0018</td>\n",
       "      <td>0.172</td>\n",
       "      <td>0.0000</td>\n",
       "      <td>0.000000</td>\n",
       "      <td>0.000</td>\n",
       "      <td>0.0</td>\n",
       "      <td>8150</td>\n",
       "    </tr>\n",
       "    <tr>\n",
       "      <th>13</th>\n",
       "      <td>锰硅合金FeMn68Si18(合格块)</td>\n",
       "      <td>0.017000</td>\n",
       "      <td>0.664</td>\n",
       "      <td>0.0002</td>\n",
       "      <td>0.0018</td>\n",
       "      <td>0.172</td>\n",
       "      <td>0.0000</td>\n",
       "      <td>0.000000</td>\n",
       "      <td>0.000</td>\n",
       "      <td>0.0</td>\n",
       "      <td>8150</td>\n",
       "    </tr>\n",
       "    <tr>\n",
       "      <th>14</th>\n",
       "      <td>碳化硅(55%)</td>\n",
       "      <td>0.300000</td>\n",
       "      <td>0.000</td>\n",
       "      <td>0.0001</td>\n",
       "      <td>0.0000</td>\n",
       "      <td>0.560</td>\n",
       "      <td>0.0000</td>\n",
       "      <td>0.000000</td>\n",
       "      <td>0.000</td>\n",
       "      <td>0.0</td>\n",
       "      <td>6100</td>\n",
       "    </tr>\n",
       "    <tr>\n",
       "      <th>15</th>\n",
       "      <td>硅钙碳脱氧剂</td>\n",
       "      <td>0.225692</td>\n",
       "      <td>0.000</td>\n",
       "      <td>0.0000</td>\n",
       "      <td>0.0000</td>\n",
       "      <td>0.392</td>\n",
       "      <td>0.0000</td>\n",
       "      <td>0.192308</td>\n",
       "      <td>0.000</td>\n",
       "      <td>0.0</td>\n",
       "      <td>4000</td>\n",
       "    </tr>\n",
       "  </tbody>\n",
       "</table>\n",
       "</div>"
      ],
      "text/plain": [
       "                   合金配料         C     Mn       S       P     Si      Al  \\\n",
       "1                  低铝硅铁  0.000000  0.000  0.0000  0.0000  0.740  0.0008   \n",
       "3           钒铁(FeV50-A)  0.003100  0.000  0.0002  0.0006  0.012  0.0000   \n",
       "4           钒铁(FeV50-B)  0.003100  0.000  0.0002  0.0006  0.012  0.0000   \n",
       "5                   硅铝钙  0.000000  0.000  0.0000  0.0000  0.341  0.0910   \n",
       "6        硅铝合金FeAl30Si25  0.003740  0.000  0.0000  0.0000  0.285  0.3170   \n",
       "7                硅铝锰合金球  0.000000  0.300  0.0000  0.0000  0.300  0.4000   \n",
       "8              硅锰面（硅锰渣）  0.017000  0.664  0.0002  0.0018  0.072  0.0000   \n",
       "9               硅铁(合格块)  0.000600  0.000  0.0002  0.0004  0.767  0.0000   \n",
       "10           硅铁FeSi75-B  0.000600  0.000  0.0002  0.0004  0.767  0.0000   \n",
       "12  锰硅合金FeMn64Si27(合格块)  0.017000  0.664  0.0002  0.0018  0.172  0.0000   \n",
       "13  锰硅合金FeMn68Si18(合格块)  0.017000  0.664  0.0002  0.0018  0.172  0.0000   \n",
       "14             碳化硅(55%)  0.300000  0.000  0.0001  0.0000  0.560  0.0000   \n",
       "15               硅钙碳脱氧剂  0.225692  0.000  0.0000  0.0000  0.392  0.0000   \n",
       "\n",
       "          Ca      V    N  价格(元/吨)  \n",
       "1   0.000000  0.000  0.0     6500  \n",
       "3   0.000000  0.512  0.0   205000  \n",
       "4   0.000000  0.512  0.0   205000  \n",
       "5   0.148000  0.000  0.0    11800  \n",
       "6   0.000000  0.000  0.0     1000  \n",
       "7   0.000000  0.000  0.0     8500  \n",
       "8   0.000000  0.000  0.0     7600  \n",
       "9   0.000000  0.000  0.0     6000  \n",
       "10  0.000000  0.000  0.0     6000  \n",
       "12  0.000000  0.000  0.0     8150  \n",
       "13  0.000000  0.000  0.0     8150  \n",
       "14  0.000000  0.000  0.0     6100  \n",
       "15  0.192308  0.000  0.0     4000  "
      ]
     },
     "execution_count": 3,
     "metadata": {},
     "output_type": "execute_result"
    }
   ],
   "source": [
    "import pandas as pd\n",
    "\n",
    "read_path = \"data/money_0.csv\"\n",
    "df_money_0 = pd.read_csv(read_path)\n",
    "df_money_0 = df_money_0.fillna(0)\n",
    "df_money_0[df_money_0[element] != 0]"
   ]
  },
  {
   "cell_type": "code",
   "execution_count": 4,
   "metadata": {
    "ExecuteTime": {
     "end_time": "2019-04-14T01:04:16.272902Z",
     "start_time": "2019-04-14T01:04:16.253954Z"
    }
   },
   "outputs": [
    {
     "name": "stdout",
     "output_type": "stream",
     "text": [
      "投入- 钒铁(FeV50-B) -的成本为 : 7995000\n",
      "投入- 锰硅合金FeMn64Si27(合格块) -的成本为 : 0\n",
      "投入- 硅锰面（硅锰渣） -的成本为 : 0\n",
      "投入- 碳化硅(55%) -的成本为 : 805200\n",
      "投入- 锰硅合金FeMn68Si18(合格块) -的成本为 : 12388000\n",
      "投入- 硅铁(合格块) -的成本为 : 0\n",
      "投入- 石油焦增碳剂 -的成本为 : 391000\n",
      "投入- 低铝硅铁 -的成本为 : 0\n",
      "投入- 钒氮合金(进口) -的成本为 : 1400000\n",
      "投入- 氮化钒铁FeV55N11-A -的成本为 : 0\n",
      "投入- 硅钙碳脱氧剂 -的成本为 : 0\n",
      "投入- 硅铝钙 -的成本为 : 885000\n",
      "投入- 硅铝合金FeAl30Si25 -的成本为 : 0\n",
      "投入- 硅铁FeSi75-B -的成本为 : 0\n",
      "投入- 钒铁(FeV50-A) -的成本为 : 0\n",
      "投入- 硅铝锰合金球 -的成本为 : 0\n"
     ]
    }
   ],
   "source": [
    "for i in set(df_money_0['合金配料']):\n",
    "    print(\"投入- %s -的成本为 :\"%i,df_money_0[df_money_0[\"合金配料\"] == i]['价格(元/吨)'].values[0] * df_data_1_element_plot[i][0])"
   ]
  },
  {
   "cell_type": "code",
   "execution_count": 5,
   "metadata": {
    "ExecuteTime": {
     "end_time": "2019-04-14T01:04:26.040130Z",
     "start_time": "2019-04-14T01:04:26.036140Z"
    }
   },
   "outputs": [
    {
     "data": {
      "text/plain": [
       "Index(['炉号', '钢号', '转炉终点温度', '转炉终点C', '转炉终点Mn', '转炉终点S', '转炉终点P', '转炉终点Si',\n",
       "       '钢水净重', '连铸正样C', '连铸正样Mn', '连铸正样S', '连铸正样P', '连铸正样Si', '连铸正样Ceq_val',\n",
       "       '连铸正样Cr', '连铸正样Ni_val', '连铸正样Cu_val', '连铸正样V_val', '连铸正样Alt_val',\n",
       "       '连铸正样Als_val', '连铸正样Mo_val', '氮化钒铁FeV55N11-A', '低铝硅铁', '钒氮合金(进口)',\n",
       "       '钒铁(FeV50-A)', '钒铁(FeV50-B)', '硅铝钙', '硅铝合金FeAl30Si25', '硅铝锰合金球',\n",
       "       '硅锰面（硅锰渣）', '硅铁(合格块)', '硅铁FeSi75-B', '石油焦增碳剂', '锰硅合金FeMn64Si27(合格块)',\n",
       "       '锰硅合金FeMn68Si18(合格块)', '碳化硅(55%)', '硅钙碳脱氧剂', 'C_Yield', 'Mn_Yield',\n",
       "       'S_Yield', 'P_Yield', 'Si_Yield'],\n",
       "      dtype='object')"
      ]
     },
     "execution_count": 5,
     "metadata": {},
     "output_type": "execute_result"
    }
   ],
   "source": [
    "df_data_1_element_plot.columns"
   ]
  },
  {
   "cell_type": "code",
   "execution_count": 8,
   "metadata": {
    "ExecuteTime": {
     "end_time": "2019-04-14T01:06:00.215448Z",
     "start_time": "2019-04-14T01:06:00.210459Z"
    }
   },
   "outputs": [],
   "source": [
    "df_sub = np.array(df_data_1_element_plot[[ '转炉终点C', '转炉终点Mn',  '转炉终点Si']]) - np.array(df_data_1_element_plot[['连铸正样C', '连铸正样Mn',  '连铸正样Si']])"
   ]
  },
  {
   "cell_type": "code",
   "execution_count": 10,
   "metadata": {
    "ExecuteTime": {
     "end_time": "2019-04-14T01:06:15.534322Z",
     "start_time": "2019-04-14T01:06:15.531330Z"
    }
   },
   "outputs": [],
   "source": [
    "df_sub = pd.DataFrame(df_sub)"
   ]
  },
  {
   "cell_type": "code",
   "execution_count": 13,
   "metadata": {
    "ExecuteTime": {
     "end_time": "2019-04-14T01:06:42.464981Z",
     "start_time": "2019-04-14T01:06:42.458998Z"
    }
   },
   "outputs": [
    {
     "data": {
      "text/plain": [
       "0   -0.001614\n",
       "1   -0.012366\n",
       "2   -0.001365\n",
       "dtype: float64"
      ]
     },
     "execution_count": 13,
     "metadata": {},
     "output_type": "execute_result"
    }
   ],
   "source": [
    "df_sub.apply(sum)/len(df_sub)"
   ]
  },
  {
   "cell_type": "code",
   "execution_count": null,
   "metadata": {},
   "outputs": [],
   "source": []
  }
 ],
 "metadata": {
  "kernelspec": {
   "display_name": "Python 3",
   "language": "python",
   "name": "python3"
  },
  "language_info": {
   "codemirror_mode": {
    "name": "ipython",
    "version": 3
   },
   "file_extension": ".py",
   "mimetype": "text/x-python",
   "name": "python",
   "nbconvert_exporter": "python",
   "pygments_lexer": "ipython3",
   "version": "3.5.6"
  },
  "latex_envs": {
   "LaTeX_envs_menu_present": true,
   "autoclose": false,
   "autocomplete": true,
   "bibliofile": "biblio.bib",
   "cite_by": "apalike",
   "current_citInitial": 1,
   "eqLabelWithNumbers": true,
   "eqNumInitial": 1,
   "hotkeys": {
    "equation": "Ctrl-E",
    "itemize": "Ctrl-I"
   },
   "labels_anchors": false,
   "latex_user_defs": false,
   "report_style_numbering": false,
   "user_envs_cfg": false
  },
  "varInspector": {
   "cols": {
    "lenName": 16,
    "lenType": 16,
    "lenVar": 40
   },
   "kernels_config": {
    "python": {
     "delete_cmd_postfix": "",
     "delete_cmd_prefix": "del ",
     "library": "var_list.py",
     "varRefreshCmd": "print(var_dic_list())"
    },
    "r": {
     "delete_cmd_postfix": ") ",
     "delete_cmd_prefix": "rm(",
     "library": "var_list.r",
     "varRefreshCmd": "cat(var_dic_list()) "
    }
   },
   "types_to_exclude": [
    "module",
    "function",
    "builtin_function_or_method",
    "instance",
    "_Feature"
   ],
   "window_display": false
  }
 },
 "nbformat": 4,
 "nbformat_minor": 2
}
