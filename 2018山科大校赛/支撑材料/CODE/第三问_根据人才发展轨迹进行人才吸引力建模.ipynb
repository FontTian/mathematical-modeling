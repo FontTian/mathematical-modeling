{
 "cells": [
  {
   "cell_type": "code",
   "execution_count": 5,
   "metadata": {},
   "outputs": [
    {
     "name": "stdout",
     "output_type": "stream",
     "text": [
      "Index(['工作年限', '基础设施建设', '生态环境', '治安环境', '产业发展', '企业条件', '职业发展', '收入水平',\n",
      "       '住房条件', '户籍政策', '配偶就业', '子女教育', '生活成本', '交通状态', '休闲娱乐', 'Score'],\n",
      "      dtype='object')\n",
      "['2-3年', '1年及以下', '10年及以上', '6-9年', '4-5年']\n"
     ]
    },
    {
     "name": "stderr",
     "output_type": "stream",
     "text": [
      "/home/font/anaconda3/lib/python3.6/site-packages/pandas/core/indexing.py:194: SettingWithCopyWarning: \n",
      "A value is trying to be set on a copy of a slice from a DataFrame\n",
      "\n",
      "See the caveats in the documentation: http://pandas.pydata.org/pandas-docs/stable/indexing.html#indexing-view-versus-copy\n",
      "  self._setitem_with_indexer(indexer, value)\n"
     ]
    }
   ],
   "source": [
    "import pandas as pd\n",
    "path = \"//home/font/Data/MM/JiNan/\"\n",
    "ppd_list = 'finalData.csv'\n",
    "df_lcis = pd.read_csv((path+ppd_list))\n",
    "ppd_list_old = 'jndata.csv'\n",
    "df_lcis_old = pd.read_csv((path+ppd_list_old))\n",
    "\n",
    "df_lcis2 = df_lcis\n",
    "\n",
    "df_lcis2['Score'] = 0\n",
    "df_lcis2['Score'].loc[df_lcis['score']  == 2] = 0\n",
    "df_lcis2['Score'].loc[df_lcis['score']  == 3] = 1 \n",
    "df_lcis2['Score'].loc[df_lcis['score']  == 4] = 1\n",
    "df_lcis2['Score'].loc[df_lcis['score']  == 5] = 1\n",
    "df_lcis2['工作年限'] = df_lcis_old['Q3_工作年限']\n",
    "\n",
    "list_Q19 = [\"金融从业者\",\"技术研发人才\",\"技工人才\",\"管理人员\",\"教育科研\"]\n",
    "this_df_lcis = df_lcis2[(df_lcis2['Q19_请问您的主要职业或者毕业之后将要成为的主要职业是什么'].isin(list_Q19))]\n",
    "\n",
    "df_lcis2 = df_lcis2.drop(['score','Q4_个人月收入','sex','province','city','Q19_请问您的主要职业或者毕业之后将要成为的主要职业是什么'],axis=1)\n",
    "\n",
    "\n",
    "\n",
    "columns = df_lcis2.columns\n",
    "print(columns)\n",
    "print(list(set(df_lcis2[\"工作年限\"])))"
   ]
  },
  {
   "cell_type": "code",
   "execution_count": 8,
   "metadata": {},
   "outputs": [],
   "source": [
    "def Mychisquare(*data):\n",
    "    y_test,y_pre=data\n",
    "    import scipy \n",
    "    chisq, p=scipy.stats.chisquare(y_test,y_pre)  \n",
    "    print(\"    chisq----> %d,p值----> %d\"%(chisq,p)) \n",
    "\n",
    "def LogisticRegression_multinomial(*data):\n",
    "    from sklearn import linear_model\n",
    "    X_train,X_test,y_train,y_test,columns=data\n",
    "    regr = linear_model.LogisticRegression()\n",
    "#     print(y_train)\n",
    "    regr.fit(X_train, y_train)\n",
    "    y_pre = regr.predict(X_test)\n",
    "#     Mychisquare(y_test,y_pre)\n",
    "#     print('\\n成绩为:\\n    Score: %.4f' % regr.score(X_test, y_test))\n",
    "#     print('\\n权重与常量为:\\n    Coefficients:%s, \\n    intercept %s'%(regr.coef_,regr.intercept_)) \n",
    "    print(\"常量 :\",regr.intercept_)\n",
    "    showCoef(regr.coef_,columns)\n",
    "        \n",
    "def showCoef(listCoef,columns): \n",
    "    print(\"\\n下面是各项指标的权重\")\n",
    "    for i in range(len(listCoef[0])):\n",
    "        print(\"    \",i,\" \",columns[i],\" : \",listCoef[0][i])\n",
    "    \n",
    "def testModel(list_Q19):\n",
    "    print(\"\\n对于工作年限为\",\"与\".join(list_Q19),\"的人建模.结果如下:\\n\")\n",
    "    this_df_lcis = df_lcis2[(df_lcis2['工作年限'].isin(list_Q19))]\n",
    "    this_df_lcis = this_df_lcis.drop(['工作年限'],axis=1)\n",
    "    import numpy as np\n",
    "    from sklearn import preprocessing\n",
    "    this_X_train = np.array(this_df_lcis.drop([\"Score\"], axis=1).values)\n",
    "    this_y_train = np.array(this_df_lcis[\"Score\"].values)\n",
    "    LogisticRegression_multinomial(this_X_train,this_X_train,this_y_train,this_y_train,this_df_lcis.columns)"
   ]
  },
  {
   "cell_type": "code",
   "execution_count": 10,
   "metadata": {},
   "outputs": [
    {
     "name": "stdout",
     "output_type": "stream",
     "text": [
      "\n",
      "对于工作年限为 1年及以下 的人建模.结果如下:\n",
      "\n",
      "常量 : [-0.57101388]\n",
      "\n",
      "下面是各项指标的权重\n",
      "     0   基础设施建设  :  0.3027164852311161\n",
      "     1   生态环境  :  -0.36137894997042375\n",
      "     2   治安环境  :  0.3633091606267639\n",
      "     3   产业发展  :  0.596685252599324\n",
      "     4   企业条件  :  -0.9276497680006038\n",
      "     5   职业发展  :  0.3679272077264165\n",
      "     6   收入水平  :  -0.06650040695363611\n",
      "     7   住房条件  :  -0.8423444294163015\n",
      "     8   户籍政策  :  0.6788114322341049\n",
      "     9   配偶就业  :  -0.2520422044988088\n",
      "     10   子女教育  :  0.5797963516808261\n",
      "     11   生活成本  :  -0.2600322380273824\n",
      "     12   交通状态  :  -0.4366490787348636\n",
      "     13   休闲娱乐  :  0.8673335141454821\n",
      "\n",
      "对于工作年限为 2-3年与4-5年 的人建模.结果如下:\n",
      "\n",
      "常量 : [0.10629469]\n",
      "\n",
      "下面是各项指标的权重\n",
      "     0   基础设施建设  :  0.07197183564144764\n",
      "     1   生态环境  :  0.18683363157409602\n",
      "     2   治安环境  :  -0.5888280827620173\n",
      "     3   产业发展  :  -0.0690613677364536\n",
      "     4   企业条件  :  -0.18333267690579721\n",
      "     5   职业发展  :  0.14416965529189044\n",
      "     6   收入水平  :  -0.1602086161011391\n",
      "     7   住房条件  :  0.04788630629085983\n",
      "     8   户籍政策  :  0.019993683611681013\n",
      "     9   配偶就业  :  -0.1916415031887054\n",
      "     10   子女教育  :  0.7239942424333946\n",
      "     11   生活成本  :  0.35545516586636855\n",
      "     12   交通状态  :  0.21178836672550874\n",
      "     13   休闲娱乐  :  0.2294060374393499\n",
      "\n",
      "对于工作年限为 6-9年与10年及以上 的人建模.结果如下:\n",
      "\n",
      "常量 : [-0.60384713]\n",
      "\n",
      "下面是各项指标的权重\n",
      "     0   基础设施建设  :  0.5248303511747378\n",
      "     1   生态环境  :  0.21253762935485707\n",
      "     2   治安环境  :  0.1230539741553405\n",
      "     3   产业发展  :  0.3436446819329113\n",
      "     4   企业条件  :  -0.1671037159294799\n",
      "     5   职业发展  :  -0.29978148025922813\n",
      "     6   收入水平  :  0.4939371985717009\n",
      "     7   住房条件  :  0.07880367587848308\n",
      "     8   户籍政策  :  0.16529430529963832\n",
      "     9   配偶就业  :  -0.8078985570095012\n",
      "     10   子女教育  :  -0.13656498034736922\n",
      "     11   生活成本  :  0.06552187196031901\n",
      "     12   交通状态  :  0.35954775197748023\n",
      "     13   休闲娱乐  :  -0.05078084936363322\n"
     ]
    }
   ],
   "source": [
    "for i in [ ['1年及以下'], ['2-3年','4-5年'], ['6-9年','10年及以上']]:\n",
    "#     print([i])\n",
    "    testModel(i)"
   ]
  },
  {
   "cell_type": "code",
   "execution_count": null,
   "metadata": {},
   "outputs": [],
   "source": []
  }
 ],
 "metadata": {
  "kernelspec": {
   "display_name": "Python 3",
   "language": "python",
   "name": "python3"
  },
  "language_info": {
   "codemirror_mode": {
    "name": "ipython",
    "version": 3
   },
   "file_extension": ".py",
   "mimetype": "text/x-python",
   "name": "python",
   "nbconvert_exporter": "python",
   "pygments_lexer": "ipython3",
   "version": "3.6.4"
  }
 },
 "nbformat": 4,
 "nbformat_minor": 2
}
