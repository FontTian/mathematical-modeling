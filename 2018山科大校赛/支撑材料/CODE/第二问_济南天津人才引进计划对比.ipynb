{
 "cells": [
  {
   "cell_type": "code",
   "execution_count": 1,
   "metadata": {},
   "outputs": [],
   "source": [
    "import pandas as pd\n",
    "path = \"//home/font/Data/MM/JiNan/\"\n",
    "df_jn = pd.read_csv((path+'jn.csv'))\n",
    "df_tj = pd.read_csv((path+'tj.csv'))\n",
    "\n",
    "df_jn_people = pd.read_csv((path+'jnpeople.csv'))\n",
    "df_tj_people = pd.read_csv((path+'tjpeople.csv'))"
   ]
  },
  {
   "cell_type": "code",
   "execution_count": 2,
   "metadata": {},
   "outputs": [],
   "source": [
    "ss_jn = sum(df_jn['年收入'].loc[df_jn['学历']  == '硕士'] * df_jn['招聘人数'].loc[df_jn['学历']  == '硕士']) \\\n",
    "/sum(df_jn['招聘人数'].loc[df_jn['学历']  == '硕士'])\n",
    "\n",
    "bs_jn = sum(df_jn['年收入'].loc[df_jn['学历']  == '博士'] * df_jn['招聘人数'].loc[df_jn['学历']  == '博士']) \\\n",
    "/sum(df_jn['招聘人数'].loc[df_jn['学历']  == '博士'])\n",
    "\n",
    "bk_jn = sum(df_jn['年收入'].loc[df_jn['学历']  == '本科'] * df_jn['招聘人数'].loc[df_jn['学历']  == '本科']) \\\n",
    "/sum(df_jn['招聘人数'].loc[df_jn['学历']  == '本科'])\n",
    "\n",
    "bx_jn = sum(df_jn['年收入'].loc[df_jn['学历']  == '不限'] * df_jn['招聘人数'].loc[df_jn['学历']  == '不限']) \\\n",
    "/sum(df_jn['招聘人数'].loc[df_jn['学历']  == '不限'])"
   ]
  },
  {
   "cell_type": "code",
   "execution_count": 3,
   "metadata": {},
   "outputs": [],
   "source": [
    "ss_tj = sum(df_tj['年收入'].loc[df_tj['学历']  == '硕士'] * df_tj['招聘人数'].loc[df_tj['学历']  == '硕士']) \\\n",
    "/sum(df_tj['招聘人数'].loc[df_tj['学历']  == '硕士'])\n",
    "\n",
    "bs_tj = sum(df_tj['年收入'].loc[df_tj['学历']  == '博士'] * df_tj['招聘人数'].loc[df_tj['学历']  == '博士']) \\\n",
    "/sum(df_tj['招聘人数'].loc[df_tj['学历']  == '博士'])\n",
    "\n",
    "bk_tj = sum(df_tj['年收入'].loc[df_tj['学历']  == '本科'] * df_tj['招聘人数'].loc[df_tj['学历']  == '本科']) \\\n",
    "/sum(df_tj['招聘人数'].loc[df_tj['学历']  == '本科'])\n",
    "\n",
    "bx_tj = sum(df_tj['年收入'].loc[df_tj['学历']  == '不限'] * df_tj['招聘人数'].loc[df_tj['学历']  == '不限']) \\\n",
    "/sum(df_tj['招聘人数'].loc[df_tj['学历']  == '不限'])"
   ]
  },
  {
   "cell_type": "code",
   "execution_count": 4,
   "metadata": {},
   "outputs": [],
   "source": [
    "ss_people_jn = sum(df_jn['招聘人数'].loc[df_jn_people['学历'] == \"硕士\"])\n",
    "bs_people_jn = sum(df_jn['招聘人数'].loc[df_jn_people['学历'] == \"博士\"])\n",
    "bk_people_jn = sum(df_jn['招聘人数'].loc[df_jn_people['学历'] == \"本科\"])\n",
    "bx_people_jn = sum(df_jn['招聘人数'].loc[df_jn_people['学历'] == \"不限\"])"
   ]
  },
  {
   "cell_type": "code",
   "execution_count": 5,
   "metadata": {},
   "outputs": [],
   "source": [
    "ss_people_tj = sum(df_tj['招聘人数'].loc[df_tj_people['学历'] == \"硕士\"])\n",
    "bs_people_tj = sum(df_tj['招聘人数'].loc[df_tj_people['学历'] == \"博士\"])\n",
    "bk_people_tj = sum(df_tj['招聘人数'].loc[df_tj_people['学历'] == \"本科\"])\n",
    "bx_people_tj = sum(df_tj['招聘人数'].loc[df_tj_people['学历'] == \"不限\"])"
   ]
  },
  {
   "cell_type": "code",
   "execution_count": 13,
   "metadata": {},
   "outputs": [
    {
     "name": "stdout",
     "output_type": "stream",
     "text": [
      "济南人才引进数量\n",
      "    :博士----> 197\n",
      "    :硕士----> 197\n",
      "    :本科----> 391\n",
      "    :不限----> 689\n",
      "    :总人数----> 1474\n",
      "天津人才引进数量\n",
      "    :博士----> 44\n",
      "    :硕士----> 44\n",
      "    :本科----> 2\n",
      "    :不限----> 62\n",
      "    :总人数----> 152\n"
     ]
    }
   ],
   "source": [
    "print(\"济南人才引进数量\")\n",
    "print(\"    :博士----> %d\"%bs_people_jn)\n",
    "print(\"    :硕士----> %d\"%bs_people_jn)\n",
    "print(\"    :本科----> %d\"%bk_people_jn)\n",
    "print(\"    :不限----> %d\"%bx_people_jn)\n",
    "print(\"    :总人数----> %d\"%(bs_people_jn+bs_people_jn+bk_people_jn+bx_people_jn))\n",
    "\n",
    "print(\"天津人才引进数量\")\n",
    "print(\"    :博士----> %d\"%bs_people_tj)\n",
    "print(\"    :硕士----> %d\"%bs_people_tj)\n",
    "print(\"    :本科----> %d\"%bk_people_tj)\n",
    "print(\"    :不限----> %d\"%bx_people_tj)\n",
    "print(\"    :总人数----> %d\"%(bs_people_tj+bs_people_tj+bk_people_tj+bx_people_tj))"
   ]
  },
  {
   "cell_type": "code",
   "execution_count": 7,
   "metadata": {},
   "outputs": [
    {
     "name": "stdout",
     "output_type": "stream",
     "text": [
      "\n",
      "济南人才引进薪资水平\n",
      "    :博士----> 20.1\n",
      "    :硕士----> 11.0\n",
      "    :本科----> 9.5\n",
      "    :不限----> 15.5\n",
      "\n",
      "天津人才引进薪资水平\n",
      "    :博士----> 23.0\n",
      "    :硕士----> 15.0\n",
      "    :不限----> 15.7\n"
     ]
    }
   ],
   "source": [
    "print(\"\\n济南人才引进薪资水平\")\n",
    "print(\"    :博士----> %.1f\"%bs_jn)\n",
    "print(\"    :硕士----> %.1f\"%ss_jn)\n",
    "print(\"    :本科----> %.1f\"%bk_jn)\n",
    "print(\"    :不限----> %.1f\"%bx_jn)\n",
    "\n",
    "print(\"\\n天津人才引进薪资水平\")\n",
    "print(\"    :博士----> %.1f\"%bs_tj)\n",
    "print(\"    :硕士----> %.1f\"%ss_tj)\n",
    "# print(\"    :本科----> %f\"%bk_tj)\n",
    "print(\"    :不限----> %.1f\"%bx_tj)"
   ]
  },
  {
   "cell_type": "code",
   "execution_count": null,
   "metadata": {},
   "outputs": [],
   "source": []
  }
 ],
 "metadata": {
  "kernelspec": {
   "display_name": "Python 3",
   "language": "python",
   "name": "python3"
  },
  "language_info": {
   "codemirror_mode": {
    "name": "ipython",
    "version": 3
   },
   "file_extension": ".py",
   "mimetype": "text/x-python",
   "name": "python",
   "nbconvert_exporter": "python",
   "pygments_lexer": "ipython3",
   "version": "3.6.4"
  }
 },
 "nbformat": 4,
 "nbformat_minor": 2
}
