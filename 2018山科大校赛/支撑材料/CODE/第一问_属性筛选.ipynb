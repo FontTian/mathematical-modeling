{
 "cells": [
  {
   "cell_type": "code",
   "execution_count": 1,
   "metadata": {},
   "outputs": [
    {
     "name": "stderr",
     "output_type": "stream",
     "text": [
      "/home/font/anaconda3/lib/python3.6/site-packages/pandas/core/indexing.py:194: SettingWithCopyWarning: \n",
      "A value is trying to be set on a copy of a slice from a DataFrame\n",
      "\n",
      "See the caveats in the documentation: http://pandas.pydata.org/pandas-docs/stable/indexing.html#indexing-view-versus-copy\n",
      "  self._setitem_with_indexer(indexer, value)\n",
      "/home/font/anaconda3/lib/python3.6/importlib/_bootstrap.py:219: RuntimeWarning: numpy.dtype size changed, may indicate binary incompatibility. Expected 96, got 88\n",
      "  return f(*args, **kwds)\n",
      "/home/font/anaconda3/lib/python3.6/importlib/_bootstrap.py:219: RuntimeWarning: numpy.dtype size changed, may indicate binary incompatibility. Expected 96, got 88\n",
      "  return f(*args, **kwds)\n",
      "/home/font/anaconda3/lib/python3.6/importlib/_bootstrap.py:219: RuntimeWarning: numpy.dtype size changed, may indicate binary incompatibility. Expected 96, got 88\n",
      "  return f(*args, **kwds)\n",
      "/home/font/anaconda3/lib/python3.6/importlib/_bootstrap.py:219: RuntimeWarning: numpy.dtype size changed, may indicate binary incompatibility. Expected 96, got 88\n",
      "  return f(*args, **kwds)\n",
      "/home/font/anaconda3/lib/python3.6/site-packages/sklearn/utils/validation.py:475: DataConversionWarning: Data with input dtype int64 was converted to float64 by the scale function.\n",
      "  warnings.warn(msg, DataConversionWarning)\n"
     ]
    },
    {
     "data": {
      "text/plain": [
       "Index(['基础设施建设', '生态环境', '治安环境', '产业发展', '企业条件', '职业发展', '收入水平', '住房条件',\n",
       "       '户籍政策', '配偶就业', '子女教育', '生活成本', '交通状态', '休闲娱乐', 'Score'],\n",
       "      dtype='object')"
      ]
     },
     "execution_count": 1,
     "metadata": {},
     "output_type": "execute_result"
    }
   ],
   "source": [
    "import pandas as pd\n",
    "path = \"//home/font/Data/MM/JiNan/\"\n",
    "ppd_list = 'finalData.csv'\n",
    "df_lcis = pd.read_csv((path+ppd_list))\n",
    "\n",
    "df_lcis2 = df_lcis.drop(['Q19_请问您的主要职业或者毕业之后将要成为的主要职业是什么'],axis=1)\n",
    "\n",
    "\n",
    "df_lcis2['Score'] = 0\n",
    "df_lcis2['Score'].loc[df_lcis['score']  == 3] = 1\n",
    "\n",
    "df_lcis2['Score'].loc[df_lcis['score']  == 4] = 1\n",
    "df_lcis2['Score'].loc[df_lcis['score']  == 5] = 1 \n",
    "\n",
    "df_lcis2['个人月收入'] = 0\n",
    "df_lcis2['个人月收入'].loc[df_lcis['Q4_个人月收入']  == '2001-3000元'] = 1 \n",
    "df_lcis2['个人月收入'].loc[df_lcis['Q4_个人月收入']  == '3001-5000元'] = 2\n",
    "df_lcis2['个人月收入'].loc[df_lcis['Q4_个人月收入']  == '5001-8000元'] = 3 \n",
    "df_lcis2['个人月收入'].loc[df_lcis['Q4_个人月收入']  == '8001-12000元'] = 4 \n",
    "df_lcis2['个人月收入'].loc[df_lcis['Q4_个人月收入']  == '12001-20000元'] = 5 \n",
    "df_lcis2['个人月收入'].loc[df_lcis['Q4_个人月收入']  == '20000元以上'] = 6 \n",
    "\n",
    "df_lcis2 = df_lcis2.drop(['score','Q4_个人月收入','个人月收入','工作年限','sex','province','city'],axis=1)\n",
    "\n",
    "import numpy as np\n",
    "from sklearn import preprocessing\n",
    "X_train = np.array(df_lcis2.drop([\"Score\"], axis=1).values)\n",
    "y_train = np.array(df_lcis2[\"Score\"].values)\n",
    "X_train = preprocessing.scale(X_train)\n",
    "df_lcis2.columns"
   ]
  },
  {
   "cell_type": "code",
   "execution_count": 12,
   "metadata": {},
   "outputs": [
    {
     "name": "stdout",
     "output_type": "stream",
     "text": [
      "Feature ranking:\n",
      "1. feature 10 (0.114662)\n",
      "2. feature 0 (0.106343)\n",
      "3. feature 8 (0.088986)\n",
      "4. feature 13 (0.087977)\n",
      "5. feature 2 (0.085400)\n",
      "6. feature 9 (0.077190)\n",
      "7. feature 1 (0.068647)\n",
      "8. feature 3 (0.065366)\n",
      "9. feature 12 (0.058661)\n",
      "10. feature 6 (0.058611)\n",
      "11. feature 4 (0.057388)\n",
      "12. feature 7 (0.051167)\n",
      "13. feature 5 (0.044405)\n",
      "14. feature 11 (0.035198)\n",
      "0.07142857142857142\n",
      "Feature ranking:\n",
      "1. feature 5 (0.093722)\n",
      "2. feature 0 (0.093492)\n",
      "3. feature 10 (0.086301)\n",
      "4. feature 8 (0.082490)\n",
      "5. feature 7 (0.076896)\n",
      "6. feature 9 (0.074755)\n",
      "7. feature 13 (0.074596)\n",
      "8. feature 1 (0.070893)\n",
      "9. feature 3 (0.070112)\n",
      "10. feature 2 (0.069110)\n",
      "11. feature 12 (0.063942)\n",
      "12. feature 6 (0.063529)\n",
      "13. feature 4 (0.043147)\n",
      "14. feature 11 (0.037014)\n",
      "0.07142857142857141\n"
     ]
    },
    {
     "data": {
      "image/png": "[encoded data removed]",
      "text/plain": [
       "<Figure size 576x288 with 2 Axes>"
      ]
     },
     "metadata": {},
     "output_type": "display_data"
    }
   ],
   "source": [
    "import numpy as np\n",
    "from sklearn.ensemble import ExtraTreesClassifier, RandomForestClassifier\n",
    "import matplotlib.pyplot as plt\n",
    "\n",
    "plt.figure(figsize=(8, 4))\n",
    "estimators = [(\"RandomForest\", RandomForestClassifier(random_state=0)),\n",
    "              (\"ExtraTrees\", ExtraTreesClassifier(random_state=100)), ]\n",
    "\n",
    "n_estimators = len(estimators)\n",
    "\n",
    "# Build a forest and compute the feature importances\n",
    "forest = ExtraTreesClassifier(n_estimators=250,\n",
    "                              random_state=0)\n",
    "\n",
    "forest.fit(X_train, y_train)\n",
    "\n",
    "for n, (name, estimator) in enumerate(estimators):\n",
    "    estimator.fit(X_train, y_train)\n",
    "    importances = estimator.feature_importances_\n",
    "    std = np.std([tree.feature_importances_ for tree in forest.estimators_],\n",
    "                 axis=0)\n",
    "    indices = np.argsort(importances)[::-1]\n",
    "\n",
    "    # Print the feature ranking\n",
    "    print(\"Feature ranking:\")\n",
    "\n",
    "    for f in range(X_train.shape[1]):\n",
    "        print(\"%d. feature %d (%f)\" % (f + 1, indices[f], importances[indices[f]]))\n",
    "        \n",
    "    print(np.mean(importances))\n",
    "\n",
    "    # Plot the feature importances of the forest\n",
    "    plt.subplot(1, n_estimators, n + 1)\n",
    "    plt.title(name + \" Feature importances\")\n",
    "    plt.bar(range(X_train.shape[1]), importances[indices],\n",
    "            color=\"r\", yerr=std[indices], align=\"center\")\n",
    "    plt.xticks(range(X_train.shape[1]), indices)\n",
    "    plt.xlim([-1, X_train.shape[1]])\n",
    "\n",
    "plt.show()"
   ]
  },
  {
   "cell_type": "code",
   "execution_count": 13,
   "metadata": {},
   "outputs": [
    {
     "name": "stdout",
     "output_type": "stream",
     "text": [
      "N_features 5\n",
      "Support is [ True False False  True  True False False  True  True False False False\n",
      " False False]\n",
      "Ranking [ 1  9  8  1  1  6 10  1  1  3  2  7  5  4]\n",
      "Grid Scores [0.77055138 0.78507519 0.76454887 0.78557644 0.79057644 0.77981203\n",
      " 0.77478697 0.77978697 0.77978697 0.78454887 0.77978697 0.77978697\n",
      " 0.78005013 0.78005013]\n"
     ]
    }
   ],
   "source": [
    "from sklearn import model_selection,linear_model\n",
    "from sklearn.feature_selection import RFECV\n",
    "estimator = linear_model.LogisticRegression()\n",
    "selector = RFECV(estimator=estimator, cv=10)\n",
    "selector.fit(X_train, y_train)\n",
    "print(\"N_features %s\" % selector.n_features_)\n",
    "print(\"Support is %s\" % selector.support_)\n",
    "print(\"Ranking %s\" % selector.ranking_)\n",
    "print(\"Grid Scores %s\" % selector.grid_scores_)"
   ]
  }
 ],
 "metadata": {
  "kernelspec": {
   "display_name": "Python 3",
   "language": "python",
   "name": "python3"
  },
  "language_info": {
   "codemirror_mode": {
    "name": "ipython",
    "version": 3
   },
   "file_extension": ".py",
   "mimetype": "text/x-python",
   "name": "python",
   "nbconvert_exporter": "python",
   "pygments_lexer": "ipython3",
   "version": "3.6.4"
  }
 },
 "nbformat": 4,
 "nbformat_minor": 2
}
