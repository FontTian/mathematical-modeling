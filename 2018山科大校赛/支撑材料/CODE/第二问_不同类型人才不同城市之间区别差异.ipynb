{
 "cells": [
  {
   "cell_type": "code",
   "execution_count": 1,
   "metadata": {},
   "outputs": [
    {
     "data": {
      "text/plain": [
       "['销售人才', '技术研发人才', '教育科研', '其他', '金融从业者', '管理人员', '医疗', '服务售后', '技工人才']"
      ]
     },
     "execution_count": 1,
     "metadata": {},
     "output_type": "execute_result"
    }
   ],
   "source": [
    "import pandas as pd\n",
    "path = \"//home/font/Data/MM/JiNan/\"\n",
    "ppd_list = 'finalData.csv'\n",
    "df_lcis = pd.read_csv((path+ppd_list))\n",
    "\n",
    "# df_lcis2 = df_lcis.drop(['Q19_请问您的主要职业或者毕业之后将要成为的主要职业是什么'],axis=1)\n",
    "list(set(df_lcis['Q19_请问您的主要职业或者毕业之后将要成为的主要职业是什么']))"
   ]
  },
  {
   "cell_type": "code",
   "execution_count": 2,
   "metadata": {},
   "outputs": [
    {
     "name": "stderr",
     "output_type": "stream",
     "text": [
      "/home/font/anaconda3/lib/python3.6/site-packages/pandas/core/indexing.py:194: SettingWithCopyWarning: \n",
      "A value is trying to be set on a copy of a slice from a DataFrame\n",
      "\n",
      "See the caveats in the documentation: http://pandas.pydata.org/pandas-docs/stable/indexing.html#indexing-view-versus-copy\n",
      "  self._setitem_with_indexer(indexer, value)\n"
     ]
    }
   ],
   "source": [
    "df_lcis2 = df_lcis\n",
    "\n",
    "df_lcis2['Score'] = 0\n",
    "df_lcis2['Score'].loc[df_lcis['score']  == 3] = 1\n",
    "\n",
    "df_lcis2['Score'].loc[df_lcis['score']  == 4] = 1\n",
    "df_lcis2['Score'].loc[df_lcis['score']  == 5] = 1 \n",
    "\n",
    "df_lcis2['个人月收入'] = 0\n",
    "df_lcis2['个人月收入'].loc[df_lcis['Q4_个人月收入']  == '2001-3000元'] = 1 \n",
    "df_lcis2['个人月收入'].loc[df_lcis['Q4_个人月收入']  == '3001-5000元'] = 2\n",
    "df_lcis2['个人月收入'].loc[df_lcis['Q4_个人月收入']  == '5001-8000元'] = 3 \n",
    "df_lcis2['个人月收入'].loc[df_lcis['Q4_个人月收入']  == '8001-12000元'] = 4 \n",
    "df_lcis2['个人月收入'].loc[df_lcis['Q4_个人月收入']  == '12001-20000元'] = 5 \n",
    "df_lcis2['个人月收入'].loc[df_lcis['Q4_个人月收入']  == '20000元以上'] = 6 \n",
    "\n",
    "# df_lcis2 = df_lcis2[(df_lcis2['个人月收入'].isin([1,2,3,4,5,6]))]\n",
    "# df_lcis2 = df_lcis2[(df_lcis2['工作年限'].isin([2,3,4,5]))]\n",
    "df_lcis2 = df_lcis2.drop(['score','Q4_个人月收入','个人月收入','工作年限','sex','province','city'],axis=1)\n",
    "columns = df_lcis2.columns\n",
    "# df_lcis2 = df_lcis2.drop(['Q19_请问您的主要职业或者毕业之后将要成为的主要职业是什么'],axis=1)"
   ]
  },
  {
   "cell_type": "code",
   "execution_count": 3,
   "metadata": {},
   "outputs": [],
   "source": [
    "def Mychisquare(*data):\n",
    "    y_test,y_pre=data\n",
    "    import scipy \n",
    "    chisq, p=scipy.stats.chisquare(y_test,y_pre)  \n",
    "    print(\"    chisq----> %d,p值----> %d\"%(chisq,p)) \n",
    "\n",
    "def LogisticRegression_multinomial(*data):\n",
    "    from sklearn import linear_model\n",
    "    X_train,X_test,y_train,y_test,columns=data\n",
    "    regr = linear_model.LogisticRegression()\n",
    "    regr.fit(X_train, y_train)\n",
    "    y_pre = regr.predict(X_test)\n",
    "#     Mychisquare(y_test,y_pre)\n",
    "    print('\\n成绩为:\\n    Score: %.4f' % regr.score(X_test, y_test))\n",
    "    print('\\n权重与常量为:\\n    Coefficients:%s, \\n    intercept %s'%(regr.coef_,regr.intercept_))    \n",
    "    showCoef(regr.coef_,columns)\n",
    "        \n",
    "def showCoef(listCoef,columns): \n",
    "    print(\"\\n下面是各项指标的权重\")\n",
    "    for i in range(len(listCoef[0])):\n",
    "        print(\"    \",i,\" \",columns[i],\" : \",listCoef[0][i])\n",
    "    \n",
    "def testModel(list_Q19):\n",
    "    print(\"\\n对于\",\"与\".join(list_Q19),\"专业的人建模.结果如下:\\n\")\n",
    "    this_df_lcis = df_lcis2[(df_lcis2['Q19_请问您的主要职业或者毕业之后将要成为的主要职业是什么'].isin(list_Q19))]\n",
    "    this_df_lcis = this_df_lcis.drop(['Q19_请问您的主要职业或者毕业之后将要成为的主要职业是什么'],axis=1)\n",
    "    import numpy as np\n",
    "    from sklearn import preprocessing\n",
    "    this_X_train = np.array(this_df_lcis.drop([\"Score\"], axis=1).values)\n",
    "    this_y_train = np.array(this_df_lcis[\"Score\"].values)\n",
    "    LogisticRegression_multinomial(this_X_train,this_X_train,this_y_train,this_y_train,this_df_lcis.columns)"
   ]
  },
  {
   "cell_type": "code",
   "execution_count": 4,
   "metadata": {},
   "outputs": [
    {
     "name": "stdout",
     "output_type": "stream",
     "text": [
      "\n",
      "对于 技术研发人才与技工人才 专业的人建模.结果如下:\n",
      "\n",
      "\n",
      "成绩为:\n",
      "    Score: 0.8293\n",
      "\n",
      "权重与常量为:\n",
      "    Coefficients:[[ 0.54990658 -0.30909508 -0.10910876 -0.05670946 -0.31025821  0.52424784\n",
      "  -0.35813646  0.0998747  -0.1820007  -0.00802239  0.57847356  0.1066037\n",
      "  -0.69032703  0.84542537]], \n",
      "    intercept [-0.25377205]\n",
      "\n",
      "下面是各项指标的权重\n",
      "     0   基础设施建设  :  0.5499065780470035\n",
      "     1   生态环境  :  -0.30909508039096867\n",
      "     2   治安环境  :  -0.10910876102990144\n",
      "     3   产业发展  :  -0.05670945662259455\n",
      "     4   企业条件  :  -0.3102582123021517\n",
      "     5   职业发展  :  0.5242478448085145\n",
      "     6   收入水平  :  -0.3581364587124789\n",
      "     7   住房条件  :  0.09987469862656158\n",
      "     8   户籍政策  :  -0.18200069750930367\n",
      "     9   配偶就业  :  -0.008022389699526645\n",
      "     10   子女教育  :  0.578473564205712\n",
      "     11   生活成本  :  0.10660369766505104\n",
      "     12   交通状态  :  -0.6903270330221757\n",
      "     13   休闲娱乐  :  0.8454253686686752\n"
     ]
    }
   ],
   "source": [
    "testModel([\"技术研发人才\",\"技工人才\"])"
   ]
  },
  {
   "cell_type": "code",
   "execution_count": 5,
   "metadata": {},
   "outputs": [
    {
     "name": "stdout",
     "output_type": "stream",
     "text": [
      "\n",
      "对于 服务售后与金融从业者与销售人才与管理人员 专业的人建模.结果如下:\n",
      "\n",
      "\n",
      "成绩为:\n",
      "    Score: 0.8772\n",
      "\n",
      "权重与常量为:\n",
      "    Coefficients:[[ 0.35157789  0.39448102 -0.08237837  1.1285386  -0.92955148 -0.77896182\n",
      "   0.43783152 -0.9427769   0.67670462 -0.28764121  0.35275686  0.31624102\n",
      "  -0.33922859  0.27115818]], \n",
      "    intercept [0.41747961]\n",
      "\n",
      "下面是各项指标的权重\n",
      "     0   基础设施建设  :  0.3515778931592046\n",
      "     1   生态环境  :  0.39448102234563365\n",
      "     2   治安环境  :  -0.08237837318721501\n",
      "     3   产业发展  :  1.1285386014157008\n",
      "     4   企业条件  :  -0.9295514824878872\n",
      "     5   职业发展  :  -0.7789618169024444\n",
      "     6   收入水平  :  0.43783151737851755\n",
      "     7   住房条件  :  -0.9427768967969623\n",
      "     8   户籍政策  :  0.676704617501767\n",
      "     9   配偶就业  :  -0.2876412124893336\n",
      "     10   子女教育  :  0.3527568620783509\n",
      "     11   生活成本  :  0.3162410236636666\n",
      "     12   交通状态  :  -0.33922859023184737\n",
      "     13   休闲娱乐  :  0.2711581830121464\n"
     ]
    }
   ],
   "source": [
    "testModel(['服务售后', '金融从业者', '销售人才', '管理人员'])"
   ]
  },
  {
   "cell_type": "code",
   "execution_count": 6,
   "metadata": {},
   "outputs": [
    {
     "name": "stdout",
     "output_type": "stream",
     "text": [
      "\n",
      "对于 医疗与教育科研 专业的人建模.结果如下:\n",
      "\n",
      "\n",
      "成绩为:\n",
      "    Score: 0.9355\n",
      "\n",
      "权重与常量为:\n",
      "    Coefficients:[[-0.28788967 -0.36246864  0.62647228  0.53608838  0.17175149  0.75001108\n",
      "  -0.33516683 -0.48381811  1.39151672 -0.79499946  0.26548579 -0.2406161\n",
      "  -0.24646305 -0.66202336]], \n",
      "    intercept [0.1511037]\n",
      "\n",
      "下面是各项指标的权重\n",
      "     0   基础设施建设  :  -0.2878896747867079\n",
      "     1   生态环境  :  -0.3624686441255805\n",
      "     2   治安环境  :  0.6264722823726889\n",
      "     3   产业发展  :  0.536088382114354\n",
      "     4   企业条件  :  0.1717514922393601\n",
      "     5   职业发展  :  0.7500110804836814\n",
      "     6   收入水平  :  -0.3351668275882217\n",
      "     7   住房条件  :  -0.4838181081386292\n",
      "     8   户籍政策  :  1.3915167173605754\n",
      "     9   配偶就业  :  -0.7949994599747167\n",
      "     10   子女教育  :  0.2654857920503793\n",
      "     11   生活成本  :  -0.240616095766482\n",
      "     12   交通状态  :  -0.24646304788707593\n",
      "     13   休闲娱乐  :  -0.6620233582143559\n"
     ]
    }
   ],
   "source": [
    "testModel(['医疗', '教育科研'])"
   ]
  },
  {
   "cell_type": "code",
   "execution_count": 7,
   "metadata": {},
   "outputs": [
    {
     "name": "stdout",
     "output_type": "stream",
     "text": [
      "\n",
      "对于 其他 专业的人建模.结果如下:\n",
      "\n",
      "\n",
      "成绩为:\n",
      "    Score: 0.8750\n",
      "\n",
      "权重与常量为:\n",
      "    Coefficients:[[ 0.74906319  0.41211371  0.22779219  0.0831373  -0.65564424 -0.0439667\n",
      "   0.37432823 -0.6086919   0.02152366 -0.14389793  0.37956303 -0.76062062\n",
      "   0.2834467   0.35604476]], \n",
      "    intercept [-0.93407981]\n",
      "\n",
      "下面是各项指标的权重\n",
      "     0   基础设施建设  :  0.7490631891220751\n",
      "     1   生态环境  :  0.4121137099084628\n",
      "     2   治安环境  :  0.22779218924411518\n",
      "     3   产业发展  :  0.08313730300633031\n",
      "     4   企业条件  :  -0.6556442400827553\n",
      "     5   职业发展  :  -0.04396669768662016\n",
      "     6   收入水平  :  0.3743282336437419\n",
      "     7   住房条件  :  -0.6086918975908956\n",
      "     8   户籍政策  :  0.021523664821398444\n",
      "     9   配偶就业  :  -0.1438979322900345\n",
      "     10   子女教育  :  0.37956302846817525\n",
      "     11   生活成本  :  -0.7606206238561688\n",
      "     12   交通状态  :  0.2834466963073554\n",
      "     13   休闲娱乐  :  0.3560447581642928\n"
     ]
    }
   ],
   "source": [
    "testModel(['其他'])"
   ]
  },
  {
   "cell_type": "code",
   "execution_count": null,
   "metadata": {},
   "outputs": [],
   "source": []
  }
 ],
 "metadata": {
  "kernelspec": {
   "display_name": "Python 3",
   "language": "python",
   "name": "python3"
  },
  "language_info": {
   "codemirror_mode": {
    "name": "ipython",
    "version": 3
   },
   "file_extension": ".py",
   "mimetype": "text/x-python",
   "name": "python",
   "nbconvert_exporter": "python",
   "pygments_lexer": "ipython3",
   "version": "3.6.4"
  }
 },
 "nbformat": 4,
 "nbformat_minor": 2
}
