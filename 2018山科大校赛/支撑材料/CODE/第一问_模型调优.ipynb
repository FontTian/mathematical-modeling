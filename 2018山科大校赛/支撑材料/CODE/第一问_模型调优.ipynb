{
 "cells": [
  {
   "cell_type": "code",
   "execution_count": 1,
   "metadata": {},
   "outputs": [
    {
     "name": "stdout",
     "output_type": "stream",
     "text": [
      "['基础设施建设', '生态环境', '治安环境', '产业发展', '企业条件', '职业发展', '收入水平', '住房条件', '户籍政策', '配偶就业', '子女教育', '生活成本', '交通状态', '休闲娱乐', 'Score']\n"
     ]
    },
    {
     "name": "stderr",
     "output_type": "stream",
     "text": [
      "/home/font/anaconda3/lib/python3.6/site-packages/pandas/core/indexing.py:194: SettingWithCopyWarning: \n",
      "A value is trying to be set on a copy of a slice from a DataFrame\n",
      "\n",
      "See the caveats in the documentation: http://pandas.pydata.org/pandas-docs/stable/indexing.html#indexing-view-versus-copy\n",
      "  self._setitem_with_indexer(indexer, value)\n"
     ]
    }
   ],
   "source": [
    "import pandas as pd\n",
    "path = \"//home/font/Data/MM/JiNan/\"\n",
    "ppd_list = 'finalData.csv'\n",
    "df_lcis = pd.read_csv((path+ppd_list))\n",
    "\n",
    "df_lcis2 = df_lcis.drop(['Q19_请问您的主要职业或者毕业之后将要成为的主要职业是什么'],axis=1)\n",
    "\n",
    "df_lcis2['Score'] = 0\n",
    "df_lcis2['Score'].loc[df_lcis['score']  == 3] = 1\n",
    "\n",
    "df_lcis2['Score'].loc[df_lcis['score']  == 4] = 1\n",
    "df_lcis2['Score'].loc[df_lcis['score']  == 5] = 1 \n",
    "\n",
    "df_lcis2['个人月收入'] = 0\n",
    "df_lcis2['个人月收入'].loc[df_lcis['Q4_个人月收入']  == '2001-3000元'] = 1 \n",
    "df_lcis2['个人月收入'].loc[df_lcis['Q4_个人月收入']  == '3001-5000元'] = 2\n",
    "df_lcis2['个人月收入'].loc[df_lcis['Q4_个人月收入']  == '5001-8000元'] = 3 \n",
    "df_lcis2['个人月收入'].loc[df_lcis['Q4_个人月收入']  == '8001-12000元'] = 4 \n",
    "df_lcis2['个人月收入'].loc[df_lcis['Q4_个人月收入']  == '12001-20000元'] = 5 \n",
    "df_lcis2['个人月收入'].loc[df_lcis['Q4_个人月收入']  == '20000元以上'] = 6 \n",
    "\n",
    "# df_lcis2 = df_lcis2[(df_lcis2['个人月收入'].isin([1,2,3,4,5,6]))]\n",
    "# df_lcis2 = df_lcis2[(df_lcis2['province'].isin([1]))]\n",
    "df_lcis2 = df_lcis2.drop(['score','Q4_个人月收入','个人月收入','工作年限','sex','province','city'],axis=1)\n",
    "columns = df_lcis2.columns\n",
    "print(list(columns))"
   ]
  },
  {
   "cell_type": "code",
   "execution_count": 2,
   "metadata": {},
   "outputs": [
    {
     "name": "stdout",
     "output_type": "stream",
     "text": [
      "<class 'pandas.core.frame.DataFrame'>\n",
      "RangeIndex: 194 entries, 0 to 193\n",
      "Data columns (total 15 columns):\n",
      "基础设施建设    194 non-null int64\n",
      "生态环境      194 non-null int64\n",
      "治安环境      194 non-null int64\n",
      "产业发展      194 non-null int64\n",
      "企业条件      194 non-null int64\n",
      "职业发展      194 non-null int64\n",
      "收入水平      194 non-null int64\n",
      "住房条件      194 non-null int64\n",
      "户籍政策      194 non-null int64\n",
      "配偶就业      194 non-null int64\n",
      "子女教育      194 non-null int64\n",
      "生活成本      194 non-null int64\n",
      "交通状态      194 non-null int64\n",
      "休闲娱乐      194 non-null int64\n",
      "Score     194 non-null int64\n",
      "dtypes: int64(15)\n",
      "memory usage: 22.8 KB\n"
     ]
    }
   ],
   "source": [
    "df_lcis2.info()"
   ]
  },
  {
   "cell_type": "code",
   "execution_count": 3,
   "metadata": {},
   "outputs": [
    {
     "name": "stderr",
     "output_type": "stream",
     "text": [
      "/home/font/anaconda3/lib/python3.6/site-packages/sklearn/utils/validation.py:475: DataConversionWarning: Data with input dtype int64 was converted to float64 by the scale function.\n",
      "  warnings.warn(msg, DataConversionWarning)\n"
     ]
    }
   ],
   "source": [
    "import numpy as np\n",
    "from sklearn import preprocessing,model_selection,linear_model\n",
    "X_train = np.array(df_lcis2.drop([\"Score\"], axis=1).values)\n",
    "y_train = np.array(df_lcis2[\"Score\"].values)\n",
    "X_train = preprocessing.scale(X_train)"
   ]
  },
  {
   "cell_type": "code",
   "execution_count": 4,
   "metadata": {},
   "outputs": [
    {
     "name": "stdout",
     "output_type": "stream",
     "text": [
      "0.8088888888888889\n",
      "0.7864406779661015\n"
     ]
    },
    {
     "name": "stderr",
     "output_type": "stream",
     "text": [
      "/home/font/anaconda3/lib/python3.6/site-packages/sklearn/utils/deprecation.py:122: FutureWarning: You are accessing a training score ('train_score'), which will not be available by default any more in 0.21. If you need training scores, please set return_train_score=True\n",
      "  warnings.warn(*warn_args, **warn_kwargs)\n"
     ]
    }
   ],
   "source": [
    "cv_split = model_selection.ShuffleSplit(n_splits=10, test_size=.3, train_size=.7,random_state=0)\n",
    "cv_results = model_selection.cross_validate(linear_model.LogisticRegressionCV(), X_train, y_train, cv=cv_split)\n",
    "\n",
    "print(cv_results['train_score'].mean())\n",
    "print(cv_results['test_score'].mean())"
   ]
  },
  {
   "cell_type": "code",
   "execution_count": 5,
   "metadata": {},
   "outputs": [],
   "source": [
    "def Mychisquare(*data):\n",
    "    y_test,y_pre=data\n",
    "    import scipy \n",
    "    chisq, p=scipy.stats.chisquare(y_test,y_pre)\n",
    "    print(chisq, p)\n",
    "#     print(\"chisq----> %d,p值----> %d\"%(chisq,p)) \n",
    "\n",
    "def LogisticRegression_multinomial(*data):\n",
    "\n",
    "    X_train,X_test,y_train,y_test=data\n",
    "    regr = linear_model.LogisticRegression()\n",
    "    regr.fit(X_train, y_train)\n",
    "    y_pre = regr.predict(X_test)\n",
    "    Mychisquare(y_test,y_pre)\n",
    "    print('Score: %.4f' % regr.score(X_test, y_test))\n",
    "    print('Coefficients:%s, intercept %s'%(regr.coef_,regr.intercept_))    \n",
    "    showCoef(regr.coef_)\n",
    "        \n",
    "def showCoef(listCoef):   \n",
    "    print(\"下面是各项指标的权重\")\n",
    "    for i in range(len(listCoef[0])):\n",
    "        print(\"    \",i,\" \",df_lcis2.columns[i],\" : \",listCoef[0][i])\n",
    "    print(\"\\nREFCV属性筛选---->all\")\n",
    "    f = listCoef[0][3]*31.7\n",
    "    print(\"\\n以公共财政收入同比增长为标准,济南市高新区放管服改革对人才的吸引力增加了百分之 %.3f\"%f)"
   ]
  },
  {
   "cell_type": "code",
   "execution_count": 6,
   "metadata": {},
   "outputs": [
    {
     "name": "stdout",
     "output_type": "stream",
     "text": [
      "nan nan\n",
      "Score: 0.8196\n",
      "Coefficients:[[ 0.47167657 -0.12308518  0.10521198  0.6029777  -0.78734348  0.25326056\n",
      "   0.04191095 -0.63938471  0.45132613 -0.33998561  0.63500682 -0.04903885\n",
      "  -0.18470442  0.37656807]], intercept [1.5050554]\n",
      "下面是各项指标的权重\n",
      "     0   基础设施建设  :  0.4716765651093393\n",
      "     1   生态环境  :  -0.12308517707168777\n",
      "     2   治安环境  :  0.10521198444922217\n",
      "     3   产业发展  :  0.602977697812028\n",
      "     4   企业条件  :  -0.7873434820411697\n",
      "     5   职业发展  :  0.2532605603049422\n",
      "     6   收入水平  :  0.04191095398779936\n",
      "     7   住房条件  :  -0.639384711658436\n",
      "     8   户籍政策  :  0.45132612595484256\n",
      "     9   配偶就业  :  -0.33998560634442\n",
      "     10   子女教育  :  0.6350068174251023\n",
      "     11   生活成本  :  -0.04903884697476989\n",
      "     12   交通状态  :  -0.1847044236832664\n",
      "     13   休闲娱乐  :  0.37656807366972667\n",
      "\n",
      "REFCV属性筛选---->all\n",
      "\n",
      "以公共财政收入同比增长为标准,济南市高新区放管服改革对人才的吸引力增加了百分之 19.114\n"
     ]
    },
    {
     "name": "stderr",
     "output_type": "stream",
     "text": [
      "/home/font/anaconda3/lib/python3.6/site-packages/scipy/stats/stats.py:4554: RuntimeWarning: divide by zero encountered in true_divide\n",
      "  terms = (f_obs - f_exp)**2 / f_exp\n",
      "/home/font/anaconda3/lib/python3.6/site-packages/scipy/stats/stats.py:4554: RuntimeWarning: invalid value encountered in true_divide\n",
      "  terms = (f_obs - f_exp)**2 / f_exp\n"
     ]
    }
   ],
   "source": [
    "LogisticRegression_multinomial(X_train,X_train,y_train,y_train)"
   ]
  },
  {
   "cell_type": "code",
   "execution_count": null,
   "metadata": {},
   "outputs": [],
   "source": []
  }
 ],
 "metadata": {
  "kernelspec": {
   "display_name": "Python 3",
   "language": "python",
   "name": "python3"
  },
  "language_info": {
   "codemirror_mode": {
    "name": "ipython",
    "version": 3
   },
   "file_extension": ".py",
   "mimetype": "text/x-python",
   "name": "python",
   "nbconvert_exporter": "python",
   "pygments_lexer": "ipython3",
   "version": "3.6.4"
  }
 },
 "nbformat": 4,
 "nbformat_minor": 2
}
